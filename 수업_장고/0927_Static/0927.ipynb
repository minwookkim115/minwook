{
 "cells": [
  {
   "cell_type": "markdown",
   "metadata": {},
   "source": [
    "static\n",
    "- static태그는 built-int tag가 아니라서 가져와야함."
   ]
  },
  {
   "cell_type": "markdown",
   "metadata": {},
   "source": [
    "Media Files\n",
    "- 사용자가 웹에서 업로드하는 정적 파일"
   ]
  },
  {
   "cell_type": "markdown",
   "metadata": {},
   "source": [
    "1. 성능 및 DB 최적화\n",
    "- 직접 파일을 저장하면 DB 크기가 급격하게 증가\n",
    "    - 성능저하\n",
    "    - 파일 자체는 파일시스템에 별도로 저장\n",
    "    - DB에는 그 파일에대한 문자열 경로만\n",
    "2. 유지 보수 관점\n",
    "- 만약 DB에 직접 파일을 저장해버리면 파일을 변경하거나 업데이트 할 때 DB를 직접 조작해야함\n",
    "- 그런데 DB에 경로만 저장되어있다면 파일시스템에서만 파일을 수정하면 됨"
   ]
  }
 ],
 "metadata": {
  "language_info": {
   "name": "python"
  },
  "orig_nbformat": 4
 },
 "nbformat": 4,
 "nbformat_minor": 2
}
