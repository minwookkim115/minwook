{
 "cells": [
  {
   "cell_type": "markdown",
   "metadata": {},
   "source": [
    "회원가입\n",
    "- 로그인은 세션 만드는 과정 / 회원가입은 User 객체를 Create 하는 과정"
   ]
  },
  {
   "cell_type": "markdown",
   "metadata": {},
   "source": [
    "UserCreationForm()\n",
    "- 회원 가입시 사용자 입력 데이터를 받을 built-in ModleForm(모델폼은 DB저장)"
   ]
  },
  {
   "cell_type": "markdown",
   "metadata": {},
   "source": [
    "get_user_model()\n",
    "- 현재 프로젝트에서 **활성화된 사용자 모델**을 반환하는 함수\n",
    "\n",
    "**User 모델을 직접 참조하지 않는** 이유\n",
    "- get_user_model()을 사용해 User 모델을 참조하면 커스텀 User모델을 자동으로 반환해 주기 때문\n",
    "- User모델의 변경사항이 생길때 직접 참조 했을 때느 직접 다 찾아서 바꿔줘야함\n",
    "- get_user_model()을 활용하면 변경사항이 생기거나 클래스의 이름이 바뀌는 상황이 벌어져도 일일이 바꿀 필요가 없다\n",
    "- => 자동으로 현재 프로젝트에 활성화 된 User객체를 리턴하기 때문"
   ]
  },
  {
   "cell_type": "markdown",
   "metadata": {},
   "source": [
    "회원 탈퇴\n",
    "- 로그아웃은 세션을 지운다 / 탈퇴는 User 객체를 Delete"
   ]
  },
  {
   "cell_type": "markdown",
   "metadata": {},
   "source": [
    "회원 정보 수정\n",
    "- 일반 사용자들이 접근 하면 안되는 필드도 나와버림\n",
    "- CustomUserChangoForm에서 필드를 조정해줌"
   ]
  },
  {
   "cell_type": "markdown",
   "metadata": {},
   "source": [
    "비밀번호 변경\n",
    "PasswordChangeForm\n",
    "- 얘는 Form이다 -> DB에 저장 X\n",
    "- why? -> 기존의 Session 데이터를 Update를 하는 과정, 저장이 아님"
   ]
  },
  {
   "cell_type": "markdown",
   "metadata": {},
   "source": [
    "로그인 사용자에 대해 접근을 제한하는 방법\n",
    "- is_authenticated 속성\n",
    "- login_required 데코레이터"
   ]
  },
  {
   "cell_type": "markdown",
   "metadata": {},
   "source": [
    "is_authenticated\n",
    "- 사용자가 인증 되었는지 여부를 알 수 있는 User model의 속성\n",
    "- True면 인증된 사용자 False면 인증되지 않은 사용자"
   ]
  }
 ],
 "metadata": {
  "language_info": {
   "name": "python"
  },
  "orig_nbformat": 4
 },
 "nbformat": 4,
 "nbformat_minor": 2
}
