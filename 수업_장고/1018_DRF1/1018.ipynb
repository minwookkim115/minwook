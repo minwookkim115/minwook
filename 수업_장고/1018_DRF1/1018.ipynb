{
 "cells": [
  {
   "cell_type": "markdown",
   "metadata": {},
   "source": [
    "API => Application Programming Interface(소통)\n",
    "- 애플리케이션과 프로그래밍으로 소통하는 방법\n",
    "- GUI 는 그래픽으로 소통하는거"
   ]
  },
  {
   "cell_type": "markdown",
   "metadata": {},
   "source": [
    "API란\n",
    "- 냉장고에 전기를 공급해야 한다고 가정\n",
    "- 우리는 그냥 냉장고 플러그만 꽂으면 제품 작동함\n",
    "- 그런데 우리가 직접 가전제품을 위해 배선을 하지는 않는다.\n",
    "- => 복잡한 코드를 추상화 하여 대신 사용할 수 있는 몇가지 더 쉬운 구문을 제공한다."
   ]
  },
  {
   "cell_type": "markdown",
   "metadata": {},
   "source": [
    "Web API\n",
    "- 웹 서버 또는 웹 브라우저를 위한 API\n",
    "- 현대 웹 개발은 직접 개발보단 여러 OPEN API를 사용한다\n",
    "- 대표적인 Third Party Open API\n",
    "    - Youtube API\n",
    "    - Google Map API\n",
    "    - Naver Papago API\n",
    "    - Kakao Map API"
   ]
  },
  {
   "cell_type": "markdown",
   "metadata": {},
   "source": [
    "REST\n",
    "- Respresentational State Transfer\n",
    "- API Server를 개발하기 위한 일종의 소프트웨어 설계 방법론"
   ]
  },
  {
   "cell_type": "markdown",
   "metadata": {},
   "source": [
    "RESTful API\n",
    "- REST 원리를 따르는 시스템을 RESTful 하다고 부름\n",
    "- 자원을 정의하고 자원에 대한 주소를 지정하는 전반적인 방법을 서술\n",
    "- 각각 API 구조를 작성하는 모습이 너무 다르니 약속을 만들어서 다같이 통일해서 쓰자!"
   ]
  },
  {
   "cell_type": "markdown",
   "metadata": {},
   "source": [
    "REST API\n",
    "- REST라는 설계 디자인 약속을 지켜 구현한 API"
   ]
  },
  {
   "cell_type": "markdown",
   "metadata": {},
   "source": [
    "REST에서 자원을 정의하고 주소를 지정하는 방법\n",
    "1. 자원의 식별\n",
    "    - URI\n",
    "2. 자원의 행위\n",
    "    - HTTP Methods\n",
    "3. 자원의 표현\n",
    "    - JSON 데이터\n",
    "    - 궁극적으로 표현되는 데이터 결과물"
   ]
  },
  {
   "cell_type": "markdown",
   "metadata": {},
   "source": [
    "자원의 식별\n",
    "- URI(Uniform Resource Identifier) / 통합 자원 식별자\n",
    "    - 인터넷에서 리소스(자원)를 식별하는 문자열\n",
    "    - 가장 일반적인 URI는 웹 주소로 알려진 URL\n",
    "- URL(Unifrom Resource Locator) / 통합 자원 위치\n",
    "    - 웹에서 주어진 리소스의 주소\n",
    "    - 네트위크 상에 리소스가 어디 있는지를 알려주기 위한 약속"
   ]
  },
  {
   "cell_type": "markdown",
   "metadata": {},
   "source": [
    "Schema (or Protocol)\n",
    "- 브라우저가 리소스를 요청하는데 사용해야 하는 규약\n",
    "- URL의 첫 부분은 브라우저가 어떤 규약을 사용하는지를 나타냄\n",
    "- 기본적으로 웹은 HTTP(S)를 요구\n",
    "- 메일을 열기위한 mailto:, 파일전송위한 ftp:등 다른 프로토콜도 존재"
   ]
  },
  {
   "cell_type": "markdown",
   "metadata": {},
   "source": [
    "Domain Name\n",
    "- 요청중인 웹 서버를 나타냄\n",
    "- 어떤 웹 서버가 요구되는 지를 가리킴\n",
    "- 직접 IP주소를 사용하는 것도 가능하지만, 사람이 외우기 어려워서 Domain Name 사용\n",
    "- ex) google.com의 IP주소는 142.251.42.142"
   ]
  },
  {
   "cell_type": "markdown",
   "metadata": {},
   "source": [
    "Port\n",
    "- 웹 서버의 리소스에 접근하는데 사용되는 기술적인 문(Gate)\n",
    "- HTTP 프로토콜의 표준 포트\n",
    "    - HTTP - 80 / ex) 8000 이면 80에 00으로 보냄 / 장고할때 8000으로 뜨잖아\n",
    "    - HTTPS - 443\n",
    "- 표준 포트만 생략 가능"
   ]
  },
  {
   "cell_type": "markdown",
   "metadata": {},
   "source": [
    "Path\n",
    "- 웹 서버의 리소스 경로\n",
    "- 옛날엔 실제 파일이 위치한 물리적 위치 였다\n",
    "- 요즘엔 실제 위치가 아닌 추상화된 형태의 구조를 표현한다.\n",
    "- ex) articles/create/가 실제 articles폴더안에 create폴더안을 나타내는 것이 아님"
   ]
  },
  {
   "cell_type": "markdown",
   "metadata": {},
   "source": [
    "Parameters / GET을 했을 때 / 검색 할 때\n",
    "- 웹 서버에 제공하는 추가적인 데이터\n",
    "- & 기호로 구분되는 key-value 쌍 목록\n",
    "- 서버는 리소스를 응답하기 전에 파라미터를 사용하여 추가 작업을 수행 가능"
   ]
  },
  {
   "cell_type": "markdown",
   "metadata": {},
   "source": [
    "Anchor\n",
    "- 일종의 북마크를 나타내며 브라우저 해당지점에 있는 콘텐츠 표시\n",
    "- fragment identifer(부분 식별자)라고 부르는 #이후 부분은 서버에 전송 X\n",
    "- 문서의 정확한 위치를 지정할 수 있도록 하는 것\n",
    "- ex) 부트스트랩에서 # 누르면 딱 그 화면에서 멈춤"
   ]
  },
  {
   "cell_type": "markdown",
   "metadata": {},
   "source": [
    "자원의 행위\n",
    "- HTTP Request Methods\n",
    "    - 리소스에 대한 행위(수행하고자 하는 동작)를 정의\n",
    "    - HTTP verbs 라고도 함\n",
    "- GET\n",
    "    - 서버에 리소스 표현 요청\n",
    "    - GET을 사용하는 요청은 데이터 검색만 가능\n",
    "    - 조회(C)\n",
    "- POST\n",
    "    - 데이터를 지정된 리소스에 제출\n",
    "    - 서버의 상태를 변경\n",
    "    - 생성(R)\n",
    "- PUT\n",
    "    - 요청한 주소의 리소스 수정\n",
    "    - 수정(U)\n",
    "- DELETE\n",
    "    - 지정된 리소스 삭제\n",
    "    - 삭제(D)"
   ]
  },
  {
   "cell_type": "markdown",
   "metadata": {},
   "source": [
    "HTTP response status codes\n",
    "- 특정 HTTP 요청이 성공적으로 완료 되었는지 여부\n",
    "- 5개의 응답 그룹\n",
    "    - Informational responses(100-199)\n",
    "    - Successful responses(200-299)\n",
    "    - Redirection responses(300-399)\n",
    "    - Client error responses(400-499)\n",
    "    - Server error responses(500-599)"
   ]
  },
  {
   "cell_type": "markdown",
   "metadata": {},
   "source": [
    "자원의 표현\n",
    "- 그동안 서버가 응답(자원을 표현)했던 것\n",
    "    - 지금까지 Django 서버는 사용자에게 페이지(html)만 응답하고 있었다.\n",
    "    - 하지만 서버는 페이지뿐만 아니라 다양한 데이터 타입 응답가능\n",
    "    - REST API는 이중에서도 JSON 타입으로 응답하는 것을 권장"
   ]
  },
  {
   "cell_type": "markdown",
   "metadata": {},
   "source": [
    "응답 데이터 타입의 변화\n",
    "- Client(우리) -> SERVER로 보내면 -> SEVER에서 페이지만 줌\n",
    "    - 문제가 머냐\n",
    "    - render함수 / 페이지를 계속 보내주니까 페이지가 새로고침 된다.\n",
    "    - 좋아요 눌렀을 때 그자리에 멈춰 있어야 하는데 걍 페이지 메인으로 가버림\n",
    "- Client(우리) -> SERVER로 보내면 -> SEVER에서 이제 JSON을 준다\n",
    "    - 우리가 어캐 화면으로 봐야되나\n",
    "    - JSON은 key-value형태로 되어있다.\n",
    "    - 프론트엔드 프레임워크가 그걸 바까준다.\n",
    "    - 이제야 장고가 템플릿 없는 백엔드로 가버린다~!\n",
    "- 이제는 Django로 RESTful API 서버를 구축할 거다 이말이야"
   ]
  },
  {
   "cell_type": "markdown",
   "metadata": {},
   "source": [
    "Django REST frameword(DRF)\n",
    "- Django 에서 Restful API 서버를 쉽게 구축할 수 있도록 도와주는 오픈소스 라이브러리"
   ]
  },
  {
   "cell_type": "markdown",
   "metadata": {},
   "source": [
    "Serialization(직렬화)\n",
    "- 여러 시스템에서 활용하기 위해 데이터 구조나 객체 상태를 나중에 재구성할 수 있는 포맷으로 변환하는 과정\n",
    "- 어떠한 언어나 환경에서도 나중에 다시 쉽게 사용할 수 있는 포맷으로 변환\n",
    "- 쿼리셋 결과를 articles라는 변수에 담고\n",
    "- articles를 클래스 인자로 넣어서 다른 결과로 바꿔줌\n",
    "- why? 여러 시스템에서 활용하기 위해\n",
    "- ex)\n",
    "    - 데이터 구조나 객체를 나중에 재구성할 수 있는(리스트나 딕셔너리) 포맷으로 변환\n",
    "    - 우리는 JSON으로 하는데 다양한 운영체제, 언어에서 사용하게 바꿀수 있도록 한다.\n",
    "    - 쿼리셋 => serialization 해서 다른 곳에서 쓸 수 있도록"
   ]
  },
  {
   "cell_type": "markdown",
   "metadata": {},
   "source": [
    "구글에서 django rest framework => 공식문서"
   ]
  }
 ],
 "metadata": {
  "language_info": {
   "name": "python"
  }
 },
 "nbformat": 4,
 "nbformat_minor": 2
}
