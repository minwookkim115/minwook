{
 "cells": [
  {
   "cell_type": "markdown",
   "metadata": {},
   "source": [
    "Django Template system\n",
    "- 데이터 표현을 제어하면서, 표현과 관련된 부분을 담당"
   ]
  },
  {
   "cell_type": "markdown",
   "metadata": {},
   "source": [
    "DTL(Django Template Language)\n",
    "- Template에서 조건, 반복, 변수등의 프로그래밍적 기능을 제공하는 시스템"
   ]
  },
  {
   "cell_type": "markdown",
   "metadata": {},
   "source": [
    "Variable\n",
    "- rendr 함수의 세번째 인자로 딕셔너리 데이터 사용\n",
    "- 딕셔너리 key에 해당하는 문자열이 template에서 사용 가능한 변수명이 됨\n",
    "- dot을 사용하여 변수 속성에 접근 가능\n",
    "- {{ variable }}"
   ]
  },
  {
   "cell_type": "markdown",
   "metadata": {},
   "source": [
    "Filters\n",
    "- 표시할 변수를 수정할 때 사용\n",
    "- chained가 가능하며 일부 필터는 인자로 받기도 함\n",
    "- {{ variable|filter }}\n",
    "- {{ name|truncatewords:30 }} => 30까지 자르는거"
   ]
  },
  {
   "cell_type": "markdown",
   "metadata": {},
   "source": [
    "Tags\n",
    "- 반복 또는 논리를 수행하여 제어 흐름을 만듬\n",
    "- 일부 태그는 시작과 종료 태그 필요\n",
    "- {% tag %}\n",
    "- {% if %} {% endif %}"
   ]
  },
  {
   "cell_type": "markdown",
   "metadata": {},
   "source": [
    "Comments\n",
    "- 주석\n",
    "- ctrl + /\n",
    "- {% comment %} {% endcomment %}"
   ]
  },
  {
   "cell_type": "markdown",
   "metadata": {},
   "source": [
    "템플릿 상속\n",
    "- 페이지의 **공통요소**를 포함하고\n",
    "- 하위템플릿이 재정의 할 수 있는 **공간**을 정의하는\n",
    "- 기본 스켈레톤 템플릿을 작성하여 상속 구조를 구축"
   ]
  },
  {
   "cell_type": "markdown",
   "metadata": {},
   "source": [
    "'extends' tag\n",
    "- 제일 위에 있어야함\n",
    "- 자식 템플릿이 부모 템플릿을 확장한다\n",
    "- {% extends 'path %}"
   ]
  },
  {
   "cell_type": "markdown",
   "metadata": {},
   "source": [
    "'block' tag\n",
    "- 하위 템플릿에서 재정의 할 수 있는 블록을 정의\n",
    "- {% block name %} {% endblock name %}"
   ]
  },
  {
   "cell_type": "markdown",
   "metadata": {},
   "source": [
    "'form' element\n",
    "- 사용자로부터 할당된 데이터를 서버로 전송\n",
    "- 웹에서 사용자 정보를 입력하는 여러 방식을 제공\n",
    "- ex) text, password, checkbox"
   ]
  },
  {
   "cell_type": "markdown",
   "metadata": {},
   "source": [
    "form\n",
    "- 'action' & 'method'\n",
    "    - 데이터를 어디(action)로 어떻게(method) 보낼지"
   ]
  },
  {
   "cell_type": "markdown",
   "metadata": {},
   "source": [
    "'input' element\n",
    "- 데이터를 입력 받을 수 있는 요소\n",
    "- type 속성 값에 따라 다양한 입력 데이터 받음"
   ]
  },
  {
   "cell_type": "markdown",
   "metadata": {},
   "source": [
    "'name' attirbute\n",
    "- input의 핵심 속성\n",
    "- 입력한 데이터에 붙이는 이름(key)"
   ]
  },
  {
   "cell_type": "markdown",
   "metadata": {},
   "source": [
    "Query String Parameters\n",
    "- 입력 데이터를 URL 주소에 파라미터를 통해 서버로 보내는 방법\n",
    "- &로 연결된 key=value 쌍으로 구성 (두개입력하면)\n",
    "- ?로 URL과 구분"
   ]
  },
  {
   "cell_type": "markdown",
   "metadata": {},
   "source": [
    "Django URLs\n",
    "- urls가 사용자로 부터 요청을 받고\n",
    "- views로 ㄱㄱ"
   ]
  },
  {
   "cell_type": "markdown",
   "metadata": {},
   "source": [
    "URL dispatcher\n",
    "- URL 패턴을 정의하고\n",
    "- 해당 패턴이 일치하는 요청을 처리할 view함수를 연결(매핑)"
   ]
  },
  {
   "cell_type": "markdown",
   "metadata": {},
   "source": [
    "url 문제\n",
    "- 게시판을 만든다고 하면\n",
    "- 많은 부분이 중복됨 / url의 일부만 변경됨"
   ]
  },
  {
   "cell_type": "markdown",
   "metadata": {},
   "source": [
    "Variable Routing\n",
    "- URL 일부에 변수를 포함시키는 것"
   ]
  },
  {
   "cell_type": "markdown",
   "metadata": {},
   "source": [
    "Variable Routing 작성법\n",
    "- <path_converter:vaiable_name>\n",
    "\n",
    "- path('articles/<int:num>/, views.detail)"
   ]
  },
  {
   "cell_type": "markdown",
   "metadata": {},
   "source": [
    "App URL mapping\n",
    "- 프로젝트와 각 앱이 URL을 나누어 관리하기 편하게"
   ]
  },
  {
   "cell_type": "markdown",
   "metadata": {},
   "source": []
  }
 ],
 "metadata": {
  "language_info": {
   "name": "python"
  },
  "orig_nbformat": 4
 },
 "nbformat": 4,
 "nbformat_minor": 2
}
