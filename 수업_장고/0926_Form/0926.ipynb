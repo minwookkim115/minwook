{
 "cells": [
  {
   "cell_type": "markdown",
   "metadata": {},
   "source": [
    "HTML form태그\n",
    "- 사용자로부터 받은 데이터가 악의적인 데이터 인지 필터링 불가\n",
    "- 유효한 데이터인지 확인 필요 => 유효성 검사"
   ]
  },
  {
   "cell_type": "markdown",
   "metadata": {},
   "source": [
    "유효성 검사 구현\n",
    "- 입력 값, 형식, 중복, 보안 등의 많은 것을 고려해야함\n",
    "- 그래서 장고가 Form클래스로 제공 해줌"
   ]
  },
  {
   "cell_type": "markdown",
   "metadata": {},
   "source": [
    "Django Form\n",
    "- 사용자의 입력데이터를 수집 처리 및 유효성 검사를 수행하는 도구"
   ]
  },
  {
   "cell_type": "markdown",
   "metadata": {},
   "source": [
    "Widget\n",
    "- html input의 표현값(css처럼)을 바꾸는 역할"
   ]
  },
  {
   "cell_type": "markdown",
   "metadata": {},
   "source": [
    "Form 과 ModelForm\n",
    "- Form은 사용자 입력데이터를 DB에 저장하지 않을때 => 로그인\n",
    "- ModelForm은 사용자 입력 데이터를 DB에 저장해야 할때 => 게시글, 회원가입\n",
    "- 별도로 명시하지 않았지만 기본적으로 빈 값은 허용되지 않음\n",
    "- => is_valid에서 걸려가지고"
   ]
  },
  {
   "cell_type": "markdown",
   "metadata": {},
   "source": [
    "Handling HTTP requests\n",
    "- new & create view함수간 공통점과 차이점\n",
    "    - 공통점: 같은 목적(게시글 생성)\n",
    "    - 차이점: new는 템플릿만 렌더링 / create는 DB생성\n",
    "    - new는 조회만 / create는 생성\n",
    "    - 조회를 위한 HTTP메서드는 GET / 생성을 위한 HTTP메서드는 POST\n",
    "    - new랑 create함수를 합칠수 있지 않을까?\n",
    "- "
   ]
  }
 ],
 "metadata": {
  "language_info": {
   "name": "python"
  },
  "orig_nbformat": 4
 },
 "nbformat": 4,
 "nbformat_minor": 2
}
