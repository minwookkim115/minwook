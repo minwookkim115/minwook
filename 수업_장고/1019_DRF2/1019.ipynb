{
 "cells": [
  {
   "cell_type": "markdown",
   "metadata": {},
   "source": [
    "API 문서화\n",
    "- OpenAPI Specification(OAS)\n",
    "- 우리가 만든 API를 어캐 써야하는지 설명해주는 문서를 만듬"
   ]
  },
  {
   "cell_type": "markdown",
   "metadata": {},
   "source": [
    "get_object_or_404()\n",
    "- 모델 manager objects에서 get()을 호출하는데\n",
    "- 객체가 없을땐 DoesNotExist 대신 http404 출력\n",
    "- article = Article.objects.get(pk=article_pk)\n",
    "- => article = get_object_or_404(Article, pk=article_pk) 로 사용"
   ]
  },
  {
   "cell_type": "markdown",
   "metadata": {},
   "source": [
    "get_list_or_404()\n",
    "- 모델 manager objects에서 filter()의 결과를 반환\n",
    "- 객체가 없을 땐 http404 출력\n",
    "- article = Article.objects.all()\n",
    "- => article = get_list_or_404(Article) 로 사용\n"
   ]
  }
 ],
 "metadata": {
  "language_info": {
   "name": "python"
  }
 },
 "nbformat": 4,
 "nbformat_minor": 2
}
