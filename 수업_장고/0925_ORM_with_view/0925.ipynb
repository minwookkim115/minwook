{
 "cells": [
  {
   "cell_type": "markdown",
   "metadata": {},
   "source": [
    "GET은 R\n",
    "POST는 CUD\n",
    "- 보내고 redirect(articles:내가가고싶은곳)\n",
    "- 장고가 CSRF토큰을 씀\n",
    "- 이 토큰이 같이 와야 넘겨줄 수 있음\n",
    "- 같이 안오면 내가 만든 사이트에서 온게 아니다."
   ]
  }
 ],
 "metadata": {
  "language_info": {
   "name": "python"
  },
  "orig_nbformat": 4
 },
 "nbformat": 4,
 "nbformat_minor": 2
}
