{
 "cells": [
  {
   "cell_type": "markdown",
   "metadata": {},
   "source": [
    "HTTP\n",
    "- HTML 문서와 같은 리소스들을 가져올 수 있도록 해주는 규약\n",
    "- 웹(www)에서 이루어지는 모든 데이터 교환의 기초"
   ]
  },
  {
   "cell_type": "markdown",
   "metadata": {},
   "source": [
    "HTTP 특징\n",
    "- 비 연결 지향 : 서버는 요청에 대한 응답을 보낸 후 연결을 끊음\n",
    "- 무상태 : 연결을 끊는 순간 클라이언트와 서버 간의 통신이 끝나서 상태정보가 없음\n",
    "    - 장바구니에 담은 상품을 유지할 수 없음\n",
    "    - 로그인 상태를 유지할 수 없음\n",
    "    - 다른 페이지 넘어갈 때 상태가 유지가 안됨\n",
    "    - so 쿠키가 필요"
   ]
  },
  {
   "cell_type": "markdown",
   "metadata": {},
   "source": [
    "쿠키\n",
    "- 서버가 사용자의 웹 브라우저에 전송하는 작은 데이터 조각\n",
    "- 클라이언트(브라우저)에서 저장되는 작은 데이터 파일\n",
    "- 사용자 인증, 추적, 상태 유지 등에 사용됨\n",
    "- 처음엔 서버로 부터 받고, 다음요청부터 저장된거 사용"
   ]
  },
  {
   "cell_type": "markdown",
   "metadata": {},
   "source": [
    "쿠키 작동 방식\n",
    "- 브라우저가 서버에게 웹페이지 주라고 요청\n",
    "- 서버가 브라우저한테 페이지 주면서 쿠키를 같이줌\n",
    "- 브라우저가 같은 서버에 다른 페이지에 요청을 보낼 때 쿠키를 다시 사용"
   ]
  },
  {
   "cell_type": "markdown",
   "metadata": {},
   "source": [
    "쿠키 사용 원리\n",
    "- 브라우저(클라이언트)는 쿠키를 KEY-VALUE의 데이터 형식으로 저장\n",
    "- 저장해 둔 쿠키를 동일한 서버에 재요청 시 저장된 쿠키를 함께 전송\n",
    "- 두 요청이 동일한 브라우저에서 들어왔는지 아닌지를 판단할 때 주로 사용\n",
    "    - 이를 사용해 사용자의 로그인 상태를 유지\n",
    "    - 매 요청마다 로그인했다는 상태의 쿠키를 계속 보냄\n",
    "\n",
    "대표적 예시\n",
    "- 장바구니 담기\n",
    "    - 장바구니에 담아 놨다는 상태의 쿠키를 계속 요청 보내야함"
   ]
  },
  {
   "cell_type": "markdown",
   "metadata": {},
   "source": [
    "쿠키 사용 목적\n",
    "- 세션 관리\n",
    "    - 상태를 유지하기 위한 것 : 로그인, 자동완성, 공지 하루 안보기, 장바구니 등\n",
    "- 개인화\n",
    "    - 사용자 선호, 테마 등 설정\n",
    "    - 우리가 쿠팡에서 물을 봤다하면 다른 물 메이커 보여줌\n",
    "- 트래킹\n",
    "    - 사용자 행독을 기록 및 분석\n",
    "    - 우리가 쿠팡에서 물을 봤다하면 다른 물 메이커 보여줌"
   ]
  },
  {
   "cell_type": "markdown",
   "metadata": {},
   "source": [
    "세션\n",
    "- 서버 측에서 생성 되어 클라이언트와 서버 간의 상태를 유지\n",
    "- 상태 정보를 저장하는 데이터 저장 방식\n",
    "- 쿠키에 세션 데이터를 저장하여 매 요청시마다 세션 데이터를 함께 보냄"
   ]
  },
  {
   "cell_type": "markdown",
   "metadata": {},
   "source": [
    "세션 작동 원리\n",
    "- 클라이언트가 로그인 하면 서버가 session데이터를 생성 후 저장\n",
    "- 생성된 session 데이터에 인증 할 수 있는 session id(KEY)를 발급\n",
    "- 발급한 session id를 클라이언트에게 줌\n",
    "- 클라이언트는 받은 session id를 쿠키에 저장\n",
    "- 클라이언트가 동일한 서버에 요청 할 때 쿠키(session id가 저장된)를 같이 요청\n",
    "- 쿠키는 요청 때 마다 서버에 전송 되니까 로그인 계속 하고 있음"
   ]
  },
  {
   "cell_type": "markdown",
   "metadata": {},
   "source": [
    "Django Authentications System(인증시스템)\n",
    "- 사용자 인증과 관련된 기능을 모아 놓은 시스템\n",
    "Authentications(인증)\n",
    "- 사용자가 자신이 누구인지 확인하는 것(신원확인)"
   ]
  },
  {
   "cell_type": "markdown",
   "metadata": {},
   "source": [
    "Custom User model\n",
    "- 장고가 기본적으로 제공하는 user모델은 내장된 auth앱의 User 클래스를 사용\n",
    "- so Custom User model로 대체 할거야\n",
    "- why?\n",
    "- 개발자가 직접 수정할 수가 없어\n",
    "- ex) 기본은 username인데 email로 로그인 하는 곳들이 있음\n",
    "- ※ 프로젝트 중간에 AUTH_USER_MODEL을 바꿀 수 없다."
   ]
  },
  {
   "cell_type": "markdown",
   "metadata": {},
   "source": [
    "Login\n",
    "- session을 Create하는 과정\n",
    "AuthenticationsForm()\n",
    "- 인증을 받아야 하니까 이걸 씀\n",
    "- 회원가입은 데이터 저장 해야하니까 ModelForm\n",
    "- Form은 데이터저장 안함"
   ]
  },
  {
   "cell_type": "markdown",
   "metadata": {},
   "source": [
    "Logout\n",
    "- session을 Delete하는 과정\n",
    "- logout(request)\n",
    "    - 현재 요청에 대한 session data를 db에서 삭제\n",
    "    - 클라이언트의 쿠키에서도 session id를 삭제"
   ]
  }
 ],
 "metadata": {
  "language_info": {
   "name": "python"
  },
  "orig_nbformat": 4
 },
 "nbformat": 4,
 "nbformat_minor": 2
}
