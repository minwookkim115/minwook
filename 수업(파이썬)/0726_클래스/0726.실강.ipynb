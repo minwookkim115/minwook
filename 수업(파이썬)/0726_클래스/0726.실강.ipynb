{
 "cells": [
  {
   "cell_type": "markdown",
   "metadata": {},
   "source": [
    "예전에는 하드웨어가 발전하고 소프트웨어가 천천히 발전해서 소프트웨어 위기가 왔다.\n",
    "\n",
    "파이썬의 모든 것이 객체\n",
    "type을 가지고 속성(변수, attribute)를 가지고 조작법(method)을 가진다.\n",
    "type : 어떤 연산자를 이용하는가\n",
    "속성 : 어떤 상태를 가지는가\n",
    "조작법 : 객체가 어떤 동작 행위 함수를 실행할 수 있는가\n",
    "\n",
    "돈, 명예 => 상태, 속성\n",
    "베기, 찌르기 => 함수\n",
    "\n",
    "int라는 클래스\n",
    "1, 2, 3 ... 이라는 객체\n",
    "\n",
    "타입이 뭔지 => 어떤 클래스\n",
    "\n",
    "p.35\n",
    "인스턴스 생성 / iu = Person() => 생성자\n",
    "\n",
    "Person 이라는 이름공간이 만들어지고\n",
    "p1이라는 공간이 또 만들어지고"
   ]
  }
 ],
 "metadata": {
  "language_info": {
   "name": "python"
  },
  "orig_nbformat": 4
 },
 "nbformat": 4,
 "nbformat_minor": 2
}
