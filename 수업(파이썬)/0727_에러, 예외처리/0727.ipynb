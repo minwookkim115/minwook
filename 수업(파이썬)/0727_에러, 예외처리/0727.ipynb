{
 "cells": [
  {
   "cell_type": "markdown",
   "metadata": {},
   "source": [
    "클래스는 속성(변수)와 메서드로 구성\n",
    "\n",
    "상속 => 클래스의 속성과 메서드를 물려받아 새로운 하위 클래스 생성\n",
    "\n",
    "motor vehicle 이라는 최상위 클래스를 변경하면\n",
    "bus truck car 모두 변경 가능\n",
    "\n",
    "부모의 속성명이나 메서드를 참고할 때\n",
    "상속 순서대로 찾는다."
   ]
  },
  {
   "cell_type": "code",
   "execution_count": null,
   "metadata": {},
   "outputs": [],
   "source": [
    "class Person:\n",
    "    def __init__ (self, name, age):\n",
    "        self.name = name\n",
    "        self.age = age\n",
    "\n",
    "    def talk(self):\n",
    "        print(f\"반갑습니다. {self.name}입니다.\")\n",
    "\n",
    "s1 = Person(\"김학생\", 23)\n",
    "s1.talk() # 반갑습니다. 김학생입니다.\n",
    "\n",
    "p1 = Person(\"박교수\", 59)\n",
    "p1.talk() # 반갑습니다. 박교수입니다.\n",
    "\n",
    "\n",
    "class Professor(Person):\n",
    "    def __init__ (self, name, age, department):\n",
    "        self.name = name\n",
    "        self.age = age\n",
    "        self.department = department\n",
    "\n",
    "class Student(Person):\n",
    "    def __init__ (self, name, age, gpa):\n",
    "        self.name = name\n",
    "        self.age = age\n",
    "        self.gpa = gpa\n",
    "\n",
    "p2 = Professor(\"박교수\", 49, \"컴퓨터공학과\")\n",
    "s2 = Student(\"김학생\", 20, 3.5)\n",
    "\n"
   ]
  },
  {
   "cell_type": "markdown",
   "metadata": {},
   "source": [
    "NameError : 찾고자 하는 변수가 없을 때"
   ]
  },
  {
   "cell_type": "code",
   "execution_count": null,
   "metadata": {},
   "outputs": [],
   "source": [
    "try:\n",
    "    # 예외가 발생할 수 있는 코드\n",
    "except 예외:\n",
    "    # 예외 처리 코드"
   ]
  },
  {
   "cell_type": "code",
   "execution_count": null,
   "metadata": {},
   "outputs": [],
   "source": [
    "# try에서 제로디비젼에러 나오면 print 한다.\n",
    "\n",
    "try:\n",
    "    result = 10 / 0\n",
    "except ZeroDivisionError:\n",
    "    print(\"0으로 나눌 수 없습니다.\")\n",
    "\n",
    "# 0으로 나눌 수 없습니다."
   ]
  },
  {
   "cell_type": "code",
   "execution_count": 4,
   "metadata": {},
   "outputs": [
    {
     "name": "stdout",
     "output_type": "stream",
     "text": [
      "숫자가 아닙니다.\n"
     ]
    }
   ],
   "source": [
    "try:\n",
    "    num = int(input(\"숫자입력 : \"))\n",
    "except ValueError:\n",
    "    print(\"숫자가 아닙니다.\")\n",
    "\n",
    "'''\n",
    "숫자입력 : a\n",
    "숫자가 아닙니다.\n",
    "'''"
   ]
  },
  {
   "cell_type": "markdown",
   "metadata": {},
   "source": [
    "EAFP => try - except\n",
    "일단 질러놓고 용서를 구하겠다\n",
    "예외처리를 중심으로 코드를 작성\n",
    "\n",
    "LBYL => if - else\n",
    "도약하기 전에 확인\n",
    "일단 불안한 요소를 먼저 검사하고 접근하겠다."
   ]
  },
  {
   "cell_type": "code",
   "execution_count": null,
   "metadata": {},
   "outputs": [],
   "source": [
    "my_dict = {}\n",
    "try:\n",
    "    result = my_dict[\"key\"] # 일단 키 찾아\n",
    "    print(result)\n",
    "except KeyError:\n",
    "    print(\"Key 없음\")"
   ]
  },
  {
   "cell_type": "code",
   "execution_count": null,
   "metadata": {},
   "outputs": [],
   "source": [
    "my_dict = {}\n",
    "if \"key\" in my_dict: # 키가 있을까?\n",
    "    result = my_dict[\"key\"]\n",
    "    print(result)\n",
    "else:\n",
    "    print(\"Key 없음\")"
   ]
  }
 ],
 "metadata": {
  "kernelspec": {
   "display_name": "Python 3",
   "language": "python",
   "name": "python3"
  },
  "language_info": {
   "codemirror_mode": {
    "name": "ipython",
    "version": 3
   },
   "file_extension": ".py",
   "mimetype": "text/x-python",
   "name": "python",
   "nbconvert_exporter": "python",
   "pygments_lexer": "ipython3",
   "version": "3.9.13"
  },
  "orig_nbformat": 4
 },
 "nbformat": 4,
 "nbformat_minor": 2
}
