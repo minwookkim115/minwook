{
 "cells": [
  {
   "cell_type": "markdown",
   "metadata": {},
   "source": [
    "# OOP의 핵심 개념\n",
    "\n",
    "- 추상화 (Abstraction)\n",
    "- 상속 (Inheritance)\n",
    "- 다형성 (Polymorphism)\n",
    "- 캡슐화 (Encapsulation)\n",
    "\n",
    "## 추상화\n",
    "\n",
    "- 세부적인 내용은 감추고 필요한 부분만 표현하는 것을 말한다.\n",
    "- ex) 리모컨 안이 어떻게 생겼는지 모르는데 그냥 쓴다.\n",
    "- 동작하는데 필수적인 부분만 알면 된다.\n",
    "\n",
    "## 상속\n",
    "\n",
    "부모 - 자식\n",
    "- 코드의 재사용성을 위해서 사용한다.\n",
    "- 부모클래스에서 정의해 놓은 기능을 자식클래스에서 다시 만들지 않고 사용할 수 있다.\n",
    "- 다중상속을 못하는 프로그램언어도 있다.\n"
   ]
  },
  {
   "cell_type": "code",
   "execution_count": 21,
   "metadata": {},
   "outputs": [
    {
     "name": "stdout",
     "output_type": "stream",
     "text": [
      "person init\n",
      "dad init\n",
      "mom init\n",
      "XX\n",
      "(<class '__main__.Child'>, <class '__main__.Mom'>, <class '__main__.Dad'>, <class '__main__.Person'>, <class 'object'>)\n"
     ]
    }
   ],
   "source": [
    "class Person:\n",
    "    # gene = \"XY\"\n",
    "\n",
    "    def __init__ (self, name):\n",
    "        self.name = name\n",
    "        print(\"person init\")\n",
    "\n",
    "    # def greeting():\n",
    "    #     print(\"hello\")\n",
    "\n",
    "\n",
    "class Student(Person):\n",
    "    def __init__ (self, name):\n",
    "        super(). __init__ (name)\n",
    "        # Person. __init__ (self, name)\n",
    "\n",
    "# s1 = Student(\"minuk\")\n",
    "# print(s1.gene) # Student에서는 gene이 없는데 Person에서 물려받아 사용가능\n",
    "\n",
    "\n",
    "class Mom(Person):\n",
    "    gene = \"XX\"\n",
    "\n",
    "    def __init__ (self, name, age):\n",
    "        super().__init__(name)\n",
    "        self.age = age\n",
    "        print(\"mom init\")\n",
    "\n",
    "class Dad(Person):\n",
    "    gene = \"XY\"\n",
    "\n",
    "    def __init__ (self, name):\n",
    "        super().__init__(name)\n",
    "        print(\"dad init\")\n",
    "\n",
    "class Child(Mom, Dad):\n",
    "\n",
    "    def __init__ (self, name, age):\n",
    "        super().__init__(name, age) \n",
    "        # Mom. __init__ (self, name, age) # super가 아니라고 클래스 이름을 직접 호출하면 중복 호출됨\n",
    "        # Dad. __init__ (self, name)\n",
    "c1 = Child(\"minuk\", 12)\n",
    "print(c1.gene) # Child 클래스엔 gene이 없고 Mom에서 gene찾았는데 XX 있더라\n",
    "print(Child.__mro__)"
   ]
  },
  {
   "cell_type": "markdown",
   "metadata": {},
   "source": [
    "## 다형성\n",
    "\n",
    "- 여러 모양을 뜻한다.\n",
    "- 동일한 메서드가 클래스에 따라 다르게 행동할 수 있다.\n",
    "- 서로 다른 클래스에 속해있는 객체들이 동일한 메세지에 대해 각기 다른방식으로 응답(동작)한다.\n",
    "- 메서드 오버라이딩 : 상속받은 메서드를 그대로 사용하는게 아니라 자신에 맞게 다시 재정의\n"
   ]
  },
  {
   "cell_type": "code",
   "execution_count": 23,
   "metadata": {},
   "outputs": [
    {
     "name": "stdout",
     "output_type": "stream",
     "text": [
      "안녕하세요 저는 minuk 입니다.\n",
      "충성! 저는 21사단소속의 minuk 입니다.\n"
     ]
    }
   ],
   "source": [
    "class Person:\n",
    "    def __init__ (self, name):\n",
    "        self.name = name\n",
    "\n",
    "    def talk(self):\n",
    "        print(f\"안녕하세요 저는 {self.name} 입니다.\")\n",
    "\n",
    "\n",
    "class Soldier(Person):\n",
    "    def __init__ (self, name, army):\n",
    "        super().__init__(name)\n",
    "        self.army = army\n",
    "\n",
    "    def talk(self):\n",
    "        print(f\"충성! 저는 {self.army}소속의 {self.name} 입니다.\")\n",
    "\n",
    "p1 = Person(\"minuk\")\n",
    "s1 = Soldier(\"minuk\", \"21사단\")\n",
    "\n",
    "p1.talk() # 안녕하세요 저는 minuk 입니다.\n",
    "s1.talk() # 충성! 저는 21사단소속의 minuk 입니다.\n",
    "\n",
    "# Person 을 상속받았어도 자기꺼 먼저 실행함 / 자기게 없으면 상속받은 곳으로\n",
    "# 동일한 talk()메서드를 실행했어도 결과가 다르게 나온다. == 다형성\n"
   ]
  },
  {
   "cell_type": "markdown",
   "metadata": {},
   "source": [
    "## 캡슐화\n",
    "\n",
    "- 객체의 일부 구현 내용에 대해 외부로부터의 직접적인 접근을 차단한다.\n",
    "- 개인정보 같은 것 차단한다.\n",
    "- ex) 리모컨을 막 만져가지고 사용하지 못하게 될 수 있다."
   ]
  },
  {
   "cell_type": "code",
   "execution_count": 30,
   "metadata": {},
   "outputs": [
    {
     "name": "stdout",
     "output_type": "stream",
     "text": [
      "15\n",
      "나이가 잘못되었다.\n",
      "20\n"
     ]
    }
   ],
   "source": [
    "class Person:\n",
    "\n",
    "    def __init__ (self, name, age):\n",
    "        self.name = name\n",
    "        self.__age =age\n",
    "\n",
    "    def get_age(self):\n",
    "        return self.__age\n",
    "    \n",
    "    def set_age(self, age):\n",
    "        if type(age) == str:\n",
    "            print(\"나이가 잘못되었다.\")\n",
    "            return\n",
    "        \n",
    "        self.__age = age\n",
    "\n",
    "p1 = Person(\"minuk\", 15)\n",
    "\n",
    "# print(p1.__age) 변수에 직접 접근하는 것을 차단한다.\n",
    "print(p1.get_age()) # 메소드를 통해서만 접근하도록 설계\n",
    "# 메소드를 통해서 변경하도록 만들어 줄수도 있다.\n",
    "\n",
    "p1.set_age(20)\n",
    "p1.set_age(\"문자열\")\n",
    "\n",
    "print(p1.get_age())"
   ]
  }
 ],
 "metadata": {
  "kernelspec": {
   "display_name": "Python 3",
   "language": "python",
   "name": "python3"
  },
  "language_info": {
   "codemirror_mode": {
    "name": "ipython",
    "version": 3
   },
   "file_extension": ".py",
   "mimetype": "text/x-python",
   "name": "python",
   "nbconvert_exporter": "python",
   "pygments_lexer": "ipython3",
   "version": "3.9.13"
  },
  "orig_nbformat": 4
 },
 "nbformat": 4,
 "nbformat_minor": 2
}
