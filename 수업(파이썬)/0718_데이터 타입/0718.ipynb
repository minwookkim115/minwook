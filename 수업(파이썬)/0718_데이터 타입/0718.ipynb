{
 "cells": [
  {
   "cell_type": "markdown",
   "metadata": {},
   "source": [
    "# Data Types\n",
    "\n",
    "Data Types\n",
    "Numeric Types\n",
    "Sequence Type\n",
    "Non-sequence Types\n",
    "Other Types\n",
    "Collection\n",
    "Type conversation\n",
    "연산자\n",
    "\n",
    "## Data Types -> 값의 종류, **값에 적용 가능한 연산과 동작을 결정**하는 속성\n",
    "- 타입에 따라 연산과 동작이 달라진다.\n",
    "- 데이터 타입의 값들은 각자의 적합한 도구를 가진다.\n",
    "- 타입을 명시적으로 지정하여 읽는 사람이 의도를 쉽게 파악할 수 있다.\n",
    "\n",
    "1. Numeric Types(수치형 타입)\n",
    "\n",
    "    1. int(정수 자료형)\n",
    "    - 0, 음수, 양수\n",
    "    - ※ 진수표현\n",
    "        - 2진수 : 0b / 8진수 : 0o / 16진수 0x => 0718 라이브 참고\n",
    "    \n",
    "    2. float(실수 자료형)\n",
    "    - 유리수와 무리수 통칭 / 소수 숫자들 / float는 실수에 대한 **근삿값**\n",
    "    - ※ 유한 정밀도\n",
    "        - 컴퓨터에 메모리 용량 한정, 한 숫자에 대해 저장하는 용량이 제한\n",
    "        - 0.66666666 -> 2/3  /  1.6666666 -> 5/3  => **가장 가까운 값**\n",
    "    - 실수 연산 시 주의사항\n",
    "        - 컴퓨터는 2진수 사용, 사람은 10진법 사용\n",
    "        - **10진수 0.1을 2진수로 표현하면 0.00011001100... 같이 무한대로 반복**\n",
    "    - 해결책\n",
    "\n",
    "        ▽▽▽▽▽▽▽▽▽▽"
   ]
  },
  {
   "cell_type": "code",
   "execution_count": null,
   "metadata": {},
   "outputs": [],
   "source": [
    "a = 3.2 - 3.1 # 0.10000000000009\n",
    "b = 1.2 - 1.1 # 0.09999999999987\n",
    "\n",
    "# 1. 임의의 작은 수 활용\n",
    "print(abs(a - b) <= 1e -10) # True\n",
    "\n",
    "# 2. math 모듈 활용\n",
    "import math\n",
    "print(math.isclose(a, b)) # True"
   ]
  },
  {
   "cell_type": "markdown",
   "metadata": {},
   "source": [
    "- ㅡㅡㅡㅡㅡㅡㅡ    \n",
    "    - 지수 표현 방식\n",
    "        - e 또는 E를 사용 => 0718 라이브 참고\n",
    "\n",
    "2. Sequence Types => **여러개의 값**들을 **순서대로 나열**하여 저장 하는 자료형\n",
    "- 순서(Sequence) : 값들이 순서대로 저장 (**정렬은 아님**)\n",
    "- 인덱싱(indexing) : 각 값에 고유한 위치가 있다(**0부터 시작**) / 인덱스를 사용하여 특정위치 값 선택 수정 가능\n",
    "- 슬라이싱(Slicing) : 범위를 조절해 부분적인 값 추출 (자르는거)\n",
    "- 길이(Length) : len() 함수를 사용하여 저장된 값의 개수(길이) 구할 수 있음\n",
    "- 반복(Iteration) : 반복문을 사용하여 반복적 처리 가능\n",
    "\n",
    "    1. str(문자열)\n",
    "    - **변경 불가능**한 자료형\n",
    "        - 문자열은 ' '또는 \" \"로 표현\n",
    "        - 문자열 안에서 따옴표를 표현하고 있으면 서로 다르게 하면됨\n",
    "            - ex) \"문자열 안에 '작은따옴표'를 사용하려면 큰따옴표로 묶는다\"\n",
    "        - 역슬래시 뒤에 특정문자가 와서 특수한 기능을 하는 문자 조합\n",
    "            - \\n : 줄바꿈\n",
    "            - \\t : 탭\n",
    "            - \\\\ : 백슬래시\n",
    "            - \\' : 작은 따옴표\n",
    "            - \\\" : 작은 따옴표\n",
    "        - String Interpolation => 문자열 내에 변수가 표현식 삽입\n",
    "            - 문자열에 f를 붙이고 표현식을 {}로 작성하여 문자열에 값 삽입가능 => 0718 라이브 참고\n",
    "\n",
    "        ▽▽▽▽▽▽▽▽▽▽▽▽▽"
   ]
  },
  {
   "cell_type": "code",
   "execution_count": null,
   "metadata": {},
   "outputs": [],
   "source": [
    "my_str = \"hello\"\n",
    "\n",
    "# 인덱싱\n",
    "print(my_str[1]) # e\n",
    "# 슬라이싱\n",
    "print(my_str[2:4]) # ll\n",
    "print(my_str[:3]) # hel\n",
    "print(my_str[0:5:2]) # hlo\n",
    "print(my_str[::-1]) #olleh\n",
    "# 길이\n",
    "print(len(my_str)) # 5"
   ]
  },
  {
   "cell_type": "markdown",
   "metadata": {},
   "source": [
    "- ㅡㅡㅡㅡㅡㅡㅡㅡㅡㅡ\n",
    "\n",
    "    2. list => 여러 개의 값을 순서대로 저장하는 **변경가능**한 시퀀스\n",
    "    - [ ] 로 표기\n",
    "    \n",
    "▽▽▽▽▽▽▽▽▽▽"
   ]
  },
  {
   "cell_type": "code",
   "execution_count": null,
   "metadata": {},
   "outputs": [],
   "source": [
    "# 리스트 안에 리스트\n",
    "#          0  1  2     3                  4\n",
    "my_list = [1, 2, 3, \"python\", [\"hello\", \"world\", \"!!!\"]]\n",
    "\n",
    "print(len(my_list)) # 5\n",
    "print(my_list[4][-1]) # !!!\n",
    "print(my_list[-1],[1],[0]) # w"
   ]
  },
  {
   "cell_type": "code",
   "execution_count": null,
   "metadata": {},
   "outputs": [],
   "source": [
    "# 리스트는 변경 가능\n",
    "my_list = [1, 2, 3]\n",
    "my_list[0] = 100\n",
    "\n",
    "print(my_list) # [100, 2, 3]"
   ]
  },
  {
   "cell_type": "markdown",
   "metadata": {},
   "source": [
    "- ㅡㅡㅡㅡㅡㅡㅡ\n",
    "\n",
    "    3. tuple => 여러 개의 값을 순서대로 저장하는 **변경 불가능한**한 시퀀스\n",
    "    - () 로 표기\n",
    "    - 어떤 자료형도 저장 가능\n",
    "    \n",
    "▽▽▽▽▽▽▽▽▽▽▽▽▽"
   ]
  },
  {
   "cell_type": "code",
   "execution_count": null,
   "metadata": {},
   "outputs": [],
   "source": [
    "my_tuple_1 = ()\n",
    "\n",
    "my_tuple_2 = (1,) # , 를 안쓰면 (1)이 되기 때문에 묶어줘야함 => 값이 하나일 때\n",
    "\n",
    "my_tuple_3 = (1, \"a\", 3, \"b\", 5)"
   ]
  },
  {
   "cell_type": "markdown",
   "metadata": {},
   "source": [
    "- ㅡㅡㅡㅡㅡㅡㅡ\n",
    "    - 튜플이 쓰이는곳\n",
    "        - 불변 특성을 사용하여 안전하게 여러 값을 전달, 그룹화, 다중할당 등\n",
    "        - **파이썬 내부 동작**에 주로 사용"
   ]
  },
  {
   "cell_type": "code",
   "execution_count": null,
   "metadata": {},
   "outputs": [],
   "source": [
    "x, y = (10, 20)\n",
    "\n",
    "# 파이썬은 쉼표를 튜플 생성자로 사용가능, 괄호 생략가능\n",
    "\n",
    "x, y = 10, 20"
   ]
  },
  {
   "cell_type": "markdown",
   "metadata": {},
   "source": [
    "- ㅡㅡㅡㅡㅡㅡㅡ\n",
    "    4. range => 연속된 정수 시퀀스 생성, **변경 불가능**\n",
    "    - range(n) => 0 부터 n-1 까지의 숫자 시퀀스\n",
    "    - range(n, m) => n 부터 m-1 까지의 숫자 시퀀스\n",
    "\n",
    "3. Non-sequence Types\n",
    "\n",
    "    1. dict => key - value 쌍으로 이루어진 순서와 중복이 없는 **변경가능** 자료\n",
    "    - { }로 표기\n",
    "    - key는 변경 불가능한 자료만 사용 가능(str, int, float, tuple, range...)\n",
    "    - value는 모든 자료 사용 가능\n",
    "\n",
    "▽▽▽▽▽▽▽"
   ]
  },
  {
   "cell_type": "code",
   "execution_count": null,
   "metadata": {},
   "outputs": [],
   "source": [
    "# key를 통해 value에 접근\n",
    "#             key   value   key     value\n",
    "my_dict = {\"apple\": 12, \"list\": [1, 2, 3]}\n",
    "\n",
    "print(my_dict[\"apple\"]) # 12\n",
    "print(my_dict[\"list\"]) # [1, 2, 3]\n",
    "\n",
    "# 값 변경\n",
    "my_dict[\"apple\"] = 100\n",
    "print(my_dict) # {'apple': 100, 'list': [1, 2, 3]}"
   ]
  },
  {
   "cell_type": "markdown",
   "metadata": {},
   "source": [
    "- ㅡㅡㅡㅡㅡㅡㅡ\n",
    "    2. set => **순서와 중복이 없는**, **변경 가능**한 자료형\n",
    "    - 집합과 동일한 연산 처리 가능\n",
    "    - { }로 표기\n",
    "    - **순서가 없기 때문에** 인덱스가 없음\n",
    "\n",
    "▽▽▽▽▽▽▽▽"
   ]
  },
  {
   "cell_type": "code",
   "execution_count": null,
   "metadata": {},
   "outputs": [],
   "source": [
    "my_set_1 = set()\n",
    "my_set_2 = {1, 2, 3}\n",
    "my_set_3 = {1, 1, 1}\n",
    "\n",
    "print(my_set_1) # set()\n",
    "print(my_set_2) # {1, 2, 3}\n",
    "print(my_set_3) # {1} => set는 중복이 없다."
   ]
  },
  {
   "cell_type": "code",
   "execution_count": null,
   "metadata": {},
   "outputs": [],
   "source": [
    "my_set_1 = {1, 2, 3}\n",
    "my_set_2 = {3, 6, 9}\n",
    "\n",
    "# 합집합\n",
    "print(my_set_1 | my_set_2) # {1, 2, 3, 6, 9}\n",
    "# 차집합\n",
    "print(my_set_1 - my_set_2) # {1, 2}\n",
    "# 교집합\n",
    "print(my_set_1 & my_set_2) # {3}"
   ]
  },
  {
   "cell_type": "markdown",
   "metadata": {},
   "source": [
    "4. Other Types\n",
    "\n",
    "    1. None => '값이 없음'을 표현하는 자료형\n",
    "    \n",
    "    2. Boolean => 참(True) 거짓(False)을 표현하는 자료형\n",
    "    - 비교 / 논리 연산에 사용\n",
    "    - 조건 / 반복문과 함께 사용\n",
    "\n",
    "5. Collection\n",
    "- 여러 개의 항목 또는 요소를 담는 자료 구조\n",
    "- str, list, tuple, set, dict\n",
    "\n",
    "6. Type Convesaion\n",
    "\n",
    "    1. 암시적 형변환 => 파이썬이 자동으로 형 변환\n",
    "    - Boolean 과 Numeric Type에서만 가능\n",
    "▽▽▽▽▽▽▽▽▽"
   ]
  },
  {
   "cell_type": "code",
   "execution_count": null,
   "metadata": {},
   "outputs": [],
   "source": [
    "# int + float = float => float가 범위가 커서 float로 나옴\n",
    "print(3 + 5.0) # 8.0\n",
    "\n",
    "print(True + 3) # 4\n",
    "\n",
    "print(True + False) # 1"
   ]
  },
  {
   "cell_type": "markdown",
   "metadata": {},
   "source": [
    "- ㅡㅡㅡㅡㅡㅡㅡㅡ\n",
    "\n",
    "    2. 명시적 형변환 => 개발자가 직접 형변환, 암시적 형변환이 아닌 경우 모두\n",
    "    - str -> integer : 형식에 맞는 숫자만 가능\n",
    "    - integer -> str : 모두 가능\n",
    "▽▽▽▽▽▽▽▽▽"
   ]
  },
  {
   "cell_type": "code",
   "execution_count": null,
   "metadata": {},
   "outputs": [],
   "source": [
    "print(int(\"1\")) # 1\n",
    "\n",
    "print(str(1) + \"등\") # 1등"
   ]
  },
  {
   "cell_type": "markdown",
   "metadata": {},
   "source": [
    "7. 연산자\n",
    "\n",
    "    1. 산술연산자\n",
    "    - \n",
    "\n",
    "    2. 복합 연산자\n",
    "    - a += b : a = a + b\n",
    "    - a -= b : a = a - b\n",
    "    - a *= b : a = a * b\n",
    "    - a /= b : a = a / b\n",
    "    - a //= b : a = a // b\n",
    "    - a %= b : a = a % b\n",
    "    - a **= b : a = a ** b\n",
    "\n",
    "    3. 비교 연산자\n",
    "    - == : 같음\n",
    "    - != : 같지 않음\n",
    "    - is : 같음\n",
    "        - 메모리 내에서 같은 객체를 참조하는지 확인 -> 0718 실강 참고\n",
    "    - is not : 같지 않음\n",
    "        - 비교 연산자의 결과는 Boolean\n",
    "        - True, False 로 나타나기 때문\n",
    "\n",
    "    4. 논리 연산자 => 0718실장 참고\n",
    "    - and(논리곱 *) : 두 피연산자 모두 True 인 경우에만 True로 평가\n",
    "        - True and True 만 True => True가 1이니까 1*1 은 1 로 True\n",
    "    - or(논리합 +) : 두 피연산자 중 하나라도 True 인 경우 True로 평가\n",
    "        - True or True 는 2 지만 0만 False 로 보기때문에 True\n",
    "    - not(논리부정) : 단일 피연산자를 부정\n",
    "        - 다른거로 바꾼다\n",
    "\n",
    "    5. 단축평가 **시험** => 0718실강 참고\n",
    "    - and\n",
    "        - 첫 번째가 False 면 전체가 False / 두 번째는 평가 안함\n",
    "        - 첫 번째가 True 면 두 번째 평가\n",
    "    - or\n",
    "        - 첫 번째가 True 면 무조건 True / 두 번째는 평가 안함\n",
    "        - 첫 번째가 False 면 두 번째 평가\n",
    "\n",
    "    6. 멤버십 연산자\n",
    "    - in\n",
    "        - 왼쪽 피연산자가 오른쪽 피연산자 시퀀스에 속하는지\n",
    "    - not in\n",
    "        - 왼쪽 피연산자가 오른쪽 피연산자 시퀀스에 속하지 않는지\n",
    "    \n",
    "    7. 시퀀스형 연산자\n",
    "    - +(결합 연산자)\n",
    "    - *(반복 연산자)\n",
    "\n",
    "    ※ 연산자 우선 순위 **시험**\n",
    "    \n",
    "    \n"
   ]
  }
 ],
 "metadata": {
  "kernelspec": {
   "display_name": "Python 3",
   "language": "python",
   "name": "python3"
  },
  "language_info": {
   "codemirror_mode": {
    "name": "ipython",
    "version": 3
   },
   "file_extension": ".py",
   "mimetype": "text/x-python",
   "name": "python",
   "nbconvert_exporter": "python",
   "pygments_lexer": "ipython3",
   "version": "3.9.13"
  },
  "orig_nbformat": 4
 },
 "nbformat": 4,
 "nbformat_minor": 2
}
