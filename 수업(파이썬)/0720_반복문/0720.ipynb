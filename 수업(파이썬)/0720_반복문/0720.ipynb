{
 "cells": [
  {
   "cell_type": "markdown",
   "metadata": {},
   "source": [
    "제어문 => 조건에 따라 코드 블록을 실행하거나 반복적으로 코드를 실행\n",
    "\n",
    "조건문 => 조건식을 평가, 해당 조건이 참(True)인 경우 코드 블록을 실행 or 건너뜀\n",
    "- if / elif / else => elif 와 else 는 선택적\n",
    "\n",
    "※ 조건식은 동시에 검사하지 않고 순차적으로 비교"
   ]
  },
  {
   "cell_type": "code",
   "execution_count": null,
   "metadata": {},
   "outputs": [],
   "source": [
    "# 조건문\n",
    "\n",
    "num = int(input(\"숫자를 입력하세요 : \"))\n",
    "\n",
    "# if statement\n",
    "# num이 홀수라면 (2로 나눈 나머지가 1이라면)\n",
    "# if num % 2: => 1이면 True라서\n",
    "if num % 2 == 1:\n",
    "    print(\"홀수입니다.\")\n",
    "# num이 홀수가 아니라면(짝수면)\n",
    "else:\n",
    "    print(\"짝수입니다.\")"
   ]
  },
  {
   "cell_type": "markdown",
   "metadata": {},
   "source": [
    "반복문\n",
    "- for / while\n",
    "\n",
    "for => 임의의 시퀀스의 항목들을 그 시퀀스에 들어있는 순서대로 반복\n",
    "- 시퀀스 -> 인덱스 길이 개수, 개수가 있기 때문에 종료조건이 필요없음, 문자포함\n",
    "- 반복 가능한 객체(iterable) -> 시퀀스 객체 뿐만 아니라 dict, set 등도 포함\n"
   ]
  },
  {
   "cell_type": "code",
   "execution_count": null,
   "metadata": {},
   "outputs": [],
   "source": [
    "# for\n",
    "\n",
    "country = \"Korea\"\n",
    "\n",
    "for char in country:\n",
    "    print(char)\n",
    "\n",
    "\"\"\"\n",
    "K\n",
    "o\n",
    "r\n",
    "e\n",
    "a\n",
    "\"\"\""
   ]
  },
  {
   "cell_type": "code",
   "execution_count": null,
   "metadata": {},
   "outputs": [],
   "source": [
    "for i in range(5):\n",
    "    print(i)\n",
    "\n",
    "\"\"\"\n",
    "0\n",
    "1\n",
    "2\n",
    "3\n",
    "4\n",
    "\"\"\""
   ]
  },
  {
   "cell_type": "code",
   "execution_count": null,
   "metadata": {},
   "outputs": [],
   "source": [
    "# 길이 값을 넣어서\n",
    "# 리스트의 요소가 아닌 인덱스로 접근해야 할때\n",
    "\n",
    "numbers = [4, 6, 10, -8, 5]\n",
    "\n",
    "for i in range(len(numbers)):\n",
    "    numbers[i] = numbers[i] * 2\n",
    "\n",
    "print(numbers)"
   ]
  },
  {
   "cell_type": "code",
   "execution_count": null,
   "metadata": {},
   "outputs": [],
   "source": [
    "# 중첩된 반복문\n",
    "\n",
    "outers = [\"A\", \"B\"]\n",
    "inners = [\"c\", \"d\"]\n",
    "\n",
    "for outer in outers:\n",
    "    for inner in inners:\n",
    "        print(outer, inner)\n",
    "\n",
    "\"\"\"\n",
    "A c\n",
    "A d\n",
    "B c\n",
    "B d\n",
    "\"\"\""
   ]
  },
  {
   "cell_type": "code",
   "execution_count": null,
   "metadata": {},
   "outputs": [],
   "source": [
    "elements = [[\"A\", \"B\"], [\"c\", \"d\"]]\n",
    "\n",
    "for elem in elements:\n",
    "    print(elem)\n",
    "\n",
    "\"\"\"\n",
    "[\"A\", \"B\"]\n",
    "[\"c\", \"d\"]\n",
    "\"\"\"\n",
    "\n",
    "for elem in elements:\n",
    "    for item in elem:\n",
    "        print(item)\n",
    "\n",
    "\"\"\"\n",
    "A\n",
    "B\n",
    "c\n",
    "d\n",
    "\"\"\""
   ]
  },
  {
   "cell_type": "markdown",
   "metadata": {},
   "source": [
    "while => **조건식**이 참인 동안 코드 반복 실행, 거짓 될 때 까지 반복"
   ]
  },
  {
   "cell_type": "code",
   "execution_count": null,
   "metadata": {},
   "outputs": [],
   "source": [
    "# while\n",
    "\n",
    "a = 0\n",
    "\n",
    "while a < 3:\n",
    "    print(a)\n",
    "    a += 1\n",
    "\n",
    "print(\"끝\")\n",
    "\n",
    "# 0이 3보다 작으니까 0 프린트 하고 1더하고\n",
    "# 1이 3보다 작으니까 1 프린트 하고 1더하고\n",
    "# 2가 3보다 작으니까 2 프린트 하고 1더하고\n",
    "# 3은 3보다 작지 않으니까(False) \"끝\" 출력\n",
    "\n",
    "\"\"\"\n",
    "0\n",
    "1\n",
    "2\n",
    "끝\n",
    "\"\"\""
   ]
  },
  {
   "cell_type": "code",
   "execution_count": null,
   "metadata": {},
   "outputs": [],
   "source": [
    "# while 예시\n",
    "\n",
    "number = int(input(\"양의 정수를 입력해주세요.: \"))\n",
    "\n",
    "while number <= 0:\n",
    "    if number < 0:\n",
    "        print(\"음수를 입력했습니다.\")\n",
    "    else:\n",
    "        print(\"0은 양의 정수가 아닙니다.\")\n",
    "    \n",
    "    number = int(input(\"양의 정수를 입력해주세요.: \")) # 다시질문\n",
    "\n",
    "print(\"잘했습니다!\")\n",
    "\n",
    "\"\"\"\n",
    "양의 정수를 입력해주세요.: 0\n",
    "0은 양의 정수가 아닙니다.\n",
    "양의 정수를 입력해주세요.: -1\n",
    "음수를 입력했습니다.\n",
    "양의 정수를 입력해주세요.: 1\n",
    "잘했습니다!\n",
    "\"\"\""
   ]
  },
  {
   "cell_type": "markdown",
   "metadata": {},
   "source": [
    "for => iterable의 요소를 하나씩 순회하며 반복\n",
    "- 반복 횟수가 명확하게 정해져 있는 경우에 유용\n",
    "- 리스트, 튜플, 문자열 등과 같은 **시퀀스 형식에 데이터를 처리**할 때\n",
    "\n",
    "\n",
    "while => 주어진 조건식이 참인 동안 반복(종료 조건 필요)\n",
    "- 반복 횟수가 불명확하거나 조건에 따라 반복을 종료해야 할 때 유용\n",
    "- **사용자의 입력**을 받아서 특정 조건이 충족될 때까지 반복 하는 경우\n",
    "\n",
    "※ for문과 whiel은 매 반복마다 본문 내 모든 코드를 실행하지만 때때로 일부실행 필요\n",
    "- break(반복 즉시 중지) / continue(다음 반복으로 건너뜀)"
   ]
  },
  {
   "cell_type": "code",
   "execution_count": null,
   "metadata": {},
   "outputs": [],
   "source": [
    "# break 예시\n",
    "\n",
    "number = int(input(\"양의 정수를 입력해주세요.: \"))\n",
    "\n",
    "while number <= 0:\n",
    "    if number == -9999:\n",
    "        print(\"프로그램을 종료합니다.\")\n",
    "        break\n",
    "\n",
    "    if number < 0:\n",
    "        print(\"음수를 입력했습니다.\")\n",
    "    else:\n",
    "        print(\"0은 양의 정수가 아닙니다.\")\n",
    "    \n",
    "    number = int(input(\"양의 정수를 입력해주세요.: \"))\n",
    "\n",
    "print(\"잘했습니다!\")\n",
    "\n",
    "\"\"\"\n",
    "양의 정수를 입력해주세요.: -9999\n",
    "프로그램을 종료합니다.\n",
    "잘했습니다!\n",
    "\"\"\""
   ]
  },
  {
   "cell_type": "code",
   "execution_count": null,
   "metadata": {},
   "outputs": [],
   "source": [
    "# 리스트에서 짝수만 출력하기\n",
    "\n",
    "numbers = [1, 3, 5, 6, 7, 9, 10, 11]\n",
    "found_even = False\n",
    "\n",
    "for num in numbers:\n",
    "    if num % 2 == 0:\n",
    "        print(\"첫 번째 짝수를 찾았습니다:\", num)\n",
    "        found_even = True\n",
    "        break # 반복을 즉시 중단함\n",
    "\n",
    "if not found_even:\n",
    "    print(\"짝수를 찾지 못했습니다\")\n",
    "\n",
    "\"\"\"\n",
    "첫 번째 짝수를 찾았습니다: 6\n",
    "\"\"\""
   ]
  },
  {
   "cell_type": "code",
   "execution_count": null,
   "metadata": {},
   "outputs": [],
   "source": [
    "# continue 예시\n",
    "# 리스트에서 홀수만 출력하기\n",
    "\n",
    "numbers = [1, 2, 3, 4, 5, 6, 7, 8, 9, 10]\n",
    "\n",
    "for num in numbers:\n",
    "    if num % 2 == 0: # 짝수면\n",
    "        continue # 다음 반복으로 건너뛰기 / 출력하지 않음\n",
    "    print(num) # 프린트는 홀수일 때만 출력\n",
    "\n",
    "\"\"\"\n",
    "1\n",
    "3\n",
    "5\n",
    "7\n",
    "9\n",
    "\"\"\""
   ]
  },
  {
   "cell_type": "markdown",
   "metadata": {},
   "source": [
    "※ break와 continue의 주의사항\n",
    "- 남용 금지(가독성 저하)\n",
    "- if 문을 사용해 continue 처럼 코드 건너뛰기 가능\n",
    "- 굳이 break / continue 쓰지말아라"
   ]
  },
  {
   "cell_type": "code",
   "execution_count": null,
   "metadata": {},
   "outputs": [],
   "source": [
    "for number in range(1, 5):\n",
    "    if number == 3:\n",
    "        continue\n",
    "    print(number)\n",
    "\n",
    "for number in range(1, 5):\n",
    "    if number != 3:\n",
    "        print(number)\n",
    "\n",
    "\"\"\"\n",
    "1\n",
    "2\n",
    "4\n",
    "\"\"\""
   ]
  },
  {
   "cell_type": "markdown",
   "metadata": {},
   "source": [
    "List Comprehension => 간결하고 효율적인 리스트 생성 방법\n",
    "\n",
    "리스트 만드는법\n",
    "- [ ]\n",
    "- list(map(함수, 값))\n",
    "\n",
    "구조\n",
    "[expression for 변수 in iterable]\n",
    "\n",
    "list(expression for 변수 in iterable)"
   ]
  },
  {
   "cell_type": "code",
   "execution_count": null,
   "metadata": {},
   "outputs": [],
   "source": [
    "# 0~9 요소를 가지는 리스트 만들기\n",
    "# 1. 일반적인 방법\n",
    "new_list = []\n",
    "\n",
    "for i in range(10):\n",
    "    new_list.append(i)\n",
    "print(new_list)\n",
    "\n",
    "# [0, 1, 2, 3, 4, 5, 6, 7, 8, 9]"
   ]
  },
  {
   "cell_type": "code",
   "execution_count": null,
   "metadata": {},
   "outputs": [],
   "source": [
    "new_list = []\n",
    "\n",
    "for i in range(10):\n",
    "    if i % 2 == 1:\n",
    "        new_list.append(i)\n",
    "print(new_list)\n",
    "\n",
    "# [1, 3, 5, 7, 9]"
   ]
  },
  {
   "cell_type": "code",
   "execution_count": null,
   "metadata": {},
   "outputs": [],
   "source": [
    "# 2. list comprehension\n",
    "#       expression => i\n",
    "new_list2 = [i for i in range(10)]\n",
    "print(new_list2)\n",
    "\n",
    "# [0, 1, 2, 3, 4, 5, 6, 7, 8, 9]"
   ]
  },
  {
   "cell_type": "code",
   "execution_count": null,
   "metadata": {},
   "outputs": [],
   "source": [
    "new_list2 = [i for i in range(10) if i % 2 == 1]\n",
    "print(new_list2)\n",
    "# [1, 3, 5, 7, 9]"
   ]
  },
  {
   "cell_type": "code",
   "execution_count": null,
   "metadata": {},
   "outputs": [],
   "source": [
    "# 일반적인 방법\n",
    "numbers = [1, 2, 3, 4, 5]\n",
    "squared_numbers = []\n",
    "\n",
    "for num in numbers:\n",
    "    squared_numbers.append(num**2)\n",
    "\n",
    "print(squared_numbers)\n",
    "\n",
    "# list comprehension\n",
    "numbers = [1, 2, 3, 4, 5]\n",
    "squared_numbers = [num**2 for num in numbers]\n",
    "\n",
    "print(squared_numbers)\n",
    "\n",
    "# [1, 4, 9, 16, 25]\n",
    "# [1, 4, 9, 16, 25]"
   ]
  },
  {
   "cell_type": "code",
   "execution_count": null,
   "metadata": {},
   "outputs": [],
   "source": [
    "# if else 를 이용한 list comprehension\n",
    "# elif는 안된다\n",
    "new_list_3 = [i if i % 2 == 1 else str(i) for i in range(10)]\n",
    "\n",
    "# 더러워서 안쓴다"
   ]
  },
  {
   "cell_type": "code",
   "execution_count": null,
   "metadata": {},
   "outputs": [],
   "source": [
    "# 리스트를 생성하는 3가지 방법 비교\n",
    "# 문자열 1,2,3 을 정수 1,2,3을 가지는 새로운 리스트 만들기\n",
    "# 어떤게 제일 빨라요??\n",
    "\n",
    "numbers = [\"1\", \"2\", \"3\"]\n",
    "\n",
    "# 1. for loop\n",
    "new_numbers = []\n",
    "for number in numbers:\n",
    "    new_numbers.append(int(number))\n",
    "print(new_numbers) # [1, 2, 3]\n",
    "\n",
    "# 2. map\n",
    "new_numbers2 = list(map(int, numbers))\n",
    "print(new_numbers2) # [1, 2, 3]\n",
    "\n",
    "# 3. list comprehension\n",
    "new_numbers3 = [int(number) for number in numbers]\n",
    "print(new_numbers3) # [1, 2, 3]"
   ]
  },
  {
   "cell_type": "code",
   "execution_count": 1,
   "metadata": {},
   "outputs": [
    {
     "name": "stdout",
     "output_type": "stream",
     "text": [
      "인덱스 0: apple\n",
      "인덱스 1: banana\n",
      "인덱스 2: cherry\n",
      "<enumerate object at 0x000002D03CAEBFC0>\n",
      "[(0, 'a'), (1, 'b'), (2, 'c')]\n",
      "0 a\n",
      "1 b\n",
      "2 c\n"
     ]
    }
   ],
   "source": [
    "# enumerate => 인덱스를 보고싶어\n",
    "\n",
    "fruits = [\"apple\", \"banana\", \"cherry\"]\n",
    "\n",
    "for index, fruit in enumerate(fruits):\n",
    "    print(f\"인덱스 {index}: {fruit}\")\n",
    "\n",
    "\"\"\"\n",
    "인덱스 0: apple\n",
    "인덱스 1: banana\n",
    "인덱스 2: cherry\n",
    "\"\"\"\n",
    "\n",
    "result = [\"a\", \"b\", \"c\"]\n",
    "\n",
    "print(enumerate(result)) # <enumerate object at 0x000001947D653600>\n",
    "print(list(enumerate(result))) # [(0, 'a'), (1, 'b'), (2, 'c')] => 소괄호 튜플\n",
    "\n",
    "for index, elem in enumerate(result):\n",
    "    print(index, elem)"
   ]
  }
 ],
 "metadata": {
  "kernelspec": {
   "display_name": "Python 3",
   "language": "python",
   "name": "python3"
  },
  "language_info": {
   "codemirror_mode": {
    "name": "ipython",
    "version": 3
   },
   "file_extension": ".py",
   "mimetype": "text/x-python",
   "name": "python",
   "nbconvert_exporter": "python",
   "pygments_lexer": "ipython3",
   "version": "3.9.13"
  },
  "orig_nbformat": 4
 },
 "nbformat": 4,
 "nbformat_minor": 2
}
