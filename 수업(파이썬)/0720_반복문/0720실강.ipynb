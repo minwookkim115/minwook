{
 "cells": [
  {
   "cell_type": "code",
   "execution_count": null,
   "metadata": {},
   "outputs": [],
   "source": [
    "a = 10\n",
    "\n",
    "# 짝수\n",
    "\n",
    "if a % 2 == 0:\n",
    "    print(\"a는 짝수\")\n",
    "\n",
    "# 홀수\n",
    "else:\n",
    "    print(\"a는 홀수\")\n",
    "\n",
    "str = \"\"\n",
    "\n",
    "# a가 짝수인 경우에는 srt에 \"짝수\", 홀수인 경우에는 str에 \"홀수\"\n",
    "str = \"짝수\" if a % 2 == 0 else \"홀수\"\n",
    "\n",
    "print(str)"
   ]
  },
  {
   "cell_type": "code",
   "execution_count": null,
   "metadata": {},
   "outputs": [],
   "source": [
    "# for 안에서 사용할 변수\n",
    "#      ▽\n",
    "# for 변수 in 반복 가능한 객체:\n",
    "#     코드블록"
   ]
  },
  {
   "cell_type": "code",
   "execution_count": null,
   "metadata": {},
   "outputs": [],
   "source": [
    "fruits = [\"apple\", \"banana\", \"coconut\"]\n",
    "\n",
    "for item in fruits:\n",
    "    if item == \"apple\": # fruits에서 apple인 경우만 출력\n",
    "        print(item)\n",
    "    elif item == \"banana\": # fruits에서 banana인 경우만 출력\n",
    "        print(item)"
   ]
  },
  {
   "cell_type": "code",
   "execution_count": null,
   "metadata": {},
   "outputs": [],
   "source": [
    "# range\n",
    "\n",
    "for i in range(5):\n",
    "    print(i)\n",
    "\"\"\"\n",
    "0\n",
    "1\n",
    "2\n",
    "3\n",
    "4\n",
    "\"\"\"\n",
    "print(\"=======\")\n",
    "\n",
    "for i in range(1, 5):\n",
    "    print(i)\n",
    "\"\"\"\n",
    "1\n",
    "2\n",
    "3\n",
    "4\n",
    "\"\"\"\n",
    "print(\"=======\")\n",
    "\n",
    "for i in range(1, 10 ,2): # 1부터 10까지 2칸 띄어서\n",
    "    print(i, end=\",\") # end : print 끝나고 뒤에 붙여줄 문자 (기본값: 줄바꿈)\n",
    "# 1,3,5,7,9,"
   ]
  },
  {
   "cell_type": "code",
   "execution_count": null,
   "metadata": {},
   "outputs": [],
   "source": [
    "# for_else\n",
    "\n",
    "for i in range(40):\n",
    "    pass\n",
    "else:\n",
    "    pass\n",
    "\n",
    "# else 문은 반복문을 끝까지(중간에 종료 없이) 실행한 이후에 실행된다.\n",
    "# 반복문이 break문으로 종료될때는 else 문이 실행되지 않는다.\n",
    "# break를 통해 중간에 종료되지 않은 경우만 else 문이 실행된다.\n",
    "\n",
    "# 반복문이 중간에 종료된 적이 있는 지를 검사할 때 유요하게 사용\n",
    "\n",
    "string1 = \"apple\"\n",
    "string2 = \"banana\"\n",
    "\n",
    "for c in string2:\n",
    "    # apple 문자열을 순회하면서 알파벳 b가 있으면 b! 를 출력한 다음 반복문 종료\n",
    "    if c == \"b\":\n",
    "        print(\"b!\")\n",
    "        break\n",
    "else:\n",
    "    print(\"이 단어 안에는 b가 없습니다.\")"
   ]
  },
  {
   "cell_type": "code",
   "execution_count": null,
   "metadata": {},
   "outputs": [],
   "source": [
    "# pass 와 continue 의 차이\n",
    "\n",
    "for num in range(1, 11):\n",
    "    if num % 2 == 1:\n",
    "        continue\n",
    "\n",
    "    print(num, end=\" \") # 2 4 6 8 10\n",
    "\n",
    "for num in range(1, 11):\n",
    "    if num % 2 == 1:\n",
    "        pass\n",
    "\n",
    "    print(num, end=\" \") # 1 2 3 4 5 6 7 8 9 10 => for num in range(1,11) 출력"
   ]
  },
  {
   "cell_type": "code",
   "execution_count": null,
   "metadata": {},
   "outputs": [],
   "source": [
    "# dictionary comprehension\n",
    "\n",
    "my_dict = {i: i**2 for i in range(1, 10)}\n",
    "\n",
    "print(my_dict)\n",
    "\n",
    "# {1: 1, 2: 4, 3: 9, 4: 16, 5: 25, 6: 36, 7: 49, 8: 64, 9: 81}"
   ]
  },
  {
   "cell_type": "code",
   "execution_count": null,
   "metadata": {},
   "outputs": [],
   "source": [
    "# for 문 dictionary\n",
    "\n",
    "scores = {\"me\" : 100, \"gildong\" : 80, \"jaedong\" : 70}\n",
    "\n",
    "# 1. 기본적으로 key 만 가져감\n",
    "for name in scores:\n",
    "    print(name)\n",
    "    print(scores[name])\n",
    "\n",
    "for name in scores:\n",
    "    print(f\"{name} : {scores[name]} {scores.get(name)}\")\n",
    "\n",
    "# 2. \n",
    "for name in scores.keys():\n",
    "    print(f\"{name} : {scores[name]} {scores.get(name)}\")\n",
    "\n",
    "print(\"=======\")\n",
    "\n",
    "# 3.\n",
    "for score in scores.values():\n",
    "    print(score)\n",
    "\n",
    "# 4.\n",
    "for key, value in scores.items():\n",
    "    print(f\"{key} : {value}\")"
   ]
  }
 ],
 "metadata": {
  "kernelspec": {
   "display_name": "Python 3",
   "language": "python",
   "name": "python3"
  },
  "language_info": {
   "codemirror_mode": {
    "name": "ipython",
    "version": 3
   },
   "file_extension": ".py",
   "mimetype": "text/x-python",
   "name": "python",
   "nbconvert_exporter": "python",
   "pygments_lexer": "ipython3",
   "version": "3.9.13"
  },
  "orig_nbformat": 4
 },
 "nbformat": 4,
 "nbformat_minor": 2
}
