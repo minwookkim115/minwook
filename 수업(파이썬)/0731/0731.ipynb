{
 "cells": [
  {
   "cell_type": "markdown",
   "metadata": {},
   "source": [
    "알고리즘 => 문제해결을 위한 절차나 방법\n",
    "\n",
    "sw 엑스퍼트 아카데미 => learn => intermediate => linked list 부분 빼고 학습\n",
    "=> Advanced 그래프의 최소비용문제까지 학습\n",
    "\n"
   ]
  }
 ],
 "metadata": {
  "language_info": {
   "name": "python"
  },
  "orig_nbformat": 4
 },
 "nbformat": 4,
 "nbformat_minor": 2
}
