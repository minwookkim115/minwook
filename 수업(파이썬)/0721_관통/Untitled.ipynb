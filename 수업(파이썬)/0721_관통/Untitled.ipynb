{
 "cells": [
  {
   "cell_type": "markdown",
   "id": "f2c13104",
   "metadata": {},
   "source": [
    "## 'y' : 코드모드 변경\n",
    "## 'm' : 마크다운으로 변경\n",
    "## 'a' : 커서 기준 위에 쉘하나 추가\n",
    "## 'b' : 커서 기준 아래 쉘하나 추가\n",
    "## 'dd' : 쉘 삭제\n",
    "## 'shift + enter : 실행 후 커서를 아래로 이동\n",
    "## 'ctrl + enter : 실행 후 커서를 제자리에"
   ]
  },
  {
   "cell_type": "code",
   "execution_count": 10,
   "id": "db7a1b0e",
   "metadata": {},
   "outputs": [],
   "source": [
    "API_KEY = \"cb2f6b340b1fa62371b2cd8a44d61c32\""
   ]
  },
  {
   "cell_type": "code",
   "execution_count": 23,
   "id": "a456afba",
   "metadata": {},
   "outputs": [],
   "source": [
    "# 서울의 위도 경도를 활용해서 데이터를 받아왔다.\n",
    "# lat = 37.56\n",
    "# lon = 126.97\n",
    "# url = f\"https://api.openweathermap.org/data/2.5/weather?lat={lat}&lon={lon}&appid={API_KEY}\""
   ]
  },
  {
   "cell_type": "code",
   "execution_count": null,
   "id": "7fc4a500",
   "metadata": {},
   "outputs": [],
   "source": [
    "city_name = \"Seoul,KR\"\n",
    "url = f\"https://api.openweathermap.org/data/2.5/weather?q={city_name}&appid={API_KEY}\""
   ]
  },
  {
   "cell_type": "code",
   "execution_count": null,
   "id": "7c97e412",
   "metadata": {
    "scrolled": true
   },
   "outputs": [],
   "source": [
    "import requests\n",
    "\n",
    "# API 요청 보내기\n",
    "response = requests.get(url).json() # .json()을 사용해서 이미 dict로 출력\n",
    "\n",
    "# 온도만 출력\n",
    "response[\"main\"][\"temp\"] - 273.15"
   ]
  },
  {
   "cell_type": "code",
   "execution_count": null,
   "id": "774106d8",
   "metadata": {},
   "outputs": [],
   "source": [
    "# 섭씨 온도\n",
    "temp -= 273.15"
   ]
  },
  {
   "cell_type": "markdown",
   "id": "7832b704",
   "metadata": {},
   "source": [
    "관통 ver1\n",
    "금융 감독원 API => KEY => requests => 추출\n",
    "\n",
    "관통 ver2\n",
    "API 호출 된 데이터(JSON)제공 => 추출"
   ]
  }
 ],
 "metadata": {
  "kernelspec": {
   "display_name": "Python 3 (ipykernel)",
   "language": "python",
   "name": "python3"
  },
  "language_info": {
   "codemirror_mode": {
    "name": "ipython",
    "version": 3
   },
   "file_extension": ".py",
   "mimetype": "text/x-python",
   "name": "python",
   "nbconvert_exporter": "python",
   "pygments_lexer": "ipython3",
   "version": "3.9.13"
  }
 },
 "nbformat": 4,
 "nbformat_minor": 5
}
