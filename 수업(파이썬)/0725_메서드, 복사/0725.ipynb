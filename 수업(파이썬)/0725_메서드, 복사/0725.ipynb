{
 "cells": [
  {
   "cell_type": "markdown",
   "metadata": {},
   "source": [
    "set => 고유한 항목들의 정렬되지 않은 컬렉션 / 정렬되지 않았다 = 비시퀀스\n",
    "중복 허용 안됨\n",
    "집합연산에 사용"
   ]
  },
  {
   "cell_type": "code",
   "execution_count": null,
   "metadata": {},
   "outputs": [],
   "source": [
    "# .add(x)\n",
    "# 세트에 x를 추가\n",
    "\n",
    "my_set = {1, 2, 3}\n",
    "my_set.add(4)\n",
    "print(my_set) # {1, 2, 3, 4}\n",
    "\n",
    "my_set.add(4)\n",
    "print(my_set) # {1, 2, 3, 4}"
   ]
  },
  {
   "cell_type": "code",
   "execution_count": null,
   "metadata": {},
   "outputs": [],
   "source": [
    "# .clear()\n",
    "# 세트에 모든 항목 제거\n",
    "\n",
    "my_set = {1, 2, 3}\n",
    "my_set.clear()\n",
    "print(my_set) # set()\n",
    "# => 빈set는 중괄호 표기 안함, 중괄호가 딕셔너리로 판단되기 때문"
   ]
  },
  {
   "cell_type": "code",
   "execution_count": null,
   "metadata": {},
   "outputs": [],
   "source": [
    "# .remove(x)\n",
    "# 세트에서 항목 x를 제거\n",
    "\n",
    "my_set = {1, 2, 3}\n",
    "my_set.remove(2)\n",
    "print(my_set) # {1, 3}\n",
    "\n",
    "my_set.remove(10) # KeyError\n"
   ]
  },
  {
   "cell_type": "code",
   "execution_count": null,
   "metadata": {},
   "outputs": [],
   "source": [
    "# .pop()\n",
    "# 세트에서 임의의 요소를 제거하고 반환 / list에서는 마지막 요소를 빼고 반환\n",
    "# 세트에서 랜덤하게 항목을 반환하고, 해당 항목을 제거\n",
    "# 정렬되지 않았기 때문에 랜덤하게 반환\n",
    "\n",
    "my_set = {1, 2, 3}\n",
    "element = my_set.pop()\n",
    "\n",
    "print(element) # 1\n",
    "print(my_set) # {2, 3}\n",
    "# 해시 테이블 상 가장 먼저 주소 값을 갖는 것이 pop됨\n",
    "# set에서 가장 먼저 나오는 것이 pop되는 것이 아님\n",
    "\n",
    "# set에서 임의는 실행할 때 마다 다른 요소를 얻는 다는 무작위가 아니라\n",
    "# 임의라는 의미에서 무작위 / 해시테이블 때문에\n",
    "# By \"arbitrary\" the docs don't mean random\n",
    "\n",
    "# 1 2 3 100 4 39 9 10 52 87\n",
    "\n",
    "# 정수는 해시테이블에 주소가 고정되어 있다. \n",
    "# 문자열은 해시테이블에 주소가 바뀐다 set.pop하면 랜덤으로 나옴\n",
    "\n",
    "# 정수는 정수 값 자체가 해시값이 된다.\n",
    "\n",
    "# 문자열은 가변적인 길이를 갖고있다."
   ]
  },
  {
   "cell_type": "code",
   "execution_count": null,
   "metadata": {},
   "outputs": [],
   "source": [
    "# .discard(x)\n",
    "# 세트 s에서 항목 x를 제거 / .remove와 달리 에러 없음\n",
    "\n",
    "my_set = {1, 2, 3}\n",
    "my_set.discard(2)\n",
    "print(my_set) # {1, 3}\n",
    "\n",
    "my_set.discard(10) # 에러도 아니고 아무것도 안나옴\n",
    "print(my_set.discard(10)) # None"
   ]
  },
  {
   "cell_type": "code",
   "execution_count": 33,
   "metadata": {},
   "outputs": [
    {
     "name": "stdout",
     "output_type": "stream",
     "text": [
      "{1, 2, 3, 105, 45, 19}\n"
     ]
    }
   ],
   "source": [
    "# .update(iterable)\n",
    "# 세트에 다른 iterable 요소를 추가\n",
    "# add는 하나만 추가 / update는 반복가능한 것을 풀어서 추가 /extend 처럼\n",
    "\n",
    "my_set = {1, 2, 3}\n",
    "my_set.update([45, 105, 19])\n",
    "\n",
    "print(my_set) # {1, 2, 3, 105, 45, 19}"
   ]
  },
  {
   "cell_type": "markdown",
   "metadata": {},
   "source": [
    "세트의 집합 메서드"
   ]
  },
  {
   "cell_type": "code",
   "execution_count": 34,
   "metadata": {},
   "outputs": [
    {
     "name": "stdout",
     "output_type": "stream",
     "text": [
      "{0, 2, 4}\n",
      "{1, 3}\n",
      "False\n",
      "False\n",
      "{0, 1, 2, 3, 4, 5, 7, 9}\n"
     ]
    }
   ],
   "source": [
    "set1 = {0, 1, 2, 3, 4}\n",
    "set2 = {1, 3, 5, 7, 9}\n",
    "\n",
    "# 차집함\n",
    "print(set1.difference(set2)) # {0, 2, 4}\n",
    "print(set1.intersection(set2))\n",
    "print(set1.issubset(set2))\n",
    "print(set1.issuperset(set2))\n",
    "print(set1.union(set2))"
   ]
  },
  {
   "cell_type": "markdown",
   "metadata": {},
   "source": [
    "dictionary\n",
    "고유한 항목들의 정렬되지 않은 컬렉션 => 순서 없음 / 비시퀀스"
   ]
  },
  {
   "cell_type": "code",
   "execution_count": null,
   "metadata": {},
   "outputs": [],
   "source": [
    "# .clear()\n",
    "# 딕셔너리 D의 모든 키/값 쌍을 제거\n",
    "\n",
    "person = {'name' : 'Alice'}"
   ]
  },
  {
   "cell_type": "code",
   "execution_count": null,
   "metadata": {},
   "outputs": [],
   "source": [
    "# .get(key[,default]) ☆☆☆☆☆☆☆☆ 중요 ☆☆☆☆☆☆☆\n",
    "# 키 연결된 값을 반환하거나 키가 없으면 None 혹은 기본 값 반환\n",
    "\n",
    "person = {'name' : 'Alice', 'age' : 25}\n",
    "\n",
    "print(person.get('name')) # Alice\n",
    "print(person.get('country')) # None\n",
    "print(person.get('country', 'Unknown')) # Unknown\n",
    "# Unknown이라는 것을 반환"
   ]
  },
  {
   "cell_type": "code",
   "execution_count": null,
   "metadata": {},
   "outputs": [],
   "source": [
    "# 나오지 않는 키값을 프린트하면 에러가 나오지만\n",
    "# get으로 가져오면 에러가 안나옴\n",
    "\n",
    "my_dict = {\n",
    "    'name' : 'Alice'\n",
    "}\n",
    "\n",
    "print(my_dict['name'])\n",
    "print(my_dict.get('name'))\n",
    "\n",
    "# 찾고자하는 키가 없을 때\n",
    "print(my_dict['age']) # KeyError\n",
    "# 에러가 발생하면 이후 코드 중단\n",
    "print(my_dict.get('age')) # None\n",
    "# None을 반환한거지 에러가 발생한게 아니기 때문에 코드 계속 실행\n",
    "print(my_dict.get('age', 'Unknown')) # Unknown"
   ]
  },
  {
   "cell_type": "code",
   "execution_count": null,
   "metadata": {},
   "outputs": [],
   "source": [
    "# .keys()\n",
    "# 딕셔너리 키를 모은 객체를 반환\n",
    "\n",
    "person = {'name' : 'Alice', 'age' : 25}\n",
    "print(person.keys()) # dict_keys(['name', 'age']) => dict_keys 신경쓰지 마라\n",
    "\n",
    "for k in person.keys():\n",
    "    print(k)\n",
    "\"\"\"\n",
    "name\n",
    "age\n",
    "\"\"\""
   ]
  },
  {
   "cell_type": "code",
   "execution_count": null,
   "metadata": {},
   "outputs": [],
   "source": [
    "# .values()\n",
    "# 딕셔너리 값을 모은 객체를 반환\n",
    "\n",
    "person = {'name' : 'Alice', 'age' : 25}\n",
    "print(person.values()) # dict_values(['Alice', 25])\n",
    "\n",
    "for v in person.values():\n",
    "    print(v)\n",
    "\"\"\"\n",
    "Alice\n",
    "25\n",
    "\"\"\""
   ]
  },
  {
   "cell_type": "code",
   "execution_count": null,
   "metadata": {},
   "outputs": [],
   "source": [
    "# .items()\n",
    "# 딕셔너리 키/값 쌍을 모은 객체를 반환\n",
    "\n",
    "person = {'name' : 'Alice', 'age' : 25}\n",
    "print(person.items()) # dict_items([('name', 'Alice'), ('age', 25)])\n",
    "\n",
    "for key, value in person.items():\n",
    "    print(key, value)\n",
    "\"\"\"\n",
    "name Alice\n",
    "age 25\n",
    "\"\"\""
   ]
  },
  {
   "cell_type": "code",
   "execution_count": null,
   "metadata": {},
   "outputs": [],
   "source": [
    "# .pop(key[,default])\n",
    "# 키를 제거하고 연결됐던 값을 반환 (없으면 에러나 default를 반환)\n",
    "\n",
    "person = {'name' : 'Alice', 'age' : 25}\n",
    "print(person.pop('age')) # 25\n",
    "print(person) # {'name': 'Alice'}\n",
    "# print(person.pop('country')) # 에러\n",
    "print(person.pop('country', 'country 키는 없어요'))"
   ]
  },
  {
   "cell_type": "code",
   "execution_count": null,
   "metadata": {},
   "outputs": [],
   "source": [
    "# .setdefault(key[,default])\n",
    "# 키와 연결된 값을 반환 => 여기까진 get과 똑같음\n",
    "# 키가 없다면 default와 연결한 키를 딕셔너리에 추가하고 default를 반환\n",
    "\n",
    "# get은 키가 없으면 None, setdefault는 키가 없으면 추가\n",
    "\n",
    "person = {'name' : 'Alice', 'age' : 25}\n",
    "\n",
    "print(person.setdefault('country', 'KOREA')) # KOREA\n",
    "print(person) # {'name': 'Alice', 'age': 25, 'country': 'KOREA'}"
   ]
  },
  {
   "cell_type": "code",
   "execution_count": null,
   "metadata": {},
   "outputs": [],
   "source": [
    "# .update([other])\n",
    "# other가 제공하는 키/값 쌍으로 딕셔너리를 갱신\n",
    "# 기존 키는 덮어씀\n",
    "\n",
    "person = {'name' : 'Alice', 'age' : 25}\n",
    "other_person = {'name' : 'Jane', 'gender' : 'Female'}\n",
    "\n",
    "person.update(other_person)\n",
    "print(person) # {'name': 'Jane', 'age': 25, 'gender': 'Female'}\n",
    "# 중복이면 마지막 값(덮어 씌운 값)이 덮어 씌워짐\n",
    "\n",
    "person.update(age =  50)\n",
    "print(person) # {'name': 'Jane', 'age': 50, 'gender': 'Female'}\n",
    "\n",
    "person.update(country='KOREA')\n",
    "print(person) # {'name': 'Jane', 'age': 50, 'gender': 'Female', 'country': 'KOREA'}"
   ]
  },
  {
   "cell_type": "markdown",
   "metadata": {},
   "source": [
    "복사\n",
    "\n",
    "불변과 가변의 복사를 다르게 다룸\n",
    "\n",
    "얕은 복사\n",
    "슬라이싱 / copy"
   ]
  },
  {
   "cell_type": "code",
   "execution_count": null,
   "metadata": {},
   "outputs": [],
   "source": [
    "a = [1, 2, 3, 4]\n",
    "b = a\n",
    "b[0] = 100\n",
    "\n",
    "print(a) # [100, 2, 3, 4]\n",
    "print(b) # [100, 2, 3, 4]\n",
    "\n",
    "# list 할당은 주소를 복사했기 때문에 둘다 변경됨"
   ]
  }
 ],
 "metadata": {
  "kernelspec": {
   "display_name": "Python 3",
   "language": "python",
   "name": "python3"
  },
  "language_info": {
   "codemirror_mode": {
    "name": "ipython",
    "version": 3
   },
   "file_extension": ".py",
   "mimetype": "text/x-python",
   "name": "python",
   "nbconvert_exporter": "python",
   "pygments_lexer": "ipython3",
   "version": "3.9.13"
  },
  "orig_nbformat": 4
 },
 "nbformat": 4,
 "nbformat_minor": 2
}
