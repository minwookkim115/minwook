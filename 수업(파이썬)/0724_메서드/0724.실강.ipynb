{
 "cells": [
  {
   "cell_type": "code",
   "execution_count": null,
   "metadata": {},
   "outputs": [],
   "source": [
    "tup = (3, 4, 5, 6, 2, 1) # 튜플은 변경 불가능\n",
    "\n",
    "print(sorted(tup)) # [1, 2, 3, 4, 5, 6]\n",
    "print(tup) # (3, 4, 5, 6, 2, 1) => 원본은 그대로"
   ]
  },
  {
   "cell_type": "code",
   "execution_count": null,
   "metadata": {},
   "outputs": [],
   "source": [
    "string1 = \"하가다\"\n",
    "string2 = \"zxcva\"\n",
    "\n",
    "print(sorted(string1)) # => ['가', '다', '하']\n",
    "print(sorted(string2)) # => ['a', 'c', 'v', 'x', 'z']"
   ]
  },
  {
   "cell_type": "code",
   "execution_count": null,
   "metadata": {},
   "outputs": [],
   "source": [
    "dic = {\"c\" : 3, \"b\" : 10, \"a\" : 5}\n",
    "\n",
    "print(sorted(dic)) # ['a', 'b', 'c']\n",
    "\n",
    "#  ex) 딕셔너리를 정렬하고 싶은데 키가 아니라 값을 기준으로 정렬하고 싶다.\n",
    "# \"c\" : 3, \"a\" : 5, \"b\" : 10\n",
    "\n",
    "def sort_key(item):\n",
    "\n",
    "    # item의 value를 return / 정렬 기준을 return\n",
    "    print(item)\n",
    "    return item[1] # 0이면 key를 기준으로 1이면 value를 기준으로\n",
    "\n",
    "print(sorted(dic.items(),key=sort_key)) # key 인자는 정렬방법을 서술할 함수\n",
    "print(sorted(dic.items(),key=lambda item: item[1])) "
   ]
  },
  {
   "cell_type": "code",
   "execution_count": 1,
   "metadata": {},
   "outputs": [
    {
     "name": "stdout",
     "output_type": "stream",
     "text": [
      "[1, 2]\n"
     ]
    }
   ],
   "source": [
    "my_list = []\n",
    "\n",
    "my_list.append(1)\n",
    "\n",
    "my_list.extend([2])\n",
    "\n",
    "print(my_list)"
   ]
  }
 ],
 "metadata": {
  "kernelspec": {
   "display_name": "Python 3",
   "language": "python",
   "name": "python3"
  },
  "language_info": {
   "codemirror_mode": {
    "name": "ipython",
    "version": 3
   },
   "file_extension": ".py",
   "mimetype": "text/x-python",
   "name": "python",
   "nbconvert_exporter": "python",
   "pygments_lexer": "ipython3",
   "version": "3.9.13"
  },
  "orig_nbformat": 4
 },
 "nbformat": 4,
 "nbformat_minor": 2
}
