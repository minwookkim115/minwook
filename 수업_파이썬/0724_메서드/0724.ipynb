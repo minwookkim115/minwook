{
 "cells": [
  {
   "cell_type": "markdown",
   "metadata": {},
   "source": [
    "위치에 따라 메서드냐 함수냐 나눠서 부름\n",
    "\n",
    "함수 = def로 정의\n",
    "메서드도 똑같다 100%\n",
    "그런데 위치가 다르다. / 함수는 글로벌 스코프 메서드는 객체에서\n",
    "\n",
    "함수는 글로벌 스코프에서 작성해 나갔음\n",
    "메서드는 객체에 속한 함수\n",
    "\n",
    "메서드는 class 내부에 정의 되는 함수\n",
    "class는 타입을 표현하는 방법\n",
    "=> str() 문자열을 만들때 쓴다\n",
    "help라는 함수로 str을 묶어서 print하면 설명서 출력\n",
    "\n",
    "메서드는 어딘가(class)에 속한 함수\n",
    "데이터 타입별로 다양한 기능을 갖고 있다\n"
   ]
  },
  {
   "cell_type": "code",
   "execution_count": null,
   "metadata": {},
   "outputs": [],
   "source": [
    "print(help(str))\n",
    "\n",
    "\"\"\"\n",
    "class str(object) \n",
    " |  str(object='') -> str : object라는 기본인자\n",
    " |  str(bytes_or_buffer[, encoding[, errors]]) -> str\n",
    " |  \n",
    " |  Create a new string object from the given object. If encoding or\n",
    " |  errors is specified, then the object must expose a data buffer\n",
    " \"\"\""
   ]
  },
  {
   "cell_type": "code",
   "execution_count": null,
   "metadata": {},
   "outputs": [],
   "source": [
    "# 문자열 메서드\n",
    "print(\"hello\".capitalize()) # Hello 문자열 앞을 대문자로 바꿔주는 메서드\n",
    "\n",
    "# 리스트 메서드\n",
    "numbers = [1, 2, 3]\n",
    "numbers.append(4)\n",
    "\n",
    "print(numbers) # [1, 2, 3, 4]\n"
   ]
  },
  {
   "cell_type": "markdown",
   "metadata": {},
   "source": [
    "시퀀스 데이터\n",
    "여러 개의 값들을 순서대로 나열하는 자료형\n",
    "=> str, list, tuple, range (정렬 아님)\n",
    "\n",
    "find = 인자의 첫번째 위치 반환 없으면 -1\n",
    "index = 인자의 첫번째 위치 반환 없으면 오류\n",
    "isalpha = 알파벳 문자 여부 ※ 단순 알파벳이 아닌 유니코드 상 Letter (한국어 포함)\n",
    "isupper = 대문자 여부\n",
    "islower = 소문자 여부\n",
    "istitle = 타이틀 형식 여부\n",
    "is가 들어가면 함수, 메서드 값이 True 아니면 False다"
   ]
  },
  {
   "cell_type": "code",
   "execution_count": null,
   "metadata": {},
   "outputs": [],
   "source": [
    "print(\"banana\".find(\"a\")) # 1 a가 \"banana\"에서 처음으로 나오는 인덱스 반환\n",
    "\n",
    "print(\"banana\".find(\"z\")) # -1 z가 \"banana\"에 없으므로 -1"
   ]
  },
  {
   "cell_type": "code",
   "execution_count": null,
   "metadata": {},
   "outputs": [],
   "source": [
    "print(\"banana\".index(\"a\")) # 1 a가 \"banana\"에서 처음으로 나오는 인덱스 반환\n",
    "\n",
    "print(\"banana\".index(\"z\")) # ValueError: substring not found\n",
    "\n",
    "# 에러가 발생했다는 것은 코드가 그 이상으로 진행되지 않음"
   ]
  },
  {
   "cell_type": "code",
   "execution_count": null,
   "metadata": {},
   "outputs": [],
   "source": [
    "\"Hello world\".title() # Hello World\n",
    "# 단어마다 앞글자를 대문자로 바꿔줌"
   ]
  },
  {
   "cell_type": "markdown",
   "metadata": {},
   "source": [
    "문자열 조작 메서드(새 문자열 반환 => 문자열은 불변이니까 새로운 문자열로 반환)"
   ]
  },
  {
   "cell_type": "code",
   "execution_count": null,
   "metadata": {},
   "outputs": [],
   "source": [
    "# .replace(old, new[,count]) => [,count]는 선택인자 파이썬 문법 아님\n",
    "# 프로그래밍 언어에서 문법들을 표준화 시키기 위해서 사용하는 일종의 표기법\n",
    "# 언어마다 선택인자 표기법이 달라서 공식문서에서 표준화 시켜둔 것\n",
    "# [,count]는 공식문서에서 확인\n",
    "# BNF 표기법 △\n",
    "# 파이썬에서는 EBNF 표기법\n",
    "\n",
    "text = \"Hello, world!\"\n",
    "new_text = text.replace(\"world\", \"Python\")\n",
    "print(new_text)"
   ]
  },
  {
   "cell_type": "code",
   "execution_count": 14,
   "metadata": {},
   "outputs": [
    {
     "name": "stdout",
     "output_type": "stream",
     "text": [
      " Hello, world! \n"
     ]
    }
   ],
   "source": [
    "# .strip([chars]) : 문자열의 시작과 끝에 있는 공백 혹은 지정한 문자를 제거\n",
    "\n",
    "text = \" Hello, world! \"\n",
    "new_text = text.strip(\"H\")\n",
    "print(new_text) # \"Hello, world!\""
   ]
  },
  {
   "cell_type": "code",
   "execution_count": null,
   "metadata": {},
   "outputs": [],
   "source": [
    "# .split(sep=None, maxsplit = -1) ☆☆☆☆☆☆☆☆☆ 중요 ☆☆☆☆☆☆☆☆☆\n",
    "# 지정한 문자를 구분자(,)로 문자열을 분리하여 문자열의 리스트로 반환\n",
    "\n",
    "text = \"Hello, world!\"\n",
    "words = text.split(\",\")\n",
    "print(words) #['Hello', ' world!']"
   ]
  },
  {
   "cell_type": "code",
   "execution_count": null,
   "metadata": {},
   "outputs": [],
   "source": [
    "# 'separator'.join([iterable]) ☆☆☆☆☆☆☆☆☆ 중요 ☆☆☆☆☆☆☆☆☆\n",
    "# iterable 요소들을 원래의 문자열을 구분자로 이용하여 하나의 문자열로 연결\n",
    "\n",
    "words = [\"Hello\", \"world!\"]\n",
    "text = \"-\".join(words)\n",
    "print(text) # \"Hello-world!\""
   ]
  },
  {
   "cell_type": "code",
   "execution_count": null,
   "metadata": {},
   "outputs": [],
   "source": [
    "# .capitalize() : 앞만 대문자\n",
    "# .title() : 단어별로 대문자\n",
    "# .upper() : 다 대문자\n",
    "# .lower() : 다 소문자\n",
    "# .swqpcase() : 대소문자를 반대로"
   ]
  },
  {
   "cell_type": "code",
   "execution_count": null,
   "metadata": {},
   "outputs": [],
   "source": [
    "# 메서드는 이어서 사용 가능\n",
    "\n",
    "text = 'heLLo, woRld'\n",
    "\n",
    "new_text = text.swapcase().replace(\"l\", \"z\")\n",
    "\n",
    "print(new_text) # HEzzO, WOrLD"
   ]
  },
  {
   "cell_type": "markdown",
   "metadata": {},
   "source": [
    "리스트 값 추가 및 삭제 메서드"
   ]
  },
  {
   "cell_type": "code",
   "execution_count": null,
   "metadata": {},
   "outputs": [],
   "source": [
    "# .append(x) ☆☆☆☆☆☆☆☆☆ 중요 ☆☆☆☆☆☆☆☆☆\n",
    "# 리스트 마지막에 항목 x 추가\n",
    "\n",
    "my_list = [1, 2, 3]\n",
    "my_list.append(4)\n",
    "\n",
    "print(my_list) # [1, 2, 3, 4]"
   ]
  },
  {
   "cell_type": "code",
   "execution_count": 36,
   "metadata": {},
   "outputs": [
    {
     "name": "stdout",
     "output_type": "stream",
     "text": [
      "[1, 2, 3, 4, 5, 6]\n"
     ]
    }
   ],
   "source": [
    "numbers = [1, 2, 3]\n",
    "numbers2 = [4, 5, 6]\n",
    "\n",
    "print(numbers.append(numbers2)) # None\n",
    "print(numbers.extend(numbers2)) # None\n",
    "\n",
    "# 원본을 바꿨다.\n",
    "\n",
    "numbers.append(numbers2)\n",
    "print(numbers) # [1, 2, 3, [4, 5, 6]]\n",
    "\n",
    "numbers.extend(numbers2)\n",
    "print(numbers) # [1, 2, 3, 4, 5, 6]"
   ]
  },
  {
   "cell_type": "code",
   "execution_count": null,
   "metadata": {},
   "outputs": [],
   "source": [
    "# .extend(iterable) ☆☆☆☆☆☆☆☆☆ 중요 ☆☆☆☆☆☆☆☆☆\n",
    "# 리스트에 다른 반복 가능한 객체의 모든 항목 추가\n",
    "\n",
    "my_list = [1, 2, 3]\n",
    "my_list.extend([4, 5, 6])\n",
    "\n",
    "print(my_list) # [1, 2, 3, 4, 5 ,6]"
   ]
  },
  {
   "cell_type": "code",
   "execution_count": null,
   "metadata": {},
   "outputs": [],
   "source": [
    "# .insert(i, x)\n",
    "# 리스트의 지정한 인덱스 i 위치에 항목 x를 삽입\n",
    "\n",
    "my_list = [1, 2, 3]\n",
    "my_list.insert(1, 5)\n",
    "print(my_list) # [1, 5, 2, 3]"
   ]
  },
  {
   "cell_type": "code",
   "execution_count": null,
   "metadata": {},
   "outputs": [],
   "source": [
    "# .remove(x)\n",
    "# 리스트에서 첫 번째로 일치하는 항목 삭제\n",
    "\n",
    "my_list = [1, 2, 3, 2]\n",
    "my_list.remove(2)\n",
    "print(my_list) # [1, 3, 2]\n"
   ]
  },
  {
   "cell_type": "code",
   "execution_count": null,
   "metadata": {},
   "outputs": [],
   "source": [
    "# .pop(i) / append와 반대 ☆☆☆☆☆☆☆☆☆ 중요 ☆☆☆☆☆☆☆☆☆\n",
    "# 리스트에서 지정한 인덱스의 항목을 제거하고 반환 => 제거한 것을 \n",
    "# 작성하지 않을경우 마지막 항목을 제거\n",
    "\n",
    "my_list = [1, 2, 3, 4, 5]\n",
    "\n",
    "item1 = my_list.pop()\n",
    "item2 = my_list.pop(0)\n",
    "\n",
    "print(item1) # 5\n",
    "print(item2) # 1\n",
    "print(my_list) # [2, 3, 4]"
   ]
  },
  {
   "cell_type": "code",
   "execution_count": null,
   "metadata": {},
   "outputs": [],
   "source": [
    "# .clear\n",
    "# 리스트의 모든 항목을 삭제\n",
    "\n",
    "my_list = [1, 2, 3]\n",
    "my_list.clear()\n",
    "print(my_list) # []"
   ]
  },
  {
   "cell_type": "markdown",
   "metadata": {},
   "source": [
    "리스트 탐색 및 정렬 메서드"
   ]
  },
  {
   "cell_type": "code",
   "execution_count": null,
   "metadata": {},
   "outputs": [],
   "source": [
    "# .index(x, start, end)\n",
    "# 리스트에서 첫 번째로 일치하는 항목의 인덱스를 반환\n",
    "\n",
    "my_list = [1, 2, 3]\n",
    "index = my_list.index(2)\n",
    "print(index) # 1 => 찾은 값의 index값이 나옴"
   ]
  },
  {
   "cell_type": "code",
   "execution_count": null,
   "metadata": {},
   "outputs": [],
   "source": [
    "# .reverse() ☆☆☆☆☆☆☆☆☆ 중요 ☆☆☆☆☆☆☆☆☆\n",
    "# 리스트의 순서를 역순으로 변경(정렬x)\n",
    "\n",
    "my_list = [1, 2, 2, 8 ,1, 9]\n",
    "my_list.reverse()\n",
    "print(my_list) # [9, 1, 8, 2, 2, 1]"
   ]
  },
  {
   "cell_type": "code",
   "execution_count": null,
   "metadata": {},
   "outputs": [],
   "source": [
    "# .sort() ☆☆☆☆☆☆☆☆☆ 중요 ☆☆☆☆☆☆☆☆☆\n",
    "# 원본 리스트를 오름차순으로 정렬\n",
    "\n",
    "my_list = [2, 3, 1]\n",
    "my_list.sort()\n",
    "print(my_list) # [1, 2, 3]\n",
    "\n",
    "# 내림차순\n",
    "my_list.sort(reverse = True)\n",
    "# => revers = True 로 키워드 인자를 줌\n",
    "# sort()기본인자 안에 revers=False라는 기본인자가 동작하고 있었다.\n",
    "print(my_list) # [3, 2, 1]"
   ]
  },
  {
   "cell_type": "code",
   "execution_count": null,
   "metadata": {},
   "outputs": [],
   "source": [
    "# .count(x)\n",
    "# 리스트에서 항목 x가 등장하는 횟수 반환\n",
    "\n",
    "my_lsit = [1, 2, 2, 3, 3, 3]\n",
    "count = my_lsit.count(3)\n",
    "print(count) # 3"
   ]
  }
 ],
 "metadata": {
  "kernelspec": {
   "display_name": "Python 3",
   "language": "python",
   "name": "python3"
  },
  "language_info": {
   "codemirror_mode": {
    "name": "ipython",
    "version": 3
   },
   "file_extension": ".py",
   "mimetype": "text/x-python",
   "name": "python",
   "nbconvert_exporter": "python",
   "pygments_lexer": "ipython3",
   "version": "3.9.13"
  },
  "orig_nbformat": 4
 },
 "nbformat": 4,
 "nbformat_minor": 2
}
