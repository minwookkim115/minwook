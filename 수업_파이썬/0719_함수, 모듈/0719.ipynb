{
 "cells": [
  {
   "cell_type": "markdown",
   "metadata": {},
   "source": [
    "# Function\n",
    "\n",
    "1. 함수 => **특정 작업을 수행**하기 위한 **재사용 가능**한 **코드 묶음**\n",
    "    - 함수를 사용하는 이유"
   ]
  },
  {
   "cell_type": "code",
   "execution_count": 5,
   "metadata": {},
   "outputs": [
    {
     "name": "stdout",
     "output_type": "stream",
     "text": [
      "8\n"
     ]
    }
   ],
   "source": [
    "# 두 수의 합을 구하는 함수\n",
    "def get_sum(num1, num2):\n",
    "    return num1 + num2\n",
    "\n",
    "# 함수를 사용하여 결과 출력\n",
    "num1 = 5\n",
    "num2 = 3\n",
    "sum_result = get_sum(num1, num2)\n",
    "print(sum_result)"
   ]
  },
  {
   "cell_type": "markdown",
   "metadata": {},
   "source": [
    "2. 내장 함수\n",
    "- 파이썬이 기본적으로 제공하는 함수"
   ]
  },
  {
   "cell_type": "code",
   "execution_count": 6,
   "metadata": {},
   "outputs": [],
   "source": [
    "def make_sum(pram1, pram2):\n",
    "    \"\"\"이것은 두 수를 받아\n",
    "    두 수의 합을 반환하는 함수입니다.\n",
    "    >>> make_sum(1, 2)\n",
    "    3\n",
    "    \"\"\"\n",
    "    return pram1 + pram2"
   ]
  },
  {
   "cell_type": "markdown",
   "metadata": {},
   "source": [
    "\"\"\"\n",
    "\"\"\" 의 주석은 함수 설명 주석 => docstring\n",
    "\n",
    "parameter = 매개변수\n",
    "return value = 반환\n",
    "\n",
    "### 함수의 정의와 호출\n",
    "\n",
    "- 함수 정의는 **def** 키워드로 시작\n",
    "- 반환값(return)이 없는 함수는 return이 None 이다."
   ]
  },
  {
   "cell_type": "code",
   "execution_count": 8,
   "metadata": {},
   "outputs": [
    {
     "name": "stdout",
     "output_type": "stream",
     "text": [
      "Hello, Alice\n"
     ]
    }
   ],
   "source": [
    "# 함수 정의\n",
    "def greet(name):\n",
    "    \"\"\"입렵된 이름 값에\n",
    "    인사를 하는 메세지를 만드는 함수\n",
    "    \"\"\"\n",
    "    message = 'Hello, ' + name\n",
    "    return message\n",
    "\n",
    "# 함수 호출\n",
    "result = greet('Alice')\n",
    "print(result)"
   ]
  },
  {
   "cell_type": "markdown",
   "metadata": {},
   "source": [
    "3. 매개변수와 인자\n",
    "\n",
    "    1. 매개변수(parameter) : 함수를 정의할 때 **함수가 받을 값**을 나타내는 변수\n",
    "    2. 인자(argument) : 함수를 호출할 때 **실제로 전달**되는 값"
   ]
  },
  {
   "cell_type": "code",
   "execution_count": null,
   "metadata": {},
   "outputs": [],
   "source": [
    "def add_numbers(x, y): # x와 y는 매개변수(parameter)\n",
    "    result = x + y\n",
    "    return result\n",
    "\n",
    "a = 2\n",
    "b = 3\n",
    "sum_result = add_numbers(a, b) # a와 b는 인자(argument)\n",
    "print(sum_result)"
   ]
  },
  {
   "cell_type": "markdown",
   "metadata": {},
   "source": [
    "- ㅡㅡㅡㅡㅡㅡㅡ\n",
    "    3. 인자의 종류\n",
    "\n",
    "        - 위치 인자 => 그냥 쓰면됨\n",
    "        - name과 age가 있으면 name은 첫번째 위치 인자 age는 두번째 위치인자\n",
    "\n",
    "        - 기본 인자 값\n",
    "            - 함수 정의에서 매개변수에 **기본 값**을 할당\n",
    "            - 인자를 넣지 않으면 기본 인자 값이 매개변수에 할당"
   ]
  },
  {
   "cell_type": "code",
   "execution_count": null,
   "metadata": {},
   "outputs": [],
   "source": [
    "def greet(name, age=30):\n",
    "    print(f\"안녕하세요, {name}님! {age}살이시군요.\")\n",
    "\n",
    "greet(\"bob\")\n",
    "greet()"
   ]
  },
  {
   "cell_type": "markdown",
   "metadata": {},
   "source": [
    "- ㅡㅡㅡㅡㅡㅡㅡ\n",
    "    - ㅡㅡㅡㅡㅡㅡㅡ\n",
    "        - 키워드 인자 : 값을 할당하는 인자\n",
    "        - => 0719라이브 참고\n",
    "\n",
    "        - 임의의 인자 목록\n",
    "            - 정해지지 않은 개수의 인자를 처리하는 인자\n",
    "            - 함수 정의 시 매개변수 앞에 '*'를 붙여 사용\n",
    "            - 여러개의 인자를 **tuple**로 처리\n",
    "\n",
    "        - 임의의 키워드 인자 목록\n",
    "            - 정해지지 않은 개수의 키워드 인자를 처리하는 인자\n",
    "            - 함수 정의 시 매개변수 앞에 '**'를 붙여 사용\n",
    "            - 여러개의 인자를 **dictionary**로 처리\n",
    "\n",
    "        - 함수 인자 권장 작성순서\n",
    "            - 위치 -> 기본 -> 가변 -> 키워드 -> 가변 키워드\n",
    "            - def func(pos1, pos2, default_arg=\"default\", *args, kwd, **kwargs)\n",
    "\n",
    "        "
   ]
  },
  {
   "cell_type": "code",
   "execution_count": null,
   "metadata": {},
   "outputs": [],
   "source": [
    "# Scope 예시\n",
    "# num은 local scope에 존재하기 때문에 global에서 사용 불가\n",
    "# 변수의 수명주기와 연관\n",
    "\n",
    "def func():\n",
    "    num = 20\n",
    "    print(\"local\", num) # local 20\n",
    "\n",
    "func()\n",
    "\n",
    "print(\"global\", num) # NameError: name 'num' is not defined"
   ]
  },
  {
   "cell_type": "markdown",
   "metadata": {},
   "source": [
    "scope는 큰 범위로 올라갈 수는 있지만 작은 범위로 내려가지는 않는다."
   ]
  },
  {
   "cell_type": "code",
   "execution_count": 13,
   "metadata": {},
   "outputs": [
    {
     "name": "stdout",
     "output_type": "stream",
     "text": [
      "10 2 500\n",
      "10 2 3\n",
      "1 2\n"
     ]
    }
   ],
   "source": [
    "a = 1\n",
    "b = 2\n",
    "\n",
    "def enclosed():\n",
    "    a = 10\n",
    "    c = 3\n",
    "\n",
    "    def local(c):\n",
    "        print(a, b, c) # 10 2 500\n",
    "\n",
    "    local(500)\n",
    "\n",
    "    print(a, b, c) # 10 2 3\n",
    "    # enclosed 영역에서 실행됨 \n",
    "\n",
    "enclosed()\n",
    "print(a, b) # 1 2\n",
    "# global 영역에서 실행됨"
   ]
  },
  {
   "cell_type": "code",
   "execution_count": 14,
   "metadata": {},
   "outputs": [
    {
     "name": "stdout",
     "output_type": "stream",
     "text": [
      "0\n",
      "1\n"
     ]
    }
   ],
   "source": [
    "num = 0 # 전역변수\n",
    "\n",
    "def increment():\n",
    "    global num # num를 전역 변수로 선언\n",
    "    num += 1\n",
    "\n",
    "print(num) # 0\n",
    "increment()\n",
    "print(num) # 1"
   ]
  },
  {
   "cell_type": "markdown",
   "metadata": {},
   "source": [
    "매개변수에 global 사용 불가\n",
    "\n",
    "4. 재귀 함수 => 자기자신을 다시 호출\n",
    "- 특정 알고리즘 식에서 중복되는 변수 사용 줄이기 가능\n",
    "- 직관적인 코드 작성\n",
    "\n",
    "    - 재귀함수의 예시 => n!\n",
    "    ※ 재귀함수는 무한 호출에 걸릴 수 있기 때문에 종료 조건이 있어야 함"
   ]
  },
  {
   "cell_type": "code",
   "execution_count": 20,
   "metadata": {},
   "outputs": [
    {
     "name": "stdout",
     "output_type": "stream",
     "text": [
      "120\n"
     ]
    }
   ],
   "source": [
    "def factorial(n):\n",
    "    # 종료 조건: n이 0이면 1을 반환\n",
    "    if n == 0:\n",
    "        return 1\n",
    "    # 재귀 호출: n과 n-1의 팩토리얼을 곱한 결과를 반환\n",
    "    return n * factorial(n - 1)\n",
    "\n",
    "# 팩토리얼 계산 예시\n",
    "result = factorial(5)\n",
    "print(result) # 120"
   ]
  },
  {
   "cell_type": "markdown",
   "metadata": {},
   "source": [
    "5. 유용한 내장 함수\n",
    "\n",
    "    1. map\n",
    "        - map(function, iterable(반복 가능한 객체(tuple, dic, 등)))\n",
    "        - map(int, input().split())\n"
   ]
  },
  {
   "cell_type": "code",
   "execution_count": 26,
   "metadata": {},
   "outputs": [
    {
     "name": "stdout",
     "output_type": "stream",
     "text": [
      "<map object at 0x000001CE2DAC1040>\n",
      "['1', '2', '3']\n",
      "['1', '2', '3']\n"
     ]
    }
   ],
   "source": [
    "def my_func(x):\n",
    "    result = x * 2\n",
    "    return result\n",
    "\n",
    "numbers = [1, 2, 3]\n",
    "result = map(str, numbers)\n",
    "\n",
    "print(result) # <map object at 0x000001CE2D96CA00>\n",
    "print(list(result))\n",
    "\n",
    "# 반복문으로 하는 과정\n",
    "result = []\n",
    "for number in numbers:\n",
    "    result.append(str(number))\n",
    "\n",
    "print(result)"
   ]
  },
  {
   "cell_type": "markdown",
   "metadata": {},
   "source": [
    "- ㅡㅡㅡㅡㅡㅡㅡ\n",
    "    2. zip(*interables)\n",
    "    - 임의의 iterable을 모아 튜플을 원소로 하는 zip object를 반환"
   ]
  },
  {
   "cell_type": "code",
   "execution_count": 1,
   "metadata": {},
   "outputs": [
    {
     "name": "stdout",
     "output_type": "stream",
     "text": [
      "<zip object at 0x000001745900D300>\n",
      "[('jane', 'peter'), ('ashley', 'jay')]\n"
     ]
    }
   ],
   "source": [
    "girls = ['jane', 'ashley']\n",
    "boys = ['peter', 'jay']\n",
    "pair = zip(girls, boys)\n",
    "\n",
    "print(pair) # <zip object at 0x000001745900D300>\n",
    "print(list(pair)) # [('jane', 'peter'), ('ashley', 'jay')]"
   ]
  },
  {
   "cell_type": "markdown",
   "metadata": {},
   "source": [
    "- ㅡㅡㅡㅡㅡㅡㅡ\n",
    "    3. lamda 함수 => 이름 없이 정의되고 사용되는 익명함수\n"
   ]
  },
  {
   "cell_type": "code",
   "execution_count": 2,
   "metadata": {},
   "outputs": [
    {
     "name": "stdout",
     "output_type": "stream",
     "text": [
      "8\n"
     ]
    }
   ],
   "source": [
    "def addition(x, y):\n",
    "    return x + y\n",
    "\n",
    "result = addition(3, 5)\n",
    "print(result)"
   ]
  },
  {
   "cell_type": "code",
   "execution_count": 4,
   "metadata": {},
   "outputs": [
    {
     "name": "stdout",
     "output_type": "stream",
     "text": [
      "[2, 4, 6, 8, 10]\n"
     ]
    }
   ],
   "source": [
    "# 람다함수의 사용\n",
    "# map + lamda\n",
    "numbers = [1, 2, 3, 4, 5]\n",
    "result = list(map(lambda x: x * 2, numbers))\n",
    "print(result)"
   ]
  },
  {
   "cell_type": "code",
   "execution_count": 5,
   "metadata": {},
   "outputs": [
    {
     "name": "stdout",
     "output_type": "stream",
     "text": [
      "[2, 4, 6, 8, 10]\n"
     ]
    }
   ],
   "source": [
    "numbers = [1, 2, 3, 4, 5]\n",
    "\n",
    "def double_number(x):\n",
    "    return x * 2\n",
    "\n",
    "result = list(map(double_number, numbers))\n",
    "print(result)"
   ]
  },
  {
   "cell_type": "markdown",
   "metadata": {},
   "source": [
    "패킹\n",
    "- 변수에 담긴 값들을 튜플 형태로 묶어준다\n",
    "- '*' 을 사용하면 남은 요소들을 패킹하여 할당\n"
   ]
  }
 ],
 "metadata": {
  "kernelspec": {
   "display_name": "Python 3",
   "language": "python",
   "name": "python3"
  },
  "language_info": {
   "codemirror_mode": {
    "name": "ipython",
    "version": 3
   },
   "file_extension": ".py",
   "mimetype": "text/x-python",
   "name": "python",
   "nbconvert_exporter": "python",
   "pygments_lexer": "ipython3",
   "version": "3.9.13"
  },
  "orig_nbformat": 4
 },
 "nbformat": 4,
 "nbformat_minor": 2
}
