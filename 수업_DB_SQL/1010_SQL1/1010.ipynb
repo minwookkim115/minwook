{
 "cells": [
  {
   "cell_type": "markdown",
   "metadata": {},
   "source": [
    "데이터베이스\n",
    "- 체계적인 데이터 모음"
   ]
  },
  {
   "cell_type": "markdown",
   "metadata": {},
   "source": [
    "데이터\n",
    "- 저장이나 처리에 효율적인 형태로 변환된 정보\n",
    "- 데이터 사용량이 증가하면서 데이터 센터가 성장하고 있다.\n",
    "- 데이터를 저장하고 잘 관리하여 활용할 수 있는 기술이 중요해 졌다.\n",
    "- 기존의 데이터 저장 방식\n",
    "  - 파일 이용\n",
    "  - 스프레드시트 이용"
   ]
  },
  {
   "cell_type": "markdown",
   "metadata": {},
   "source": [
    "파일을 이용한 데이터 관리\n",
    "- 어디에서나 쉽게 사용 가능\n",
    "- 데이터를 구조적으로 관리하기 어려움"
   ]
  },
  {
   "cell_type": "markdown",
   "metadata": {},
   "source": [
    "스프레드시트를 이용한 데이터 관리\n",
    "- 테이블의 행과 열을 이용해서 데이터 관리\n",
    "\n",
    "스프레드 시트의 한계\n",
    "- 크기\n",
    "  - 일반적으로 100만 행 까지만 저장 가능\n",
    "- 보안\n",
    "  - 단순히 파일이나 링크 소유 여부에 따른 단순한 접근 권한 기능 제공\n",
    "- 정확성\n",
    "  - 강원 지명이 강언으로 바뀌면 찾아서 바꾸기 힘들"
   ]
  },
  {
   "cell_type": "markdown",
   "metadata": {},
   "source": [
    "데이터베이스 역할\n",
    "- 한계를 해결하기 위해 데이터를 저장(구조적 저장)하고 조작(CRUD)할 것이 필요함"
   ]
  },
  {
   "cell_type": "markdown",
   "metadata": {},
   "source": [
    "관계형 데이터베이스\n",
    "- 데이터 간에 관계가 있는 데이터 항목들의 모음\n",
    "- 테이블, 행, 열의 정보를 구조화하는 방식\n",
    "- 서로 관련된 데이터 포인터를 저장하고 이에 대한 액세스를 제공\n",
    "- 주문테이블과 고객테이블이 있는데 주문테이블에 고객 ID가 필요한 이유!\n",
    "- 고객ID(관계)를 통해서 다양한 형식의 데이터를 조회 가능!\n",
    "    - 다양한 형식의 데이터 : 특정 날짜에 구매한 고객, 배송지연된 고객 등"
   ]
  },
  {
   "cell_type": "markdown",
   "metadata": {},
   "source": [
    "관계\n",
    "- 여러 테이블 간의 (논리적) 연결"
   ]
  },
  {
   "cell_type": "markdown",
   "metadata": {},
   "source": [
    "관계형 데이터베이스\n",
    "- 각 데이터마다 고유한 식별번호(id/pk, 주민등록번호 등)가 필요\n",
    "- 고객 테이블에서의 고유한 식별번호는 기본키(primary key)\n",
    "- 고객테이블에서 가져온 주문테이블의 고유한 식별번호는 외래키"
   ]
  },
  {
   "cell_type": "markdown",
   "metadata": {},
   "source": [
    "관련 키워드\n",
    "- Table : 데이터를 기록하는 곳(표)\n",
    "- Field(열) : 데이터의 형식이 지정(데이터 타입) ex)charfield, imagefield 이런거\n",
    "- Record(행) : 구체적인 데이터 값\n",
    "- Datatbase : 테이블들 모아 둔거\n",
    "- Primary Key : 레코드의 식별자로 활용\n",
    "- Foreign Key : 다른 테이블의 기본키를 참조, 관계를 만드는데 사용"
   ]
  },
  {
   "cell_type": "markdown",
   "metadata": {},
   "source": [
    "RDBMS\n",
    "- DBMS\n",
    "    - 데이터베이스를 관리하는 소프트웨어 프로그램\n",
    "    - 데이터베이스와 사용자 간의 인터페이스 역할\n",
    "    - 사용자가 데이터 구성, 업데이트, 모니터링, 백업, 복구 등을 할수 있도록\n",
    "- RDBMS\n",
    "    - 관계형 데이터베이스를 관리하는 프로그램"
   ]
  },
  {
   "cell_type": "markdown",
   "metadata": {},
   "source": [
    "SQL(Sturcture Query Language)\n",
    "- 데이터베이스에 정보를 저장하고 처리하기 위한 프로그래밍 언어\n",
    "- Structure : 구조화된 관계형 데이터베이스\n",
    "- Query : 한테 요청하는 언어"
   ]
  },
  {
   "cell_type": "markdown",
   "metadata": {},
   "source": [
    "SQL Syntax\n",
    "- SELECT column_name FROM table_name;\n",
    "- SQL 은 대소문자 구분하지 않지만 대문자 권장\n",
    "- 문장 끝날 때 마다 세미콜론(;)필요\n",
    "  - 명령어의 마침표"
   ]
  },
  {
   "cell_type": "markdown",
   "metadata": {},
   "source": [
    "SQL Statements\n",
    "- SQL을 구성하는 가장 기본적인 코드 블록\n",
    "- 4가지의 유형\n",
    "  - DDL : 데이터의 기본 구조 및 형식 변경 / CREATE, DROP ALER\n",
    "  - DQL : 데이터 검색(CRUD, R) / SELECT\n",
    "  - DML : 데이터 조작(추가, 수정, 삭제)\n",
    "  - DCL : 데이터 및 작업에 대한 사용자 권한 제어"
   ]
  },
  {
   "cell_type": "markdown",
   "metadata": {},
   "source": [
    "Query\n",
    "- 모든 SQL문은 Query(요청)하는것"
   ]
  },
  {
   "cell_type": "markdown",
   "metadata": {},
   "source": [
    "Querying Data\n",
    "- SELECT\n",
    "  - 테이블에서 데이터를 조회"
   ]
  },
  {
   "cell_type": "markdown",
   "metadata": {},
   "source": [
    "ORDER BY syntax\n",
    "- 정렬하기 / 하나 이상의 컬럼을 기준으로\n",
    "- 오름차순(ASC) / 내림차순(DESC)"
   ]
  },
  {
   "cell_type": "markdown",
   "metadata": {},
   "source": [
    "Filtering\n",
    "- 조건을 걸어버려\n",
    "- Clause\n",
    "  - DISTICNT : 조회 결과에서 중복 제거\n",
    "  - WHERE : 조회 시 검색 조건을 지정\n",
    "  - LIMIT : 조회하는 레코드 수를 제한\n",
    "- Operator\n",
    "  - BETWEEN : AND와 함께 몇부터 몇 사이에 있는지\n",
    "  - IN : 값이 특정 목록안에 있는지\n",
    "  - LIKE : (%, _) 를 이용해서 특정 패턴에 일치하는지\n",
    "  - Comparison : \n",
    "  - Logical : "
   ]
  },
  {
   "cell_type": "markdown",
   "metadata": {},
   "source": [
    "GROUP BY\n",
    "- 레코드를 그룹화하여 요약본 생성('집계 함수'와 함께 사용)\n",
    "- 집계함수\n",
    "  - SUM, AVG, MAX, MIN, COUNT"
   ]
  }
 ],
 "metadata": {
  "language_info": {
   "name": "python"
  }
 },
 "nbformat": 4,
 "nbformat_minor": 2
}
