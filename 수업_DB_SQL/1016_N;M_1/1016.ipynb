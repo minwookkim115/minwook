{
 "cells": [
  {
   "cell_type": "markdown",
   "metadata": {},
   "source": [
    "M:N 관계 주요 사항\n",
    "- M:N 관계로 맺어진 두 테이블에는 물리적인 변화가 없음\n",
    "- ManyToManyField는 중개 테이블을 자동으로 생성\n",
    "- ManyToManyField는 M:N 관계를 맺는 두 모델 암때나 있어도 됨\n",
    "    - but 참조, 역참조 주의 => 필드가 있는곳에서 참조, 없는 곳에서 역참조"
   ]
  },
  {
   "cell_type": "markdown",
   "metadata": {},
   "source": [
    "ManyToManyField의 옵션\n",
    "- related_name\n",
    "    - 역참조를 할 때 set을 안쓰고 이름을 써서 역참조 하기\n",
    "- symmetrical(대칭)\n",
    "    - 자기 스스로와 다대다 관계를 가질 때 씀\n",
    "    - 1번 person과 2번 person이 친구다\n",
    "    - 대칭의 의미 => 1, 2 가 추가가 되면 2, 1 도 추가가 된다.\n",
    "    - 인스타 팔로우기능 기본값이 True인데 팔로우하면 자동으로 팔로우 되어버림"
   ]
  },
  {
   "cell_type": "markdown",
   "metadata": {},
   "source": [
    "M:N에서의 methods\n",
    "- add()\n",
    "    - 지정된 객체를 관련 객체 집합에 추가\n",
    "    - 이미 존재하는 관계에 사용하면 관계가 복제되지 않음\n",
    "- remove()\n",
    "    - 관련 객체 집합에서 지정된 모델 객체를 제거"
   ]
  }
 ],
 "metadata": {
  "language_info": {
   "name": "python"
  }
 },
 "nbformat": 4,
 "nbformat_minor": 2
}
