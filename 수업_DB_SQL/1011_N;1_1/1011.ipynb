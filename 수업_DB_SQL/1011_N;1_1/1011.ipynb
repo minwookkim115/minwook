{
 "cells": [
  {
   "cell_type": "markdown",
   "metadata": {},
   "source": [
    "Many to one relationships\n",
    "- N:1 or 1:N\n",
    "    - 한 테이블의 레코드가 다른 테이블의 레코드 한개와 관련된 관계\n",
    "- Comment(N) - Article(1) => N:1\n",
    "    - 0개 이상의 댓글(N)은 1개의 게시글에 작성될 수 있다.\n",
    "    - N:1 에서는 N부분이 외래키를 가지고 있다."
   ]
  },
  {
   "cell_type": "markdown",
   "metadata": {},
   "source": [
    "N -> 1 (참조)\n",
    "- 댓글이 어떤 게시글에 작성되었는지를 조회 가능\n",
    "- 외래키가 있어서 참조 걍 하면됨\n",
    "\n",
    "1 -> N (역참조)\n",
    "- 해당 게시글에 작성된 모든 댓글을 조회\n",
    "- 외래키가 없으니까 별도의 역참조 이름이 필요\n",
    "- ex) article.comment_set.all() => comment(모델명)_set : 역참조 이름"
   ]
  }
 ],
 "metadata": {
  "language_info": {
   "name": "python"
  }
 },
 "nbformat": 4,
 "nbformat_minor": 2
}
