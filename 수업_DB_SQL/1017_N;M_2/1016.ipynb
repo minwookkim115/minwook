{
 "cells": [
  {
   "cell_type": "markdown",
   "metadata": {},
   "source": [
    "다대다관계는 중개테이블이 중요!"
   ]
  },
  {
   "cell_type": "markdown",
   "metadata": {},
   "source": [
    ".exists()\n",
    "- 쿼리셋에 결과가 포함되어 있으면 True를 반환하고\n",
    "- 포함되어 있지 않으면 False를 반환"
   ]
  },
  {
   "cell_type": "markdown",
   "metadata": {},
   "source": [
    "Fixtures\n",
    "- Django가 데이터베이스로 가져오는 방법을 알고 있는 데이터 모음\n",
    "- 데이터베이스 구조에 맞추어 작성 되어있음"
   ]
  },
  {
   "cell_type": "markdown",
   "metadata": {},
   "source": [
    "초기 데이터의 필요성\n",
    "- 협업하는 유저 A,B 가 있다\n",
    "- A가 열심히 만들어 놨는데 B는 gitignore땜시 받을수 있는게 없음\n",
    "- fixtures를 통해 프로젝트에 초기 데이터를 제공함"
   ]
  },
  {
   "cell_type": "markdown",
   "metadata": {},
   "source": [
    "fixtures관련 명령어\n",
    "- dumpdata : 생성(데이터 추출) / json형식으로 저장\n",
    "- loaddata : 로드(데이터 입력)"
   ]
  }
 ],
 "metadata": {
  "language_info": {
   "name": "python"
  }
 },
 "nbformat": 4,
 "nbformat_minor": 2
}
