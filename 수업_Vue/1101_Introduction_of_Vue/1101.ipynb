{
 "cells": [
  {
   "cell_type": "markdown",
   "metadata": {},
   "source": [
    "Front-end Development\n",
    "- 웹사이트와 웹 애플리케이션의 사용자 인터페이스(UI)와 사용자 경험(UX)을 만들고 디자인하는 것\n",
    "- HTML, CSS, JavaScript 등을 활용하여 사용자가 직접 상호작용하는 부분을 개발"
   ]
  },
  {
   "cell_type": "markdown",
   "metadata": {},
   "source": [
    "Client-side frameworks\n",
    "- 클라이언트 측에서 UI와 상호작용을 개발하기 위해 사용되는 JavaScript 기반 프레임워크"
   ]
  },
  {
   "cell_type": "markdown",
   "metadata": {},
   "source": [
    "Client-side frameworks가 필요한 이유\n",
    "- 웹에서 하는일이 많아짐 => 다루는 데이터가 많아졌다\n",
    "- 무언가를 읽는 곳 => 무언가를 하는 곳이 됨"
   ]
  },
  {
   "cell_type": "markdown",
   "metadata": {},
   "source": [
    "SPA(Single Page Application)\n",
    "- 페이지 한 개로 구성된 웹 애플리케이션\n",
    "- 최초로 HTML요청 한번 보내고 Ajax를 통해서 JSON데이터를 가져와서 계속 바꿈\n",
    "    - 페이지를 채우기 위한 JSON데이터\n",
    "    - 페이지 갱신에 필요한 데이터만을 JSON으로 받아 페이지를 갱신\n",
    "    - so Google Maps, 인스타그램 등의 서비스에서 갱신 시 새로고침이 없음\n",
    "- 웹 어플리케이션의 초기 로딩 후 새로운 페이지 요청 없이 동적으로 화면만 갱신\n",
    "- 사용자와 상호작용하는 웹 어플리케이션\n",
    "- THIS IS CSR방식"
   ]
  },
  {
   "cell_type": "markdown",
   "metadata": {},
   "source": [
    "Client-side Rendering <=> SSR => Server-side Rendering\n",
    "- 클라이언트에서 화면을 렌더링 하는 방식"
   ]
  },
  {
   "cell_type": "markdown",
   "metadata": {},
   "source": [
    "Vue\n",
    "- 사용자 인터페이스를 구축하기 위한 JavaScript 프레임워크"
   ]
  },
  {
   "cell_type": "markdown",
   "metadata": {},
   "source": [
    "Vue 기능\n",
    "- 선언적 렌더링\n",
    "    - HTML을 확장하는 템플릿 구문을 사용하여 HTML이 JavaScript 데이터를 기반으로 어떻게 보이는지 설명할 수 있음\n",
    "- 반응형\n",
    "    - JavaScript 상태 변경사항을 자동으로 추적하고 변경사항이 발생할 때 DOM을 효율적으로 업데이트"
   ]
  },
  {
   "cell_type": "markdown",
   "metadata": {},
   "source": [
    "ref()\n",
    "- 반응형 상태(데이터)를 선언하는 함수(Declaring Reactive State)\n",
    "- 반응형을 가지는 참조 변수를 만드는 것"
   ]
  }
 ],
 "metadata": {
  "language_info": {
   "name": "python"
  }
 },
 "nbformat": 4,
 "nbformat_minor": 2
}
