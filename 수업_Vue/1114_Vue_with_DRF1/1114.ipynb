{
 "cells": [
  {
   "cell_type": "markdown",
   "metadata": {},
   "source": [
    "CORS Policy"
   ]
  },
  {
   "cell_type": "markdown",
   "metadata": {},
   "source": [
    "SOP(Same-origin policy)\n",
    "- 어떤 출처(origin)에서 불러온 문서나 스크립트가 다른 출처에서 가져온 리소스와 상호작용하는 것을 제한하는 보안 방식\n",
    "- 웹 애플리케이션의 도메인이 다른 도메인의 리소스에 접근하는 것을 제어하여 사용자의 개인 정보와 데이터의 보안을 보호하고, 잠재적인 보안위협을 방지\n",
    "- 잠재적으로 해로울 수 있는 문서를 분리함으로써 공격받을 수 있는 경로를 줄임"
   ]
  },
  {
   "cell_type": "markdown",
   "metadata": {},
   "source": [
    "Origin(출처)\n",
    "- URL의 Protocol, Host, Port를 모두 포함하여 '출처'라고 부름\n",
    "- Same Origin 예시\n",
    "    - 아래 세 영역이 일치하는 경우에만 동일 출처(Same-origin)로 인정\n",
    "    - http://localhost:3000/posts/3\n",
    "    - Scheme, Protocol://Host:Port/path => path 전까지, Host까지 세 영역 일치"
   ]
  },
  {
   "cell_type": "markdown",
   "metadata": {},
   "source": [
    "CORS policy의 등장\n",
    "- 기본적으로 웨 브라우저는 같은 출처에서만 요청하는 것을 허용하며, 다른 출처로의 요청은 보안상의 이유로 차단됨\n",
    "    - SOP에 의해 다른 출처의 리소스와 상호작용 하는 것이 기본적으로 제한되기 때문\n",
    "- 하지만 현대 웹 애플리케이션은 다양한 출처로부터 리소스를 요청하는 경우가 많기 때문에 CORS 정책이 필요하게 되었음\n",
    "- CORS는 웹 서버가 리소스에 대한 서로 다른 출처 간 접근을 허용하도록 선택할 수 있는 기능을 제공"
   ]
  },
  {
   "cell_type": "markdown",
   "metadata": {},
   "source": [
    "CORS(교차 출처 리소스 공유)\n",
    "- 특정 출처(origin)에서 실행 중인 웹 애플리케이션이 다른 출처의 자원에 접근할 수 있는 권한을 부여하도록 브라우저에 알려주는 체제\n",
    "- 만약 다른 출처의 리소스를 가져오기 위해서는 이를 제공하는 서버가 브라우저에게 다른 출처지만 접근해도 된다느 사실을 알려야함\n",
    "- 'CORS policy (교차 출처 리소스 공유 정책)'"
   ]
  },
  {
   "cell_type": "markdown",
   "metadata": {},
   "source": [
    "CORS policy(교차 출처 리소스 공유 정책)\n",
    "- 다른 출처에서 온 리소스를 공유하는 것에 대한 정책\n",
    "- 서버에서 설정되며, 브라우저가 해당 정책을 확인하여 요청이 허용되는지 여부를 결정\n",
    "- 다른 출처의 리소스를 불러오려면 그 출처에서 올바른 CORS header를 포함한 응답을 반환해야 함"
   ]
  }
 ],
 "metadata": {
  "language_info": {
   "name": "python"
  }
 },
 "nbformat": 4,
 "nbformat_minor": 2
}
