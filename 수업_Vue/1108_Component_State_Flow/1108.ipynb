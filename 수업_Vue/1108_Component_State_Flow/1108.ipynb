{
 "cells": [
  {
   "cell_type": "markdown",
   "metadata": {},
   "source": [
    "Passing props\n",
    "- 부모는 자식에게 데이터를 전달(Pass Props)하며, 자식은 자신에게 일어난 일을 부모에게 알림(Emit event)"
   ]
  },
  {
   "cell_type": "markdown",
   "metadata": {},
   "source": [
    "같은 데이터 하지만 다른 컴포넌트\n",
    "- 동일한 사진 데이터가 한 화면에 다양한 위치에서 여러 번 출력되고 있음\n",
    "- => 페이스북에서 프사, 댓글에 프사 등등\n",
    "- 각 컴포넌트에서 관리하기 힘듦\n",
    "- 공통된 부모 컴포넌트에서 관리하자."
   ]
  },
  {
   "cell_type": "markdown",
   "metadata": {},
   "source": [
    "Props\n",
    "- 부모 컴포넌트로부터 자식 컴포넌트로 데이터를 전달하는데 사용되는 속성"
   ]
  },
  {
   "cell_type": "markdown",
   "metadata": {},
   "source": [
    "One-Way Data Flow\n",
    "- 모든 props는 자식 속성과 부모 속성 사이에 하향식 단방향 바인딩을 형성\n",
    "- => one-way-down binding"
   ]
  },
  {
   "cell_type": "markdown",
   "metadata": {},
   "source": [
    "Props 특징\n",
    "- 부모 속성이 업데이트되면 자식으로 흐르지만 그 반대는 안됨\n",
    "- 자식 컴포넌트 내부에서 props를 변경하려고 시도해서는 안되며 불가능\n",
    "- 부모 컴포넌트가 업데이트 될 때마다 자식 컴포넌트의 모든 props가 최신 값으로 업데이트\n",
    "- 부모 컴포넌트에서만 변경하고 이를 내려받는 자식 컴포넌트는 자연스럽게 갱신\n",
    "- ※ 단방향인 이유\n",
    "    - 하위 컴포넌트가 실수로 상위 컴포넌트의 상태를 변경하여 앱에서의 데이터 흐름을 이해하기 어렵게 만드는 것을 방지"
   ]
  },
  {
   "cell_type": "markdown",
   "metadata": {},
   "source": [
    "Props 선언\n",
    "- 부모 컴포넌트에서 보낸 props를 사용하기 위해서는 자식 컴포넌트에서 명시적인 props 선언이 필요"
   ]
  },
  {
   "cell_type": "markdown",
   "metadata": {},
   "source": [
    "Props 선언 2가지 방식\n",
    "- 문자열 배열을 사용한 선언\n",
    "    - defineProps 사용하여 []로\n",
    "- 객체를 사용한 선언\n",
    "    - defineProps 사용하여 {}로\n",
    "- => 객체사용 권장"
   ]
  },
  {
   "cell_type": "markdown",
   "metadata": {},
   "source": [
    "Props 세부사항\n",
    "- 보낼때는 케밥케이스 받을때는 카멜케이스\n",
    "- Static Props(정적) & Dynamic Props(동적) => 프로젝트 참고"
   ]
  },
  {
   "cell_type": "markdown",
   "metadata": {},
   "source": [
    "Component Events\n",
    "- 자식에서는 부모한테 이벤트를 보내줘야함"
   ]
  },
  {
   "cell_type": "markdown",
   "metadata": {},
   "source": [
    "$emit()\n",
    "- 자식 컴포넌트가 이벤트를 발생시켜 부모 컴포넌트로 데이터를 전달하는 역할\n",
    "- $emit(event, ...args)\n",
    "    - event: 커스텀 이벤트 이름 / - args: 추가 인자"
   ]
  },
  {
   "cell_type": "markdown",
   "metadata": {},
   "source": [
    "emit 이벤트 선언\n",
    "- dfineEmits()를 사용하여 명시적으로 발신한 이벤트를 선언할 수 있음\n",
    "- script에서 $emit 메서드를 접근할 수 없기 때문에 defineEmits()는 $emit 대신 사용할 수 있는 동등한 함수를 반환"
   ]
  }
 ],
 "metadata": {
  "language_info": {
   "name": "python"
  }
 },
 "nbformat": 4,
 "nbformat_minor": 2
}
