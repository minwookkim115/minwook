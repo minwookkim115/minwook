{
 "cells": [
  {
   "cell_type": "markdown",
   "metadata": {},
   "source": [
    "Routing\n",
    "- 네트워크에서 경로를 선택하는 프로세스\n",
    "- 웹 애플리케이션에서 다른 페이지 간의 전환과 경로를 관리하는 기술"
   ]
  },
  {
   "cell_type": "markdown",
   "metadata": {},
   "source": [
    "SSR(server sid rendering)에서의 Routing\n",
    "- 서버가 사용자가 방문한 URL경로를 기반으로 응답을 전송\n",
    "- 링크를 클릭하면 브라우저는 서버로부터 HTML 응답을 수신하고 새 HTML로 전체 페이지를 다시 로드"
   ]
  },
  {
   "cell_type": "markdown",
   "metadata": {},
   "source": [
    "CSR/SPA에서의 Routing\n",
    "- SPA에서 routing은 브라우저의 클라이언트 측에서 수행\n",
    "- 클라이언트 측 JavaScript가 새로 데이터를 동적으로 가져와 전체 페이지를 다시 로드 하지 않음\n",
    "- 페이지는 1개이지만, 링크에 따라 여러 컴포넌트를 렌더링하여 마치 여러 페이지를 사용하는 것처럼 보이도록 해야함"
   ]
  },
  {
   "cell_type": "markdown",
   "metadata": {},
   "source": [
    "만약 routing이 없다면\n",
    "- 유저가 URL을 통한 페이지의 변화를 감지할 수 없음\n",
    "- 페이지가 무엇을 렌더링 중인지에 대한 상태를 알 수 없음\n",
    "    - URL이 1개이기 때문에 새로 고침 시 처음 페이지로 되돌아감\n",
    "    - 링크를 공유할 시 첫 페이지만 공유가능\n",
    "- 브라우저의 뒤로 가기 기능을 사용할 수 없음"
   ]
  },
  {
   "cell_type": "markdown",
   "metadata": {},
   "source": [
    "Vue Router\n",
    "- Vue 프로젝트한테 routing 기능을 제공하는 어쩌고 저쩌고"
   ]
  },
  {
   "cell_type": "markdown",
   "metadata": {},
   "source": [
    "Navigation Guard\n",
    "- Vue router를 통해 특정 URL에 접근할 때 다른 URL로 redirect를하거나 취소하여 네비게이션을 보호\n",
    "- 인증 정보가 없으면 특정 페이지에 접근하지 못하게 함"
   ]
  },
  {
   "cell_type": "markdown",
   "metadata": {},
   "source": [
    "Navigation Guard 종류\n",
    "- Globally (전역 가드)\n",
    "    - 애플리케이션 전역에서 동작\n",
    "    - index.js에서 정의\n",
    "- Per-route (라우터 가드)\n",
    "    - 특정 route에서만 동작\n",
    "    - index.js의 각 routes에 정의\n",
    "- In-coomponent (컴포넌트 가드)\n",
    "    - 특정 컴포넌트 내에서만 동작\n",
    "    - 컴포넌트 Script에 정의"
   ]
  },
  {
   "cell_type": "markdown",
   "metadata": {},
   "source": [
    "router.beforEach()\n",
    "- 다른 URL로 이동하기 직전에 실행되는 함수\n",
    "- Global Before Guards"
   ]
  },
  {
   "cell_type": "markdown",
   "metadata": {},
   "source": [
    "router.befroeEnter()\n",
    "- route에 진입했을 때만 실행되는 함수\n",
    "- 매개변수, 쿼리 값이 변경될 때는 실행하지않고 다른 경로에서 탐색할 때만 실행"
   ]
  },
  {
   "cell_type": "markdown",
   "metadata": {},
   "source": [
    "컴포넌트 가드 종류\n",
    "- onBeforeRouteLeave\n",
    "    - 현재 라우트에서 다른 라우트로 이동하기 전에 실행\n",
    "    - 사용자가 현재 페이지를 떠나는 동작에 대한 로직 처리\n",
    "- onBeforeRouteUpdate\n",
    "    - 이미 렌더링된 컴포넌트가 같은 라우트 내에서 업데이트되기 전에 실행\n",
    "    - 라우트 업데이트 시 추가적인 로직 처리"
   ]
  }
 ],
 "metadata": {
  "language_info": {
   "name": "python"
  }
 },
 "nbformat": 4,
 "nbformat_minor": 2
}
