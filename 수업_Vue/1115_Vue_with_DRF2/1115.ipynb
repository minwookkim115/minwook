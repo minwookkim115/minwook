{
 "cells": [
  {
   "cell_type": "markdown",
   "metadata": {},
   "source": [
    "Authentication(인증)\n",
    "- 수신된 요청을 해당 요청의 사용자 또는 자격 증명과 연결하는 메커니즘\n",
    "- 누구인지를 확인하는 과정"
   ]
  },
  {
   "cell_type": "markdown",
   "metadata": {},
   "source": [
    "Permissions(권한)\n",
    "- 요청에 대한 접근 허용 또는 거부 여부를 결정"
   ]
  },
  {
   "cell_type": "markdown",
   "metadata": {},
   "source": [
    "인증과 권한\n",
    "- 인증이 먼저 진행되며 수신 요청을 해당 요청의 사용자 또는 해당 요청이 서명된 토큰(token)과 같은 일련의 자격 증명과 연결\n",
    "- 그런 다음 권한 및 제한 정책은 인증이 완료된 해당 자격 증명을 사용하여 요청을 허용해야 하는 지를 결정\n",
    "- ※ 인증된 사용자에게 권한을 주는 거랑께"
   ]
  },
  {
   "cell_type": "markdown",
   "metadata": {},
   "source": [
    "DRF 에서의 인증\n",
    "- 인증은 항상 view 함수 시작 시, 권한 및 제한 확인이 발생하기 전, 다른 코드의 진행이 허용되기 전에 실행\n",
    "- 인증 자체로는 들어오는 요청을 허용하거나 거부할 수 없으며, 단순히 요청에 사용된 자격 증명만 식별한다는 점에 유의"
   ]
  },
  {
   "cell_type": "markdown",
   "metadata": {},
   "source": [
    "승인되지 않은 응답 및 금지된 응답\n",
    "- 1. HTTP 401 Unauthorized\n",
    "    - 요청된 리소스에 대한 유효한 인증 자격 증명이 없기 때문에 클라이언트 요청이 완료되지 않았음을 나타냄\n",
    "- 2. HTTP 403 Forbidden\n",
    "    - 서버에 요청이 전달되었지만, 권한 때문에 거절되었다는 것을 으미\n",
    "    - 401과 다른 점은 서버는 클라이언트가 누구인지 알고 있음"
   ]
  },
  {
   "cell_type": "markdown",
   "metadata": {},
   "source": [
    "TokenAuthentication\n",
    "- 서버가 사용자에게 토큰을 발급하여 사용자는 매 요청마다 발급받은 토큰을 요청과 함께 보내 인증 과정을 거침"
   ]
  }
 ],
 "metadata": {
  "language_info": {
   "name": "python"
  }
 },
 "nbformat": 4,
 "nbformat_minor": 2
}
