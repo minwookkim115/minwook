{
 "cells": [
  {
   "cell_type": "markdown",
   "metadata": {},
   "source": [
    "Template Syntax\n",
    "- DOM을 기본구성 요소 인스턴스의 데이터에 선언적으로 바인딩 할 수 있는 HTML 기반 템플릿 구문을 사용\n",
    "- Vue와 DOM을 연결, 결합"
   ]
  },
  {
   "cell_type": "markdown",
   "metadata": {},
   "source": [
    "Text Interpolation\n",
    "- \\<p>Message: {{ msg }}\\</p>\n",
    "- 데이터 바인딩의 가장 기본적인 형태"
   ]
  },
  {
   "cell_type": "markdown",
   "metadata": {},
   "source": [
    "Directive\n",
    "- 'v-' 접두사가 있는 특수 속성\n",
    "- Directive의 속성값은 단일 JavaScript 표현식이어야 함\n",
    "- 표현식 값이 변경될 때 DOM에 반응적으로 업데이트 적용"
   ]
  },
  {
   "cell_type": "markdown",
   "metadata": {},
   "source": [
    "Directive 전체 구문\n",
    "- v-on:submit.prevent=\"onSubmit\" => v-on은 이벤트 발생했을 때\n",
    "    - v-on => Directive 이름\n",
    "    - submit => 인자 / Directive 따라서 인자가 달라짐 / 지금은 이벤트\n",
    "    - prevent => Directivet에 따라 있을 수도 없을 수도\n",
    "    - onSubmit => 실행 할 함수"
   ]
  },
  {
   "cell_type": "markdown",
   "metadata": {},
   "source": [
    "Directive - Argument\n",
    "- v-bind\n",
    "    - 결합하는 거니까 a 태그 일때 href속성값을 넣어준다\n",
    "    - \\<a v-bind:href=\"myUrl\">Link\\</a>\n",
    "- v-on\n",
    "    - 이벤트 발생할 때\n",
    "    - \\<button v-on:click=\"doSomething\">Button\\</button>"
   ]
  },
  {
   "cell_type": "markdown",
   "metadata": {},
   "source": [
    "Directive - Modifiers\n",
    "- .(dot)로 표시되는 특수 접미사\n",
    "- directive가 특별한 방식으로 바인딩되어야 함을 나타냄\n",
    "- .prevent는 발생한 이벤트에서 event.preventDefault()를 호출하도록 v-on에 지시하는 modifier => 01 참고"
   ]
  },
  {
   "cell_type": "markdown",
   "metadata": {},
   "source": [
    "v-bind\n",
    "- 하나 이상의 속성 또는 컴포넌트 데이터를 표현식에 동적으로 바인딩\n",
    "- 약어는 ':' => 콜론만 남기기"
   ]
  },
  {
   "cell_type": "markdown",
   "metadata": {},
   "source": [
    "Class and Style Bindings\n",
    "- 클래스와 스타일 모두 속성이므로 v-bind를 사용하여 다른 속성과 마찬가지로 동적으로 문자열 값을 할당할 수 있음\n",
    "- BUT 단순히 문자열 연결을 사용하여 이러한 값을 생성하는 것은 번거롭고 오류가 발생하기 쉬움\n"
   ]
  },
  {
   "cell_type": "markdown",
   "metadata": {},
   "source": [
    "v-on\n",
    "- handler\n",
    "    - Inline handlers : 이벤트가 트리거 될 때 실행 될 JavaScript 코드\n",
    "    - Method handlers : 컴포넌트에 정의된 메서드 이름\n",
    "- 약어는 '@'"
   ]
  },
  {
   "cell_type": "markdown",
   "metadata": {},
   "source": [
    "Form Input Bindings\n",
    "- form을 처리할 때 사용자가 input에 입력하는 값을 실시간으로 JavaScript 상태에 동기화해야 하는 경우(양방향 바인딩)"
   ]
  }
 ],
 "metadata": {
  "language_info": {
   "name": "python"
  }
 },
 "nbformat": 4,
 "nbformat_minor": 2
}
