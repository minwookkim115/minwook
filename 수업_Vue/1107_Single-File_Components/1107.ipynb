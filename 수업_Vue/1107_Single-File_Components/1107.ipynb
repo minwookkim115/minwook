{
 "cells": [
  {
   "cell_type": "markdown",
   "metadata": {},
   "source": [
    "Single-File Components"
   ]
  },
  {
   "cell_type": "markdown",
   "metadata": {},
   "source": [
    "Component\n",
    "- 재사용 가능한 코드 블록\n",
    "- 특징\n",
    "    - UI를 독립적이고 재사용 가능한 일부분으로 분할하고 각 부분을 개별적으로 다룰 수 있음\n",
    "    - 자연스럽게 앱은 중첩된 Component의 트리로 구성됨"
   ]
  },
  {
   "cell_type": "markdown",
   "metadata": {},
   "source": [
    "Single-File Components(SFC)\n",
    "- 하나의 파일인데 컴포넌트다.\n",
    "- 컴포넌트의 템플릿(html), 로직(JS) 및 스타일(CSS)을 하나의 파일로 묶어낸 특수한 파일 형식(.vue)"
   ]
  },
  {
   "cell_type": "markdown",
   "metadata": {},
   "source": [
    "Node Package Manager(NPM)\n",
    "- Node.js의 기본 패키지 관리자 => Like pip"
   ]
  },
  {
   "cell_type": "markdown",
   "metadata": {},
   "source": [
    "node.js\n",
    "- Chrome의 V8 JavaScript엔진을 기반으로 하는 Server-Side 실행 환경"
   ]
  },
  {
   "cell_type": "markdown",
   "metadata": {},
   "source": [
    "Node.js의 영향\n",
    "- 기존에 브라우저 안에서만 동작할 수 있었던 JavaScript를 브라우저가 아닌 서버 측에서도 실행할 수 있게 함\n",
    "    - 프론트엔드와 백엔드에서 동일한 언어로 개발할 수 있게 됨\n",
    "- NPM을 활용해 수많은 오픈 소스 패키지와 라이브러리를 제공하여 개발자들이 손쉽게 코드를 공유하고 재사용할 수 있게 함"
   ]
  },
  {
   "cell_type": "markdown",
   "metadata": {},
   "source": [
    "Vite프로젝트 구조"
   ]
  },
  {
   "cell_type": "markdown",
   "metadata": {},
   "source": [
    "node_modules(가상환경과 비슷한 느낌)\n",
    "- vue-project에서 사용하고 있는 외부 패키지, 라이브러리가 저장된 곳\n",
    "- .gitignore에 작성됨\n",
    "\n",
    "package-lock.json(requirements랑 비슷)\n",
    "- 패키지들의 설치 버전, 의존성 관계, 하위 패키지 등을 포함한 정보들이 있는 곳\n",
    "- npm install 명령을 통해 패키지 설치할 때 명시된 버전과 의존성을 기반으로 설치\n",
    "\n",
    "package.json\n",
    "- package-lock.json을 보조해주는 느낌\n",
    "- 프로젝트 의존성 관리하고, 버전 충돌 및 일관성을 유지하는 역할\n",
    "\n",
    "public 디렉토리\n",
    "- 정적파일을 위치 시킴\n",
    "    - 소스코드에서 참조되지 않는\n",
    "    - 항상 같은 이름을 갖는\n",
    "    - import 할 필요 없는\n",
    "- 항상 root 절대 경로를 사용하여 참조\n",
    "    - public/icon.png는 소스코드에서 /icon.png로 참조 가능\n",
    "\n",
    "src 디렉토리\n",
    "- 프로젝트의 주요 소스코드를 포함하는 곳\n",
    "- 컴포넌트, 스타일, 라우팅 등 프로젝트의 핵심 코드를 관리\n",
    "\n",
    "src/assets(정적파일 관리)\n",
    "- 프로젝트 내에서 사용되는 자원(이미지, 폰트, 스타일 시트 등)을 관리\n",
    "- 컴포넌트 자체에서 참조하는 내부파일을 저장하는데 사용\n",
    "- 컴포넌트가 아닌 곳에서는 public 디렉토리에 위치한 파일을 사용\n",
    "\n",
    "src/components\n",
    "- Vue 컴포넌트들을 작성하는 곳\n",
    "\n",
    "src/App.vue\n",
    "- Vue 앱의 최상위 Root 컴포넌트\n",
    "- 다른 하위 컴포넌트들을 포함\n",
    "- 애플리케이션 전체의 레이아웃과 공통적인 요소를 정의\n",
    "\n",
    "src/main.js\n",
    "- Vue 인스턴스를 생성하고, 애플리케이션을 초기화하는 역할\n",
    "- 필요한 라이브러리를 import하고 전역 설정을 수행\n",
    "\n",
    "index.html\n",
    "- 우리가 최종적으로 만드는 페이지 하나\n",
    "- Vue앱의 기본 HTML 파일\n",
    "- 앱의 진입점(entry point)\n",
    "- Root 컴포넌트인 App.vue가 해당 페이지에 마운트(mount) 됨\n",
    "- 스타일 시트, 스크립트 등의 외부 리소스를 로드 할 수 있음(ex. bootstrap CDN)"
   ]
  },
  {
   "cell_type": "markdown",
   "metadata": {},
   "source": [
    "Module\n",
    "- 프로그램을 구성하는 독립적인 코드 블록(.js 파일)\n",
    "- 개발하는 애플리케이션의 크기가 커지고 복잡해지면서 파일 하나에 모든 기능을 담기가 어려워짐\n",
    "- 따라서 자연스럽게 파일을 여러 개로 분리하여 관리를 하게 되었고, 이때 분리된 파일 각각이 모듈(module) 즉, js파일 하나가 하나의 모듈\n",
    "- 모듈의 수가 많아지고 라이브러리 혹은 모듈 간의 의존성이 깊어지면서 특정한 곳에서 발생한 문제가 어떤 모듈 간의 문제인지 파악하기 어려워짐\n",
    "- 복잡하고 깊은 모듈의 의존성 문제를 해결하기 위한 도구가 필요 => Bundler"
   ]
  },
  {
   "cell_type": "markdown",
   "metadata": {},
   "source": [
    "Bundler\n",
    "- 여러 모듈과 파일을 하나(혹은 여러 개)의 번들로 묶어 최적화하여 애플리케이션에서 사용할 수 있게 만들어주는 도구"
   ]
  },
  {
   "cell_type": "markdown",
   "metadata": {},
   "source": [
    "Bundler의 역할\n",
    "- 의존성 관리, 코드 최적화, 리소스 관리 등\n",
    "- Bundler가 하는 작업을 Bundling이라 함\n",
    "- Vite는 Rollup이라는 Bundler를 사용하며 개발자가 별도로 기타 환경설정에 신경 쓰지 않도록 모두 설정해두고 있음"
   ]
  },
  {
   "cell_type": "markdown",
   "metadata": {},
   "source": [
    "Virtual DOM(가상 DOM)\n",
    "- 가상의 DOM을 메모리에 저장하고 실제 DOM과 동기화하는 프로그래밍 개념\n",
    "- 실제 DOM과의 변경 사항 비교를 통해 변경된 부분만 실제 DOM에 적용하는 방식\n",
    "- 웹 애플리케이션의 성능을 향상시키기 위한 Vue의 내부 렌더링 기술"
   ]
  },
  {
   "cell_type": "markdown",
   "metadata": {},
   "source": [
    "Virtual DOM 패턴의 장점\n",
    "- 효율성\n",
    "    - 실제 DOM 조작을 최소화하고, 변경된 부분만 업데이트하여 성능을 향상\n",
    "- 반응성\n",
    "    - 데이터의 변경을 감지하고, Virtual DOM을 효율적으로 갱신하여 UI를 자동으로 업데이트\n",
    "- 추상화\n",
    "    - 개발자는 실제 DOM 조작을 Vue에게 맡기고 컴포넌트와 템플릿을 활용하는 추상화된 프로그래밍 방식으로 원하는 UI 구조를 구성하고 관리할 수 있음"
   ]
  },
  {
   "cell_type": "markdown",
   "metadata": {},
   "source": [
    "Virtual DOM 주의사항\n",
    "- 실제 DOM에 직접 접근하지 말것\n",
    "    - JavaScript에서 사용하는 DOM 접근 관련 메서드 사용 금지\n",
    "    - querySelector, createElement, addEventListener 등\n",
    "- Vue의 ref와 Lifecycle Hooks 함수를 사용해 간접적으로 접근하여 조작할 것"
   ]
  },
  {
   "cell_type": "markdown",
   "metadata": {},
   "source": [
    "Scaffolding(스캐폴딩)\n",
    "- 새로운 프로젝트나 모듈을 시작하기 위해 초기 구조와 기본 코드를 자동으로 생성하는 과정"
   ]
  }
 ],
 "metadata": {
  "language_info": {
   "name": "python"
  }
 },
 "nbformat": 4,
 "nbformat_minor": 2
}
