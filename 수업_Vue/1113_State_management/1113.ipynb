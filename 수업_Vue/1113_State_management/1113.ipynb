{
 "cells": [
  {
   "cell_type": "markdown",
   "metadata": {},
   "source": [
    "State Management(상태관리)\n",
    "- Vue 컴포넌트는 이미 반응형 상태를 관리하고 있음\n",
    "- 상태 === 데이터"
   ]
  },
  {
   "cell_type": "markdown",
   "metadata": {},
   "source": [
    "컴포넌트 구조의 단순화\n",
    "- 상태\n",
    "    - 앱 구동에 필요한 기본데이터\n",
    "- 뷰\n",
    "    - 상태를 선언적으로 매핑하여 시각화\n",
    "- 기능\n",
    "    - 뷰에서 사용자 입력에 대해 반응적으로 상태를 변경할 수 있게 정의된 동작"
   ]
  },
  {
   "cell_type": "markdown",
   "metadata": {},
   "source": [
    "상태 관리의 단순성이 무너지는 시험\n",
    "- 여러 컴포넌트가 상태를 공유할 때\n",
    "    - 여러 뷰가 동일한 상태에 종속되는 경우\n",
    "    - 서로 다른뷰의 기능이 동일한 상태를 변경시켜야 하는 경우\n",
    "- 1. 여러 뷰가 동일한 상태에 종속되는 경우\n",
    "    - 공유 상태를 공통 조상 컴포넌트로 끌어올린 다음 props로 전달하는 것\n",
    "    - 하지만 계층 구조가 깊어질 경우 비효율적, 관리가 어려워짐\n",
    "- 2. 서로 다른 뷰의 기능이 동일한 상태를 변경시켜야 하는 경우\n",
    "    - 발신된 이벤트를 통해 상태의 여러 복사본을 변경 및 동기화 하는 것\n",
    "    - 마찬가지로 관리의 패턴이 깨지기쉽고 유지 관리할 수 없는 코드가 됨"
   ]
  },
  {
   "cell_type": "markdown",
   "metadata": {},
   "source": [
    "해결책\n",
    "- 각 컴포넌트의 공유 상태를 추출하여, 전역에서 참조할 수 있는 저장소에서 관리\n",
    "- 컴포넌트 트리는 하나의 큰 '뷰'가 되고 모든 컴포넌트는 트리 계층 구조에 관계 없이상태에 접근하거나 기능을 사용할 수 있음\n",
    "- Vue의 공식 상태 관리 라이브러리 === 'Pinia'"
   ]
  },
  {
   "cell_type": "markdown",
   "metadata": {},
   "source": [
    "Pinia 구성요소\n",
    "- store\n",
    "    - 중앙저장소\n",
    "    - 모든 컴포넌트가 공유하는 상태, 기능 등이 작성됨\n",
    "- state\n",
    "    - 반응형 상태(데이터)\n",
    "    - ref() === state\n",
    "- getters\n",
    "    - 계산된 값\n",
    "    - computed() === getters\n",
    "- actions\n",
    "    - 메서드\n",
    "    - function() === actions\n",
    "- plugin\n",
    "    - 애플리케이션의 상태관리에 필요한 추가 기능을 제공하거나 확장하는 도구나 모듈\n",
    "    - 애플리케이션의 상태 관리를 더욱 간편하고 유연하게 만들어주며 패키지 매니저로 설치 이후 별도 설정을 통해 추가 됨"
   ]
  },
  {
   "cell_type": "markdown",
   "metadata": {},
   "source": [
    "Local Storage\n",
    "- 브라우저 내에 key-value 쌍을 저장하는 웹 스토리지 객체\n",
    "- 새로고침해도 데이터 유지하도록"
   ]
  },
  {
   "cell_type": "markdown",
   "metadata": {},
   "source": [
    "pinia-pulgin-persistedstate\n",
    "- Pinia의 plugin\n",
    "- 웹 애플리케이션의 상태를 브라우저의 local storage나 session storage에 영구적으로 저장하고 복원하는 기능을 제공"
   ]
  }
 ],
 "metadata": {
  "language_info": {
   "name": "python"
  }
 },
 "nbformat": 4,
 "nbformat_minor": 2
}
