{
 "cells": [
  {
   "cell_type": "markdown",
   "metadata": {},
   "source": [
    "ORM\n",
    "- 객체 지향 프로그래밍 언어를 사용하여\n",
    "- 호환되지 않는 유형의 시스템 간에 데이터를 변환하는 기술"
   ]
  },
  {
   "cell_type": "markdown",
   "metadata": {},
   "source": [
    "ORM의 역할\n",
    "- 장고는 파이썬 객체로 실행\n",
    "- DB는 SQL로 실행\n",
    "- ORM이 중간에서 파이썬과 SQL로 바꿔주는 역할(번역기)"
   ]
  },
  {
   "cell_type": "markdown",
   "metadata": {},
   "source": [
    "QuerySet API\n",
    "- ORM을 통해 데이터를 검색, 필터링 정렬, 및 그룹화(crud) 하는데 사용하는 도구\n",
    "- API를 사용하여 SQL이 아닌 Python 코드로 데이터를 처리\n",
    "- 장고(파이썬)이 DB에 요청할 때 SQL로 변환할 때 쓰는 문법\n",
    "- DB에서 장고(파이썬)에 보낼 때 QuerySet(여러개) or Instance(하나)"
   ]
  },
  {
   "cell_type": "markdown",
   "metadata": {},
   "source": [
    "QuerySet API 구문\n",
    "- Article.objects.all()\n",
    "-  클래스  매니저  메서드\n",
    "- 우리가 사용하는 매니저는 objtects 하나"
   ]
  },
  {
   "cell_type": "markdown",
   "metadata": {},
   "source": [
    "Query\n",
    "- 데이터베이스에 특정한 데이터를 보여달라는 요청\n",
    "- 쿼리문을 작성한다, 쿼리를 보낸다 => 명령을 보낸다\n",
    "- 파이썬으로 작성한 코드가 orm에 의해 sql로 변환되어 데이터베이스에 전달"
   ]
  },
  {
   "cell_type": "markdown",
   "metadata": {},
   "source": [
    "QuerySet\n",
    "- 데이터베이스에게서 전달받은 객체 목록\n",
    "    - 순회가 가능한 데이터로써 1개 이상의 데이터를 불러와 사용 가능\n",
    "- 장고 ORM을 통해 만들어진 자료형\n",
    "- DB가 단일 객체를 반환할 때는 QuerySet이 아닌 모델(class)의 인스턴스로 반환됨"
   ]
  },
  {
   "cell_type": "markdown",
   "metadata": {},
   "source": [
    "**Python의 모델 클래스와 인스턴스를 활용해 DB에 데이터를 저장, 조회, 수정, 삭제(crud)하는 것**"
   ]
  },
  {
   "cell_type": "markdown",
   "metadata": {},
   "source": [
    "Django shell\n",
    "- Django 환경 안에서 실행되는 python shell\n",
    "- QuerySet API 구문이 Django 프로젝트에 영향을 미침\n",
    "- 기본 shell을 켜면 연동이 안됨"
   ]
  },
  {
   "cell_type": "markdown",
   "metadata": {},
   "source": [
    "Read => 제일 중요함\n",
    "- all() : 전체 데이터 조회\n",
    "    - 쿼리셋은 순회가 가능\n",
    "    - Article.objects.all()\n",
    "- get() : 단일 데이터 조회\n",
    "    - 단일데이터만 조회 가능하기 때문에 pk 값을 이용해서 조회 해야함\n",
    "    - 다른 컬럼은 같을 수도 있기 때문에\n",
    "    - 찾을 수 없을때 둘이상의 객체를 찾으면 예외를 발생\n",
    "- filter() : 특정 조건 데이터 조회\n",
    "    - 무조건 쿼리셋으로 리턴\n",
    "    - 없는 조건을 걸면 비어있는 쿼리셋 리턴"
   ]
  },
  {
   "cell_type": "markdown",
   "metadata": {},
   "source": [
    "장고는 pk(id)를 재사용하지 않는다"
   ]
  }
 ],
 "metadata": {
  "language_info": {
   "name": "python"
  },
  "orig_nbformat": 4
 },
 "nbformat": 4,
 "nbformat_minor": 2
}
