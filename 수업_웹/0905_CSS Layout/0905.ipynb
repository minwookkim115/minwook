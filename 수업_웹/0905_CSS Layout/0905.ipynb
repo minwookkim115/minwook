{
 "cells": [
  {
   "cell_type": "markdown",
   "metadata": {},
   "source": [
    "CSS Layout"
   ]
  },
  {
   "cell_type": "markdown",
   "metadata": {},
   "source": [
    "CSS Box Model\n",
    "모든 HTML 요소를 사각형 모양의 박스로 표현"
   ]
  },
  {
   "cell_type": "markdown",
   "metadata": {},
   "source": [
    "Box Model의 구성요소\n",
    "- 내용(content): 콘텐츠 표시\n",
    "- 안쪽 여백(padding): 콘텐츠 주위에 위치하는 공백 / 박스안 글자의 바깥쪽 여백\n",
    "- 테두리(border): 콘텐츠와 패딩을 감싸는 테두리\n",
    "- 외부간격(margin): 박스와 다른 요소 사이에 공백 / 가장 바깥쪽"
   ]
  },
  {
   "cell_type": "markdown",
   "metadata": {},
   "source": [
    "box sizing\n",
    "- width와 height는 안에있는 content를 기준으로 너비와 높이를 지정한다.\n",
    "- 하지만 box sizing을 통해서 박스의 크기를 지정 가능"
   ]
  },
  {
   "cell_type": "markdown",
   "metadata": {},
   "source": [
    "박스 타입\n",
    "- Block: 한줄에 나 밖에 못온다\n",
    "- Inline: line안에 여러개 있기 가능"
   ]
  },
  {
   "cell_type": "markdown",
   "metadata": {},
   "source": [
    "block 타입 특징\n",
    "- 항상 새로운 행으로 나뉨, 항상 한줄 먹음\n",
    "- width와 height 를 사용해서 너비 높이지정 가능\n",
    "- width 안하면 사용가능 공간 모두 차지함(너비를 사용가능한 공간의 100%로 채움)\n",
    "- h1~6, p, div"
   ]
  },
  {
   "cell_type": "markdown",
   "metadata": {},
   "source": [
    "inline 타입 특징\n",
    "- 새로운 행으로 나뉘지 않음\n",
    "- width와 height 불가\n",
    "- 수직 방향 / padding, margin 및 border로 밀어낼 수 없음\n",
    "- 수평 방향 / padding, margin 및 border로 밀어낼 수 있음\n",
    "- a, img, span"
   ]
  },
  {
   "cell_type": "markdown",
   "metadata": {},
   "source": [
    "inline-block\n",
    "- inline과 block 요소 사이의 중간 지점을 제공하는 display 값\n",
    "- block요소의 특징을 가짐\n",
    "    - width 및 height 가능\n",
    "    - padding, margin 및 border로 인해 다른요소 밀려남\n",
    "- 요소가 줄바꿈 되는 것을 원하지 않으면서 width와 height를 사용하고 싶은 경우\n",
    "- ※ li 리스트도 block 이다"
   ]
  },
  {
   "cell_type": "markdown",
   "metadata": {},
   "source": [
    "none\n",
    "요소를 화면에 표시하지 않고 공간조차 부여되지 않음\n",
    "visibility hidden\n",
    "자리는 차지 화면에 표시 x"
   ]
  },
  {
   "cell_type": "markdown",
   "metadata": {},
   "source": [
    "CSS Layout\n",
    "- 각 요소의 위치와 크기를 조정하여 웹페이지 디자인 결정\n",
    "- Display\n",
    "- Position\n",
    "- Float\n",
    "- Flexbox"
   ]
  },
  {
   "cell_type": "markdown",
   "metadata": {},
   "source": [
    "CSS Position\n",
    "- 요소를 Normal Flow에서 제거하여 다른 위치로 배치\n",
    "- 위에서 아래로 라는 흐름을 벗어나게 함\n",
    "- 다른 요소 위에 올리기, 화면의 특정 위치에 고정시키기"
   ]
  },
  {
   "cell_type": "markdown",
   "metadata": {},
   "source": [
    "Position 유형\n",
    "- static\n",
    "    - 기본값\n",
    "    - Normal Flow로 배치\n",
    "- relative\n",
    "    - 자기자신을 기준으로 이동\n",
    "    - 차지하는 공간은 static 과 같음\n",
    "- absolute\n",
    "    - 요소를 Normal Flow에서 제거\n",
    "    - 가장 가까운 relative 부모 요소를 기준으로 이동\n",
    "    - **문서에서 요소가 차지하는 공간이 없어짐**\n",
    "    - 다른요소를 밀어내지 않는다\n",
    "- fixed\n",
    "    - 요소를 Normal Flow에서 제거\n",
    "    - 화면 영역을 기준으로 이동\n",
    "    - 영역을 차지하지 않는다\n",
    "- sticky\n",
    "    - Normal Flow에 따라배치\n",
    "    - 스크롤이 특정 임계점에 도달하면 그곳에서 고정\n",
    "    - 다음 sticky 요소가 나오면 새로운 sticky요소가 그자리에"
   ]
  },
  {
   "cell_type": "markdown",
   "metadata": {},
   "source": [
    "z-index\n",
    "- 요소가 겹쳐있을 때 누구를 제일 위로 나타낼 것인가\n",
    "- 정수 값을 사용해 z축 지정"
   ]
  },
  {
   "cell_type": "markdown",
   "metadata": {},
   "source": [
    "Layout Flexbox\n",
    "- 요소를 행과 열 형태로 배치하는 1차원 레이아웃 방식\n",
    "- 공간 배열 & 정렬\n",
    "- 하나의 요소로 묶은 다음에 disply: flex 써서 사용"
   ]
  }
 ],
 "metadata": {
  "language_info": {
   "name": "python"
  },
  "orig_nbformat": 4
 },
 "nbformat": 4,
 "nbformat_minor": 2
}
