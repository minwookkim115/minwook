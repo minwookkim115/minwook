{
 "cells": [
  {
   "cell_type": "markdown",
   "metadata": {},
   "source": [
    "Model\n",
    "- 데이터베이스를 관리하는 역할"
   ]
  },
  {
   "cell_type": "markdown",
   "metadata": {},
   "source": [
    "Django Model\n",
    "- DB의 테이블을 정의하고\n",
    "- 데이터를 조작할 수 있는 기능들을 제공\n",
    "- 테이블 구조를 설계하는 '청사진'"
   ]
  },
  {
   "cell_type": "markdown",
   "metadata": {},
   "source": [
    "model 클래스 작성\n",
    "```\n",
    "class Article(models.Model) \n",
    "    title = models.CharField(max_length=10) \n",
    "    content = models.TextField \n",
    "```\n",
    "- 모델 클래스는 테이블 설계도였따\n",
    "- 상속(models모듈, Model 클래스)\n",
    "    - => django.db.modles 모듈의 Model 클래스를 상속받음 \n",
    "- = 클래스 / title은 인스턴스 \n",
    "    - => title은 테이블의 각 필드 이름(클래스 변수명)\n",
    "- = 클래스 / content는 인스턴스\n",
    "    - => content는 테이블의 각 필드 이름(클래스 변수명)\n",
    "- model Field 클래스(CharField, TextField)\n",
    "    - 테이블 필드의 데이터 타입\n",
    "- modle Field 클래스의 키워드 인자 (max_length=10, 필드옵션)\n",
    "    - 테이블 필드의 제약조건 설정\n",
    "    - 제약조건: 데이터가 올바르게 저장되고 관리되도록 하기 위한 규칙"
   ]
  },
  {
   "cell_type": "markdown",
   "metadata": {},
   "source": [
    "Migrations\n",
    "- model 클래스의 변경사항(필드 생성, 수정, 삭제 등)을 DB에 최종 반영하는 방법\n",
    "- model 클래스 만드는 것 포함"
   ]
  },
  {
   "cell_type": "markdown",
   "metadata": {},
   "source": [
    "Migrations 과정\n",
    "- model class(설계도 초안)를 만들고\n",
    "- 'python manage.py makemigrations' 를 통해 migration 파일(최종 설계도)만들고\n",
    "- 'python manage.py migrate' 를 통해 db에 전송\n",
    "- 왜? => db에서는 파이썬언어 이해못함"
   ]
  },
  {
   "cell_type": "markdown",
   "metadata": {},
   "source": [
    "Model Field\n",
    "- CharField() : 길이의 제한이 있는 문자열을 넣을 때 사용\n",
    "    - 필드의 최대 길이를 결정하는 max_length는 필수 인자\n",
    "- TextField() : 글자수 많을 때 사용\n",
    "    - max_length 필요 없음\n",
    "- DateTimeField() : 날짜와 시간을 넣을 때 사용\n",
    "    - auto_now : 데이터가 저장될 때마다 자동으로 현재 날짜시간을 저장(수정일)\n",
    "    - auto_now_add : 데이터가 처음 생성될 때만 저장(작성일)"
   ]
  },
  {
   "cell_type": "markdown",
   "metadata": {},
   "source": [
    "Admin site\n",
    "- 관리자 사이트"
   ]
  },
  {
   "cell_type": "markdown",
   "metadata": {},
   "source": [
    "Automatic admin interface\n",
    "- Django는 추가 설치 및 설정 없이 자동으로 관리자 인터페이스 제공\n",
    "- 데이터 확인 및 테스트 등을 진행하는데 매우 유용"
   ]
  }
 ],
 "metadata": {
  "language_info": {
   "name": "python"
  },
  "orig_nbformat": 4
 },
 "nbformat": 4,
 "nbformat_minor": 2
}
