{
 "cells": [
  {
   "cell_type": "markdown",
   "metadata": {},
   "source": [
    "# 파이썬 기초\n",
    "\n",
    "1. 저장\n",
    "2. 조건\n",
    "3. 반복"
   ]
  },
  {
   "cell_type": "markdown",
   "metadata": {},
   "source": [
    "## 1. 저장\n",
    "\n",
    "변수 : 하나의 값을 저장할 수 있는 저장 공간\n",
    "\n",
    "※ 파이썬에 지정된 것들은 변수로 설정 불가\n",
    "\n",
    "무엇을 저장하는가 ?\n",
    "\n",
    "1. 숫자\n",
    "    1. 현실세계에 존자하는 모든 숫자 , 기본적인 연산이 가능.\n",
    "2. 글자/문자\n",
    "    1. 현실세계에 존재하는 모든 글자 , 파이썬에서 글자를 표현하기 위해서는 따옴표 사용\n",
    "    2. ex) 56(숫자), \"56\"(문자)\n",
    "3. 참/거짓\n",
    "    1. True / False 단 두가지 사용 가능 , 조건문/반복문에 사용.\n",
    "    2. ex) 300 > 200 => True\n",
    "    3. ex) 150 == 161 => False\n",
    "    4. ※ 파이썬에서 같냐고 물어볼때는 등호 두개(==) 사용 / 다를때는 != 사용\n",
    "\n",
    "※ #으로 주석만들기 가능 => 설명할 때 사용, 주석은 코드에 영향안줌"
   ]
  },
  {
   "cell_type": "code",
   "execution_count": 13,
   "metadata": {},
   "outputs": [
    {
     "name": "stdout",
     "output_type": "stream",
     "text": [
      "171 김민욱 True\n"
     ]
    }
   ],
   "source": [
    "height = 171\n",
    "\n",
    "name = \"김민욱\"\n",
    "\n",
    "boolean = 300 > 200 # True\n",
    "\n",
    "print(height, name, boolean)"
   ]
  },
  {
   "cell_type": "markdown",
   "metadata": {},
   "source": [
    "값을 여러개 저장하려면??\n",
    "\n",
    "리스트(List) 사용 => [] 대괄호 사용\n",
    "\n",
    "여러개의 연속된 값을 저장할 수 있는 저장 공간(순서가 있다)"
   ]
  },
  {
   "cell_type": "code",
   "execution_count": 6,
   "metadata": {},
   "outputs": [
    {
     "name": "stdout",
     "output_type": "stream",
     "text": [
      "['돼지불백', '지코바치밥', '설렁탕']\n"
     ]
    }
   ],
   "source": [
    "lunch = [\"돼지불백\" , \"지코바치밥\" , \"설렁탕\"]\n",
    "\n",
    "print(lunch)"
   ]
  },
  {
   "cell_type": "code",
   "execution_count": 7,
   "metadata": {},
   "outputs": [
    {
     "name": "stdout",
     "output_type": "stream",
     "text": [
      "돼지불백\n"
     ]
    }
   ],
   "source": [
    "lunch = [\"돼지불백\" , \"지코바치밥\" , \"설렁탕\"]\n",
    "\n",
    "print(lunch[0])"
   ]
  },
  {
   "cell_type": "markdown",
   "metadata": {},
   "source": [
    "딕셔너리(Dictionary) => 중괄호 사용\n",
    "\n",
    "이름표를 단 여러개의 값을 저장할 수 있는 저장공간\n",
    "\n",
    "minuk = { \"name(key, 이름표)\" : \"minuk(value, 값)\"}"
   ]
  },
  {
   "cell_type": "code",
   "execution_count": 8,
   "metadata": {},
   "outputs": [
    {
     "name": "stdout",
     "output_type": "stream",
     "text": [
      "{'name': 'minuk', 'height': '171'}\n"
     ]
    }
   ],
   "source": [
    "minuk = { \"name\" : \"minuk\" , \"height\" : \"171\" }\n",
    "\n",
    "print(minuk)"
   ]
  },
  {
   "cell_type": "code",
   "execution_count": 14,
   "metadata": {},
   "outputs": [
    {
     "name": "stdout",
     "output_type": "stream",
     "text": [
      "minuk 171\n"
     ]
    }
   ],
   "source": [
    "minuk = { \"name\" : \"minuk\" , \"height\" : \"171\" }\n",
    "\n",
    "print(minuk[\"name\"], minuk[\"height\"])"
   ]
  },
  {
   "cell_type": "markdown",
   "metadata": {},
   "source": [
    "## 2. 조건\n",
    "\n",
    "조건문\n",
    "\n",
    "만약 ☆☆ 이라면\n",
    "□□ 해줘\n",
    "아니라면\n",
    "○○ 해줘\n",
    "\n",
    "==>\n",
    "\n",
    "if ☆ :\n",
    "    □□\n",
    "else :\n",
    "    ○○"
   ]
  },
  {
   "cell_type": "code",
   "execution_count": 15,
   "metadata": {},
   "outputs": [
    {
     "name": "stdout",
     "output_type": "stream",
     "text": [
      "50이하\n"
     ]
    }
   ],
   "source": [
    "dust = 50\n",
    "\n",
    "if dust > 50:\n",
    "    print(\"50초과\")\n",
    "else:\n",
    "    print(\"50이하\")\n"
   ]
  },
  {
   "cell_type": "markdown",
   "metadata": {},
   "source": [
    "만약 ☆☆ 이라면\n",
    "□□ 해줘\n",
    "그게 아니라 ◇◇ 이면\n",
    "△△ 해줘\n",
    "아니라면\n",
    "○○ 해줘\n",
    "\n",
    "==>\n",
    "\n",
    "if ☆ :\n",
    "    □□\n",
    "elif ◇◇ :\n",
    "    △△\n",
    "else :\n",
    "    ○○"
   ]
  },
  {
   "cell_type": "code",
   "execution_count": 3,
   "metadata": {},
   "outputs": [
    {
     "name": "stdout",
     "output_type": "stream",
     "text": [
      "보통\n"
     ]
    }
   ],
   "source": [
    "dust = 50\n",
    "\n",
    "if dust > 150:\n",
    "    print(\"매우 나쁨\")\n",
    "elif 80 < dust <= 150:\n",
    "    print(\"나쁨\")\n",
    "elif 30 < dust <= 80:\n",
    "    print(\"보통\")\n",
    "else:\n",
    "    print(\"좋음\")"
   ]
  },
  {
   "cell_type": "markdown",
   "metadata": {},
   "source": [
    "## 3. 반복\n",
    "\n",
    "while / for\n",
    "\n",
    "1. while\n",
    "\n",
    "만약 ☆☆ 이라면\n",
    "계속 □□ 해줘\n",
    "\n",
    "While ☆☆ :\n",
    "    □□\n",
    "\n",
    "n이 3보다 작으면,\n",
    "n을 출력하고,\n",
    "n에 1씩 더해줘. ↓"
   ]
  },
  {
   "cell_type": "code",
   "execution_count": 5,
   "metadata": {},
   "outputs": [
    {
     "name": "stdout",
     "output_type": "stream",
     "text": [
      "0\n",
      "1\n",
      "2\n"
     ]
    }
   ],
   "source": [
    "n = 0\n",
    "\n",
    "while n < 3:\n",
    "    print(n)\n",
    "    n = n + 1\n",
    "\n",
    "    "
   ]
  },
  {
   "cell_type": "markdown",
   "metadata": {},
   "source": [
    "2. for\n",
    "\n",
    "☆☆에 있는 ○○ 를 이용해서\n",
    "□□ 해줘\n",
    "\n",
    "for ○○ in ☆☆ :\n",
    "    □□\n",
    "\n",
    "여러개의 값을 저장하는 변수 안에서 반복하여 값을 꺼내 사용\n",
    "\n",
    "lunch = [\"돼지불백\" , \"지코바치밥\" , \"설렁탕\"]\n",
    "\n",
    "for value(리스트안에 이름 지정) in lunch:\n",
    "    print(value(리스트안에 이름))"
   ]
  },
  {
   "cell_type": "code",
   "execution_count": 7,
   "metadata": {},
   "outputs": [
    {
     "name": "stdout",
     "output_type": "stream",
     "text": [
      "돼지불백\n",
      "지코바치밥\n",
      "설렁탕\n"
     ]
    }
   ],
   "source": [
    "lunch = [\"돼지불백\" , \"지코바치밥\" , \"설렁탕\"]\n",
    "\n",
    "for value in lunch:\n",
    "    print(value)\n"
   ]
  },
  {
   "cell_type": "markdown",
   "metadata": {},
   "source": [
    "while vs for\n",
    "\n",
    "while => 조건이 True인 동안 반복적으로 실행되기에 **종료 조건이 반드시 필요**\n",
    "\n",
    "for => 정해진 범위를 반복하기에 **종료 조건이 필요 없음**"
   ]
  },
  {
   "cell_type": "markdown",
   "metadata": {},
   "source": [
    "함수 : 어떤 기능을 하는 코드 덩어리들을 모아 놓은 것\n",
    "\n",
    "input => FUNCTION => output\n",
    " (x)        (f)        (y)\n",
    "\n",
    "y=f(x)\n",
    "\n",
    "```\n",
    "print(\"hello\") => 소괄호가 나오면 함수\n",
    "```\n",
    "\n",
    "모듈 사용\n",
    "\n",
    "1. 함수가 포함된 파일을 불러와서 사용할 수 있다. (import)\n",
    "\n",
    "random 모듈(가장많이 사용)\n",
    "\n",
    "import random\n",
    "\n",
    "lunch = [\"돼지불백\" , \"설렁탕\" , \"지코바 치밥\"]\n",
    "\n",
    "print(random.choice(lunch)) => random 안에 있는 choice 함수를 가져온 것\n",
    "\n",
    "numbers = [1,2,3,4,5,6,7,8,9,10]\n",
    "\n",
    "pick = random.sample(numbers, 3) => random 안에 있는 sapmle 함수를 가져온 것\n",
    "\n",
    "print(pick)"
   ]
  },
  {
   "cell_type": "code",
   "execution_count": 119,
   "metadata": {},
   "outputs": [
    {
     "name": "stdout",
     "output_type": "stream",
     "text": [
      "지코바 치밥\n",
      "[5, 9, 2]\n"
     ]
    }
   ],
   "source": [
    "import random\n",
    "\n",
    "lunch = [\"돼지불백\" , \"설렁탕\" , \"지코바 치밥\"]\n",
    "\n",
    "print(random.choice(lunch))\n",
    "\n",
    "numbers = [1,2,3,4,5,6,7,8,9,10]\n",
    "\n",
    "pick = random.sample(numbers, 3)\n",
    "\n",
    "print(pick)\n"
   ]
  },
  {
   "cell_type": "code",
   "execution_count": 122,
   "metadata": {},
   "outputs": [
    {
     "name": "stdout",
     "output_type": "stream",
     "text": [
      "==2 단==\n",
      "2 * 1 = 2\n",
      "2 * 2 = 4\n",
      "2 * 3 = 6\n",
      "2 * 4 = 8\n",
      "2 * 5 = 10\n",
      "2 * 6 = 12\n",
      "2 * 7 = 14\n",
      "2 * 8 = 16\n",
      "2 * 9 = 18\n",
      "==3 단==\n",
      "3 * 1 = 3\n",
      "3 * 2 = 6\n",
      "3 * 3 = 9\n",
      "3 * 4 = 12\n",
      "3 * 5 = 15\n",
      "3 * 6 = 18\n",
      "3 * 7 = 21\n",
      "3 * 8 = 24\n",
      "3 * 9 = 27\n",
      "==4 단==\n",
      "4 * 1 = 4\n",
      "4 * 2 = 8\n",
      "4 * 3 = 12\n",
      "4 * 4 = 16\n",
      "4 * 5 = 20\n",
      "4 * 6 = 24\n",
      "4 * 7 = 28\n",
      "4 * 8 = 32\n",
      "4 * 9 = 36\n",
      "==5 단==\n",
      "5 * 1 = 5\n",
      "5 * 2 = 10\n",
      "5 * 3 = 15\n",
      "5 * 4 = 20\n",
      "5 * 5 = 25\n",
      "5 * 6 = 30\n",
      "5 * 7 = 35\n",
      "5 * 8 = 40\n",
      "5 * 9 = 45\n",
      "==6 단==\n",
      "6 * 1 = 6\n",
      "6 * 2 = 12\n",
      "6 * 3 = 18\n",
      "6 * 4 = 24\n",
      "6 * 5 = 30\n",
      "6 * 6 = 36\n",
      "6 * 7 = 42\n",
      "6 * 8 = 48\n",
      "6 * 9 = 54\n",
      "==7 단==\n",
      "7 * 1 = 7\n",
      "7 * 2 = 14\n",
      "7 * 3 = 21\n",
      "7 * 4 = 28\n",
      "7 * 5 = 35\n",
      "7 * 6 = 42\n",
      "7 * 7 = 49\n",
      "7 * 8 = 56\n",
      "7 * 9 = 63\n",
      "==8 단==\n",
      "8 * 1 = 8\n",
      "8 * 2 = 16\n",
      "8 * 3 = 24\n",
      "8 * 4 = 32\n",
      "8 * 5 = 40\n",
      "8 * 6 = 48\n",
      "8 * 7 = 56\n",
      "8 * 8 = 64\n",
      "8 * 9 = 72\n",
      "==9 단==\n",
      "9 * 1 = 9\n",
      "9 * 2 = 18\n",
      "9 * 3 = 27\n",
      "9 * 4 = 36\n",
      "9 * 5 = 45\n",
      "9 * 6 = 54\n",
      "9 * 7 = 63\n",
      "9 * 8 = 72\n",
      "9 * 9 = 81\n"
     ]
    }
   ],
   "source": [
    "# 구구단 (2~9)\n",
    "\n",
    "for i in range(2,10): # range(1,10) 1이상 10미만의 숫자 모음을 만들어 준다.\n",
    "    print(f\"=={i} 단==\")\n",
    "    for j in range(1,10):\n",
    "        print(f\"{i} * {j} = {i*j}\")\n",
    "        "
   ]
  },
  {
   "cell_type": "code",
   "execution_count": 159,
   "metadata": {},
   "outputs": [
    {
     "name": "stdout",
     "output_type": "stream",
     "text": [
      "[4, 14, 42, 25, 13, 3]\n"
     ]
    }
   ],
   "source": [
    "# 로또 자동추첨기\n",
    "\n",
    "# 로또의 번호 범위는 1~45\n",
    "# 6개의 숫자를 뽑아서 출력하는 코드\n",
    "\n",
    "numbers = range(1,46)\n",
    "\n",
    "pick = random.sample(numbers,6)\n",
    "\n",
    "print(pick)"
   ]
  }
 ],
 "metadata": {
  "kernelspec": {
   "display_name": "Python 3",
   "language": "python",
   "name": "python3"
  },
  "language_info": {
   "codemirror_mode": {
    "name": "ipython",
    "version": 3
   },
   "file_extension": ".py",
   "mimetype": "text/x-python",
   "name": "python",
   "nbconvert_exporter": "python",
   "pygments_lexer": "ipython3",
   "version": "3.9.13"
  },
  "orig_nbformat": 4
 },
 "nbformat": 4,
 "nbformat_minor": 2
}
