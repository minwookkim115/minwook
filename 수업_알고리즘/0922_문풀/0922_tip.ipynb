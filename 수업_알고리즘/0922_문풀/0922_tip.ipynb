{
 "cells": [
  {
   "cell_type": "markdown",
   "metadata": {},
   "source": [
    "0. IDE를 적극적으로 활용\n",
    "    - input.in 써서, 복사하지 말고 사용\n",
    "    - 디버깅 툴 -> 적극적으로 써라\n",
    "        - print로 다 디버깅 해야함\n",
    "        - 적재적소에 print를 사용할 줄 알아야 함\n",
    "        - 디버깅 툴을 활용해서 연습\n",
    "\n",
    "1. 문제를 봤을 때, 원하는 알고리즘을 선택\n",
    "    - 일단 완전 탐색으로 생각\n",
    "        - N 값을 반드시 확인해서, 시간복잡도 확인(N이 10을 넘어가면 시간복잡함)\n",
    "        - -> 백트래킹 하는 방법 생각\n",
    "        - 안될거 같으면\n",
    "        - 그리디(규칙찾기), DP(두 번 계산하지 않기), Union-Find"
   ]
  }
 ],
 "metadata": {
  "language_info": {
   "name": "python"
  },
  "orig_nbformat": 4
 },
 "nbformat": 4,
 "nbformat_minor": 2
}
