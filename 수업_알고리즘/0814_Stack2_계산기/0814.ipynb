{
 "cells": [
  {
   "cell_type": "markdown",
   "metadata": {},
   "source": [
    "후위표기법\n",
    "- 괄호가 없어져서 계산하기 편함\n"
   ]
  },
  {
   "cell_type": "markdown",
   "metadata": {},
   "source": [
    "백트래킹\n",
    "- 최적화 문제와 결정 문제를 해결"
   ]
  },
  {
   "cell_type": "markdown",
   "metadata": {},
   "source": [
    "백트래킹과 깊이우선탐색과의 차이\n",
    "- "
   ]
  }
 ],
 "metadata": {
  "language_info": {
   "name": "python"
  },
  "orig_nbformat": 4
 },
 "nbformat": 4,
 "nbformat_minor": 2
}
