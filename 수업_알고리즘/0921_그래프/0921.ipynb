{
 "cells": [
  {
   "cell_type": "markdown",
   "metadata": {},
   "source": [
    "최소 신장 트리(MST)\n"
   ]
  },
  {
   "cell_type": "markdown",
   "metadata": {},
   "source": [
    "신장트리\n",
    "- 모든 정점이 연결 되어있음\n",
    "- 사이클이 존재하지 않는 부분 그래프\n",
    "    - 간선의 개수: N - 1개\n",
    "- 한 그래프에서 여러 개의 신장 트리가 나올 수 있다."
   ]
  },
  {
   "cell_type": "markdown",
   "metadata": {},
   "source": [
    "우리는 도로 건설 계획을 세우고 있다\n",
    "총 N개의 도시를 연결하는 도로를 건설하려고 할 때\n",
    "모든 도시에 갈 수 있도록 하며,\n",
    "가장 비용이 적게 들도록\n",
    "도로를 건설하는 경우의 수를 구하시오"
   ]
  },
  {
   "cell_type": "markdown",
   "metadata": {},
   "source": [
    "Prim 알고리즘(정점을 무조건 선택, 정점에 관심을 갖는 알고리즘)\n",
    "- 하나의 정점에서 연결된 간선들 중에 하나씩 선택하면서 MST를 만들어가는 방식\n",
    "    - 임의 정점을 하나 선택\n",
    "    - 선택한 정점과 인점하는 정점들 중 최소 비용의 간선이 존재하는 정점 선택\n",
    "    - 반복\n",
    "    - 싸이클이 생기면 고르지 않도록 check"
   ]
  },
  {
   "cell_type": "markdown",
   "metadata": {},
   "source": [
    "dijkstra 알고리즘\n",
    "- 시작정점에서 끝정점 까지의 최단 경로에 정점 x가 존재한다.\n",
    "- 이때 최단경로는 s에서 x 까지의 최단 경로와 x에서 t까지의 최단경로로 구성"
   ]
  }
 ],
 "metadata": {
  "language_info": {
   "name": "python"
  },
  "orig_nbformat": 4
 },
 "nbformat": 4,
 "nbformat_minor": 2
}
