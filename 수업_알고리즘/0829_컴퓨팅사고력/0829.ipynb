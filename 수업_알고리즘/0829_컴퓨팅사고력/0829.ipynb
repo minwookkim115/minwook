{
 "cells": [
  {
   "cell_type": "markdown",
   "metadata": {},
   "source": [
    "만약 0이 홀수라면(p) 미국에서 2080년 월드컵이 열린다(q)\n",
    "- p = False / q = 알수 없음 / True\n",
    "- 조건이 False면 q가 True든 False든 True\n",
    "\n",
    "만약 19893827938274839이 Prime Number라면(p) 2는 짝수이다(q)\n",
    "- p = 알수 없음 / q = True / True\n",
    "- q가 True면 조건이 True든 False든 True"
   ]
  },
  {
   "cell_type": "markdown",
   "metadata": {},
   "source": [
    "F  T  F  F  F\n",
    "F  F  T  T  F\n",
    "T  T  F  F  F\n",
    "T  T  T  F  F"
   ]
  },
  {
   "cell_type": "markdown",
   "metadata": {},
   "source": [
    "52개의 카드를 이용해서 만들 수 있는 5개 카드중 숫자가 같은 카드가 한 쌍도 없는 경우\n",
    "- 52*48*44*40*36\n",
    "- 5!\n",
    "\n",
    "52개의 카드를 이용해서 만들 수 있는 5개 카드중 무늬가 같은 카드가 정확히 3개인 경우\n",
    "- 4(13*12*11) 무늬 4개 하나씩 뽑는 경우수\n",
    "- 3*2*13*13 나머지 무늬 3개중 2개에서 하나씩 뽑는 경우수\n",
    "- 4(13*12*11)*3*2*13*13"
   ]
  }
 ],
 "metadata": {
  "language_info": {
   "name": "python"
  },
  "orig_nbformat": 4
 },
 "nbformat": 4,
 "nbformat_minor": 2
}
