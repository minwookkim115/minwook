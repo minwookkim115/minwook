{
 "cells": [
  {
   "cell_type": "markdown",
   "metadata": {},
   "source": [
    "2차원 배열 입력 받기\n",
    "- 3 * 3행렬\n",
    "\n",
    "- 3\n",
    "- 1 2 3\n",
    "- 4 5 6\n",
    "- 7 8 9\n",
    "\n",
    "N = int(input)\n",
    "arr = [list(map(int, input().split())) for_in range(N)]\n",
    "- 1 2 3  4 5 6  7 8 9 로\n",
    "\n",
    "N = int(input)\n",
    "arr = [list(map(int, input())) for_in range(N)]\n",
    "- 123 456 789 로 붙여서"
   ]
  },
  {
   "cell_type": "code",
   "execution_count": null,
   "metadata": {},
   "outputs": [],
   "source": [
    "# 열 우선 순회\n",
    "\n",
    "for j in range(m): # 열의 개수 m\n",
    "    for i in range(n): # 행의 개수 n\n",
    "        f(Arry[i][j]) # 열의개수 m을 고정시키고 행의개수 n을 이동"
   ]
  },
  {
   "cell_type": "code",
   "execution_count": null,
   "metadata": {},
   "outputs": [],
   "source": [
    "# 지그재그 순회\n",
    "# 0을 포함한 짝수는 오른쪽으로 홀수는 왼쪽으로 순회\n",
    "\n",
    "# 만드는 과정 이해하기"
   ]
  },
  {
   "cell_type": "markdown",
   "metadata": {},
   "source": []
  }
 ],
 "metadata": {
  "language_info": {
   "name": "python"
  },
  "orig_nbformat": 4
 },
 "nbformat": 4,
 "nbformat_minor": 2
}
