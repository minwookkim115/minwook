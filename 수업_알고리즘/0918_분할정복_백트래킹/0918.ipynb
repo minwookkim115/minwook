{
 "cells": [
  {
   "cell_type": "markdown",
   "metadata": {},
   "source": [
    "지난 내용 정리\n",
    "- 알고리즘 설계 기법의 종류\n",
    "1. 전체를 다 보자 (Brute Force - 완전 탐색)\n",
    "    - 배열 : 반복문(for, while) 다 돌리기\n",
    "    - 그래프 : DFS, BFS\n",
    "2. 상황마다 좋은 걸 고르자 (Greedy - 탐욕 기법)\n",
    "    - 규칙을 찾는 것이 중요\n",
    "    - 주의사항 : 항상 좋은 것을 뽑아도 최종 결과가 제일 좋다는 것은 보장되지 않음\n",
    "3. 하나의 큰 문제를 작은 무제로 나누어 부분적으로 해결하자 (Dynamic Programming)\n",
    "    - Memoization 기법 활용\n",
    "    - 부분적으로 문제를 해결해 놓은 것을 저장 시켜두고\n",
    "    - 다른문제를 풀때 다시 가져와서\n",
    "    - 점화식(bottom-up), 재귀(top-down)\n",
    "4. 큰 문제를 작은 문제로 쪼개서 해결하자(Divide and Conquer - 분할 정복)\n",
    "5. 전체 중 가능성 없는 것을 빼고 보자 (Backtrackin - 백트래킹)\n",
    "    - 가지치기"
   ]
  },
  {
   "cell_type": "markdown",
   "metadata": {},
   "source": [
    "분할 정복\n",
    "- 동전 찾기\n",
    "    - 24개의 동전 하나만 무게가 가벼움\n",
    "    - 하나 올려두고 23개 비교가능 하지만 최악의 경우 23번 비교해야함\n",
    "    - 24개를 12 12 로 나눠서 절반 씩 비교하면 비교횟수가 훨씬 적어짐\n",
    "- 분할 : 문제를 쉽게 해결할 수 있을 때까지 작은 부분으로 나눔\n",
    "- 정복 : 나눈 작은 문제를 각각 해결\n",
    "- 통합 : 해결된 해답을 모음"
   ]
  },
  {
   "cell_type": "markdown",
   "metadata": {},
   "source": [
    "병합정렬\n",
    "- 무작위 숫자를 분할 / 리스트를 쪼갤 수 없을 때 까지\n",
    "- 합치면서 정렬 => 정복\n",
    "- 통합\n"
   ]
  },
  {
   "cell_type": "markdown",
   "metadata": {},
   "source": [
    "퀵정렬\n",
    "- 병합 정렬과 비슷하지만\n",
    "- 병합정렬은 그냥 두 부분으로 나눔 / 퀵 정렬은 기준 아이템을 중심으로 나눔\n",
    "- 병합정렬은 병합 이란 후처리 작업 필요 / 퀵정렬 필요 x\n",
    "- 피봇(기준 아이템) 선택 : 왼쪽 끝, 오른쪽 끝, 가운데 중에 중간 값\n",
    "    - 피봇이 양쪽에 있으면 호어 파티션\n",
    "    - i j 가 같이가면 로무토 파티션\n",
    "    - 꼭 손으로 그려보기!!"
   ]
  },
  {
   "cell_type": "markdown",
   "metadata": {},
   "source": [
    "Hoare 파티션 vs Lomuto 파티션\n",
    "- Lomuto : 같은 숫자가 많으면 불필요한 swap이 발생\n",
    "- Hoare : 더 중요"
   ]
  },
  {
   "cell_type": "markdown",
   "metadata": {},
   "source": [
    "이진 검색(코테 단골 유형)\n",
    "- 원하는 데이터를 빨리 찾아보자\n",
    "- 이진검색은 정렬된 상태여야함\n",
    "- Parametric Search\n",
    "    - low bound\n",
    "    - upper bound\n",
    "        - 여러 개의 데이터 중 2가 처음 나온 시점\n",
    "        - 2~9 사이의 데이터는 몇개인가 ?"
   ]
  }
 ],
 "metadata": {
  "language_info": {
   "name": "python"
  },
  "orig_nbformat": 4
 },
 "nbformat": 4,
 "nbformat_minor": 2
}
