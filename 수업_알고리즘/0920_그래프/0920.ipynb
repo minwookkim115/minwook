{
 "cells": [
  {
   "cell_type": "markdown",
   "metadata": {},
   "source": [
    "그래프\n",
    "- 연결관계를 갖는 비선형 자료구조\n",
    "- 데이터 간 관계를 표현한 자료구조\n",
    "    - 관계 : 데이터 사이의 연관성\n",
    "    - 노드와 간선으로 이루어져 있다"
   ]
  },
  {
   "cell_type": "markdown",
   "metadata": {},
   "source": [
    "DFS\n",
    "- 끝까지 갈수 있을 만큼 간다."
   ]
  },
  {
   "cell_type": "markdown",
   "metadata": {},
   "source": [
    "BFS\n",
    "- 현재 내가 갈수 있는 곳을 다 간다."
   ]
  },
  {
   "cell_type": "markdown",
   "metadata": {},
   "source": [
    "서로소 집합들\n",
    "- 서로 중복 포함된 원소가 없는 집합들 == 교집합이 없다.\n",
    "- 집합에 속한 특정 멤버를 통해 각 집합들을 구분한다. => 이를 대표자라 한다.\n",
    "- union은 묶는거\n",
    "- x, y, a, b 를 집합 만들면 대표자는 x, y, a, b\n",
    "- union xy ab하고 대표자를 같게 만들면\n",
    "- y를 찾으면 대표자 x로 b를 찾으면 대표자 a로"
   ]
  },
  {
   "cell_type": "markdown",
   "metadata": {},
   "source": [
    "상호 배타 집합 표현 - 트리\n",
    "- 하나의 집합을 하나의 트리로 표현\n",
    "- 루트가 대표가 됨"
   ]
  }
 ],
 "metadata": {
  "language_info": {
   "name": "python"
  },
  "orig_nbformat": 4
 },
 "nbformat": 4,
 "nbformat_minor": 2
}
