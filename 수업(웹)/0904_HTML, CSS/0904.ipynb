{
 "cells": [
  {
   "cell_type": "markdown",
   "metadata": {},
   "source": [
    "www\n",
    "- world wide web / 인터넷으로 연결된 컴퓨터들이 정보를 공유하는 공간\n",
    "\n",
    "Web \n",
    "- web site, web application 등을 통해 사용자들이 정보를 검색하고 상호작용하는 기술\n",
    "\n",
    "Web site\n",
    "- 인터넷에서 여러개의 web page가 모인것, 사용자들에게 정보나 서비스 제공\n",
    "\n",
    "Web page(최종 만들어야할 목표)\n",
    "- HTML, CSS등의 웹기술을 이용해 만들어진 web sit를 구성하는 요소"
   ]
  },
  {
   "cell_type": "markdown",
   "metadata": {},
   "source": [
    "Web page 구성요소\n",
    "- 구조 : HTML\n",
    "- 스타일링 : CSS\n",
    "- 행동 : Javascript"
   ]
  },
  {
   "cell_type": "markdown",
   "metadata": {},
   "source": [
    "웹 구조화\n",
    "HTML => HyperText Markup Language\n",
    "- 웹 페이지의 의미와 구조를 정의하는 언어"
   ]
  },
  {
   "cell_type": "markdown",
   "metadata": {},
   "source": [
    "Hypertext\n",
    "- 웹 페이지를 다른 페이지로 연결하는 링크\n",
    "- 네이버 홈페이지에서 네이버스포츠 누르면 새로운 웹페이지로 감\n",
    "- 참조를 통해 사용자가 한 문서에서 다른 문서로 즉시 접근할 수 있는 텍스트"
   ]
  },
  {
   "cell_type": "markdown",
   "metadata": {},
   "source": [
    "Markup Language\n",
    "- 태그 등을 이용하여 문서나 데이터의 **구조를 명시하는 언어**\n",
    "- HTML, Markdown 등"
   ]
  },
  {
   "cell_type": "markdown",
   "metadata": {},
   "source": [
    "HTML Element(요소)\n",
    "- 하나의 요소는 여는 태그와 닫는 태그, 안에 내용으로 구성\n",
    "- 닫는 태크는 /가 포함, 닫는 태그가 없는 태그도 있음"
   ]
  },
  {
   "cell_type": "markdown",
   "metadata": {},
   "source": [
    "HTML Attributes(속성)\n",
    "- 속성은 요소이름과 속성사이에 공백이 있어야함\n",
    "- 하나 이상의 속성들이 있는 경우에 속성 사이에 공백으로 구분\n",
    "- 속성값은 열고 닫는 따옴표로 감싸야함\n",
    "- ※ 나타내고 싶지 않지만 추가적인 기능, 내용을 담고 싶을 때\n",
    "- ※ CSS에서 해당 요소를 선택하기 위해"
   ]
  },
  {
   "cell_type": "markdown",
   "metadata": {},
   "source": [
    "CSS\n",
    "- 웹페이지 디자인, 레이아웃을 구성하는 언어"
   ]
  },
  {
   "cell_type": "markdown",
   "metadata": {},
   "source": [
    "CSS 적용 방법\n",
    "- 인라인(Inline) 스타일\n",
    "    - HTML 요소 안에 style 속성 값으로 작성\n",
    "- 내부 스타일(Internal) 시트\n",
    "    - head태그 안에 style태그에 작성\n",
    "- 외부 스타일(External) 시트\n",
    "    - 별도의 CSS파일 생성 후 HTML link 태그를 사용해 불러오기"
   ]
  },
  {
   "cell_type": "markdown",
   "metadata": {},
   "source": [
    "선택자\n",
    "- 뭘 선택할지 (h1)\n",
    "- 중괄호로 여닫기\n",
    "선언\n",
    "- color(속성): red(값); => ;는 선언 끝내기\n",
    "- font-size: 30px;"
   ]
  },
  {
   "cell_type": "markdown",
   "metadata": {},
   "source": [
    "CSS Selectors(선택자) 종류\n",
    "- 기본 선택자\n",
    "    - 전체(*) 선택자: HTML 모든 요소를 선택\n",
    "    - 요소(tag) 선택자: 지정한 모든 태그를 선택\n",
    "    - 클래스(class) 선택자: '.'(dot) / 주어진 클래스 속성을 가진모든 요소를 선택\n",
    "    - 아이디(id) 선택자: '#' / 주어진 아이디 속성을 가진 요소 선택, 하나만 가능\n",
    "    - 속성(attr) 선택자: "
   ]
  },
  {
   "cell_type": "markdown",
   "metadata": {},
   "source": [
    "CSS 결합자 종류\n",
    "- 자손 결합자\n",
    "    - \" \" / 첫 번째 요소의 자손 요소들을 선택\n",
    "    - p span은 p 안에있는 모든 span를 선택\n",
    "- 자식 결합자\n",
    "    - \">\" 첫 번째 요소의 직계자식만 선택\n",
    "    - ul > li는 ul안에 있는 모든 li를 선택"
   ]
  },
  {
   "cell_type": "markdown",
   "metadata": {},
   "source": [
    "CSS\n",
    "- Casade\n",
    "    - 마지막에 나온애가 적용됨\n",
    "    - h1을 빨간색으로 바꾸고 보라색으로 바꾸면 나중에 한 보라색이 됨"
   ]
  },
  {
   "cell_type": "markdown",
   "metadata": {},
   "source": [
    "CSS의 우선순위\n",
    "- Importance => 1등\n",
    "    - !important\n",
    "    - 다른 우선순위 무시하고 우선하여 적용\n",
    "- Inline 스타일 => 2등\n",
    "- 선택자\n",
    "    - id 선택자(3등) / class 선택자(4등) / 요소 선택자(5등)\n",
    "- 소스코드 순서"
   ]
  }
 ],
 "metadata": {
  "language_info": {
   "name": "python"
  },
  "orig_nbformat": 4
 },
 "nbformat": 4,
 "nbformat_minor": 2
}
