{
 "cells": [
  {
   "cell_type": "markdown",
   "metadata": {},
   "source": [
    "Framework\n",
    "- 웹 애플리케이션을 빠르게 개발할 수 있도록 도와주는 도구"
   ]
  },
  {
   "cell_type": "markdown",
   "metadata": {},
   "source": [
    "프레임워크를 사용하는 이유\n",
    "- 기본적인 구조, 도구, 규칙을 제공하기 때문에 필수적인 개발에만 집중 가능\n",
    "- 여러 라이브러리를 제공해 개발속도를 빠르게 가능\n",
    "- 유지보수와 확장에 용이해 소프트웨어의 품질을 높임"
   ]
  },
  {
   "cell_type": "markdown",
   "metadata": {},
   "source": [
    "Django\n",
    "- 파이썬 기반의 대표적인 웹 프레임워크"
   ]
  },
  {
   "cell_type": "markdown",
   "metadata": {},
   "source": [
    "클라이언트와 서버\n",
    "- 클라이언트에서 서버로 요청을 보내고\n",
    "- 서버에서 응답을 준다"
   ]
  },
  {
   "cell_type": "markdown",
   "metadata": {},
   "source": [
    "클라이언트\n",
    "- 서비스를 요청하는 주체\n",
    "- 웹 사용자의 인터넷이 연결된 장치, 웹 브라우저\n",
    "- ex) 여러 모바일기기, 컴퓨터"
   ]
  },
  {
   "cell_type": "markdown",
   "metadata": {},
   "source": [
    "서버\n",
    "- 클라이언트의 요청에 응답하는 주체\n",
    "- 웹페이지, 앱을 저장하는 컴퓨터\n",
    "- ※ 얘도 기기지만 요청이 있어야 된다."
   ]
  },
  {
   "cell_type": "markdown",
   "metadata": {},
   "source": [
    "웹의 동작 방식\n",
    "- 컴퓨터나 모바일 기기로 웹페이지를 보게 될 때까지 일어날 일\n",
    "- 나와 크롬(웹 브라우저)이 클라이언트 / 구글이 서버\n",
    "    - 웹 브라우저(클라이언트)에서 google.com을 입력\n",
    "    - 브라우저는 어딘가에 있는 구글 컴퓨터(서버)에게 홈페이지(구글 홈페이지.html) 달라고 요청\n",
    "    - 요청을 받은 구글 컴퓨터는 데이터베이서 에서 홈페이지(구글 홈페이지.html) 파일을 찾아 응답\n",
    "    - 전달받은 홈페이지 파일을 사람이 볼 수 있도록 해석 해주면서 사람이 볼 수 있게\n",
    "- Django를 사용해서 서버를 구현할 것이다"
   ]
  },
  {
   "cell_type": "markdown",
   "metadata": {},
   "source": [
    "프로젝트 및 가상환경(Django)"
   ]
  },
  {
   "cell_type": "markdown",
   "metadata": {},
   "source": [
    "가상환경\n",
    "- 파이썬 어플리케이션과 그에 따른 패키지들을 하여\n",
    "- 관리할 수 있는 독립적인 실행 환경\n",
    "- **격리하여 독립적으로 실행**\n",
    "- 우리는 여태까지 글로벌 환경에서 진행 중이었지만 가상환경이 필요함"
   ]
  },
  {
   "cell_type": "markdown",
   "metadata": {},
   "source": [
    "가상환경이 왜필요하냐\n",
    "- 내가 프로젝트 A, B 두개를 진행중\n",
    "- A는 requests패키지 버전1을 사용(과거부터 해왔던 프로젝트 라서)\n",
    "- B는 requests패키지 버전2을 사용(비교적 최근에 시작해서)\n",
    "- But 파이썬 환경에서는 패키지가 1개 버전만 존재가능\n",
    "- So 다른 패키지 버전 사용을 위해 독립적인 개발 환경이 필요"
   ]
  },
  {
   "cell_type": "markdown",
   "metadata": {},
   "source": [
    "가상환경이 왜필요하냐\n",
    "- 내가 프로젝트 A, B 두개를 진행중\n",
    "- A는 water라는 패키지 사용\n",
    "- B는 fire라는 패키지 사용\n",
    "- 파이썬 환경에서는 water와 fire 패키지가 충돌이 발생함\n",
    "- 다른 버전은 아니지만 충돌이 일어나기 때문에 독립적인 개발 환경이 필요"
   ]
  },
  {
   "cell_type": "markdown",
   "metadata": {},
   "source": [
    "가상환경 venv 생성\n",
    "- python -m venv venv(가상환경 이름)\n",
    "- 만들고 활성화를 시켜줘야함(active, off)\n",
    "    - source venv/Scripts/activate(파일 경로)\n",
    "    - deactivate => off\n",
    "    - pip list를 통해 각 환경에 설치된 패키지 확인 가능\n",
    "- ※ 내가 가상환경으로 들어가는게 아니라 특정한 위치에 있는 가상환경을 껐다켰다"
   ]
  },
  {
   "cell_type": "markdown",
   "metadata": {},
   "source": [
    "패키지 목록을 확인하는 이유?\n",
    "- A랑B가 하나의 프로젝트를 함께 개발\n",
    "- A가 가상환경 생성후 관련 패키지를 설치하고 개발하다가 협업을 위해 github에 push\n",
    "- B가 clone 받고 실행 하려하는데 실행 안됨\n",
    "- A가 어떤 패키지를 설치했고, 어떤 버전을 설치 했는지 A의 가상환경 알 수 없음\n",
    "- So 패키지 목록이 공유(txt파일로)되어야 함"
   ]
  },
  {
   "cell_type": "markdown",
   "metadata": {},
   "source": [
    "패키지목록이 많아지면 일일이 찾아서 언제 보내냐\n",
    "- pip freeze > requirements.txt\n",
    "- 이러면 걍 txt파일로 만들어줌\n",
    "B가 됏음\n",
    "- pip install -r requirements.txt\n",
    "- 이러면 걍 알아서 패키지 설치해서 똑같은 환경으로 만들어줌\n"
   ]
  },
  {
   "cell_type": "markdown",
   "metadata": {},
   "source": [
    "venv는 공용 저장소에 올리지 않기 때문에 gitignore에다가 만듬"
   ]
  },
  {
   "cell_type": "markdown",
   "metadata": {},
   "source": [
    "의존성 패키지\n",
    "- 하나의 패키지가 다른 패키지의 기능이나 코드를 사용하기 때문에\n",
    "- 그 패키지가 존재해야만 제대로 작동하는 관계\n",
    "- 사용하려는 패키지가 설치되지 않았거나 호환되는 버전이 아니면 오류가 발생, 예상치 못한 동작을 보임\n",
    "- ※ requests를 설치하면 다른 애들도 다 설치됨"
   ]
  },
  {
   "cell_type": "markdown",
   "metadata": {},
   "source": [
    "Django 프로젝트 생성 루틴 + git\n",
    "- 가상환경 생성\n",
    "- 가상환경 활성화\n",
    "- Django 설치\n",
    "- 의존성 파일 생성 (패키지 설치마다 진행)\n",
    "- .gitignore 파일 생성 (첫 add 전)\n",
    "- git 저장소 생성\n",
    "- Django 프로젝트 생성"
   ]
  },
  {
   "cell_type": "markdown",
   "metadata": {},
   "source": [
    "앱생성, 등록\n",
    "- 앱은 생성한 후에 등록 해야함\n",
    "- 웬만하면 복수로 생성"
   ]
  },
  {
   "cell_type": "markdown",
   "metadata": {},
   "source": [
    "디자인 패턴\n",
    "- 소프트웨어 설계에서 발생하는 문제를 해결하기 위한 일반적인 해결책"
   ]
  },
  {
   "cell_type": "markdown",
   "metadata": {},
   "source": [
    "MVC 디자인 패턴\n",
    "- Model(DB), View(화면), Controller(내부조건)\n",
    "- 애플리케이션을 구조화하는 대표적인 패턴\n",
    "- 데이터(Model), 사용자 인터페이스(View), 비즈니스 로직(Controller)을 분리\n",
    "- 시각적 요소(View)와 뒤에서 실행되는 로직(Controller)을 서로 영향 없이\n",
    "- 독립적이고 쉽게 유지보수 할 수 있는 어플리케이션을 만들기 위해"
   ]
  },
  {
   "cell_type": "markdown",
   "metadata": {},
   "source": [
    "MTV 디자인 패턴\n",
    "- Model, Template(View), View(Controller)\n",
    "- Django에서 애플리케이션을 구조화 하는 패턴\n",
    "- 기존 MVC 패턴과 동일하나 명칭을 다르게 정의한 것"
   ]
  },
  {
   "cell_type": "markdown",
   "metadata": {},
   "source": [
    "프로젝트 구조\n",
    "- settings.py: 프로젝트의 모든 설정을 관리(우리가 바꿀거)\n",
    "- urls.py: url과 이에 해당하는 적절한 view를 연결(우리가 바꿀거)\n",
    "- init.py: 해당 폴더를 패키지로 인식하도록 설정\n",
    "- asgi.py: 비동기식 웹 서버와의 연결 관련 설정\n",
    "- wsgi.py: 웹 서버와 연결 관련 설정(안씀)\n",
    "- manage.py: Django 프로젝트와 다양한 방법으로 상호작용함(수업과정에서 수정할 일 없음)"
   ]
  },
  {
   "cell_type": "markdown",
   "metadata": {},
   "source": [
    "앱 구조\n",
    "- admin.py: 관리자용 페이지 설정\n",
    "- modles.py(MTV에서 M에 해당)\n",
    "    - DB와 관련된 Model을 정의\n",
    "    - MTV 패턴의 M\n",
    "- views.py(MTV에서 V에 해당)\n",
    "    - HTTP 요청을 처리하고 해당 요청에 대한 응답을 반환\n",
    "- apps.py(안함): 앱의 정보 작성된 곳\n",
    "- test.py(안함)"
   ]
  },
  {
   "cell_type": "markdown",
   "metadata": {},
   "source": [
    "Django와 요청 & 응답\n",
    "- 클라이언트(크롬)에서 url.py를 요청"
   ]
  }
 ],
 "metadata": {
  "language_info": {
   "name": "python"
  },
  "orig_nbformat": 4
 },
 "nbformat": 4,
 "nbformat_minor": 2
}
