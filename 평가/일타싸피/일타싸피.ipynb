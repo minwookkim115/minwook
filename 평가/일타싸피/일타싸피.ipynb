{
 "cells": [
  {
   "cell_type": "markdown",
   "metadata": {},
   "source": [
    "과목평가 제출 파일 명\n",
    "C0003_1018656"
   ]
  },
  {
   "cell_type": "markdown",
   "metadata": {},
   "source": [
    "당구대 규격: 254 * 127\n",
    "공: 5.73\n",
    "좌표 1.0: 1cm"
   ]
  },
  {
   "cell_type": "markdown",
   "metadata": {},
   "source": [
    "세기와 각도를 인자로 전달하여 함수\n",
    "거리 계산: 피타고라스 정리\n",
    "각도 계산: 삼각함수 라디안"
   ]
  },
  {
   "cell_type": "markdown",
   "metadata": {},
   "source": [
    "하나의 코드로 모든 stage가 clear될 수 있도록 작성\n",
    "math라이브러리 사용"
   ]
  },
  {
   "cell_type": "markdown",
   "metadata": {},
   "source": []
  }
 ],
 "metadata": {
  "language_info": {
   "name": "python"
  },
  "orig_nbformat": 4
 },
 "nbformat": 4,
 "nbformat_minor": 2
}
