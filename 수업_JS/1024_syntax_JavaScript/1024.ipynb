{
 "cells": [
  {
   "cell_type": "markdown",
   "metadata": {},
   "source": [
    "변수 작성 규칙\n",
    "- 문자, 달러($) 또는 밑줄(_)로 시작\n",
    "- 대소문자 구분\n",
    "- 예약어 사용 불가(for, if, function)\n",
    "- 카멜 케이스(camelCase) => 변수, 객체, 함수에 사용\n",
    "- 파스칼 케이스(PascalCase) => 클래스, 생성자에 사용\n",
    "- 대문자 스네이크 케이스(SNAKE_CASE) => 상수(constants)에 사용"
   ]
  },
  {
   "cell_type": "markdown",
   "metadata": {},
   "source": [
    "변수 선언 키워드\n",
    "- let\n",
    "    - 블록 스코프(중괄호 안)를 갖는 지역변수\n",
    "    - 재할당 가능\n",
    "    - 재선언 불가능\n",
    "- const\n",
    "    - 블록 스코프를 갖는 지역변수\n",
    "    - 재할당 불가능\n",
    "    - 재선언 불가능\n",
    "    - ※ 선언 시 반드시 초기값 설정 필요\n",
    "- var"
   ]
  },
  {
   "cell_type": "markdown",
   "metadata": {},
   "source": [
    "※ 기본적으로 const 권장, 재할당이 필요하면 let으로 사용"
   ]
  },
  {
   "cell_type": "markdown",
   "metadata": {},
   "source": [
    "데이터 타입\n",
    "- 원시 자료형\n",
    "    - 변수에 값이 직접 저장되는 자료형(불변, 값이 복사)\n",
    "    - Number => 정수 또는 실수형 숫자를 표현하는 자료형\n",
    "    - String\n",
    "    - Boolean\n",
    "    - undefined\n",
    "    - null\n",
    "- 참조 자료형\n",
    "    - 객체의 주소가 저장되는 자료형(가변, 주소가 복사)\n",
    "    - Objects(Object, Array, Function)"
   ]
  },
  {
   "cell_type": "markdown",
   "metadata": {},
   "source": [
    "Template literals (템플릿 리터럴)\n",
    "- f 스트링 처럼\n",
    "- 백틱 `` 사용\n",
    "- const age = 100\n",
    "- const message = `홍길동은 ${age}세입니다.`"
   ]
  },
  {
   "cell_type": "markdown",
   "metadata": {},
   "source": [
    "증가 & 감소 연산자\n",
    "- 증가 연산자(++)\n",
    "    - 피연산자 증가(1을 더함)시키고 연산자의 위치에 따라 증가하기 전이나 후 반환\n",
    "- 감소 연산자(--)\n",
    "    - 피연산자 감소(1을 뺌)시키고 연산자의 위치에 따라 감소하기 전이나 후 반환\n",
    "- ※ += 또는 -=와 같이 명시적인 표현 권장"
   ]
  },
  {
   "cell_type": "markdown",
   "metadata": {},
   "source": [
    "동등 연산자(==)\n",
    "- 두 피연산자가 같은 값으로 평가되는지 비교 후 boolean값을 반환\n",
    "- **암묵적 타입 변환**을 통해 타입을 일치시킨 후 같은 값인지 비교\n",
    "- 두 피연산자가 모두 객체일 경우 메모리의 같은 객체를 바라보는지 판별"
   ]
  },
  {
   "cell_type": "markdown",
   "metadata": {},
   "source": [
    "일치 연산자(===)\n",
    "- 두 피연산자의 값과 타입이 모두 같은 경우 true 반환\n",
    "- 같은 객체를 가리키거나, 같은 타입이면서 같은 값인지 비교\n",
    "- **암묵적 타입 변환** 없음"
   ]
  },
  {
   "cell_type": "markdown",
   "metadata": {},
   "source": [
    "for...in\n",
    "- 객체의 열거 가능한 속성(property)에 대해 반복\n",
    "- 속성 == key"
   ]
  },
  {
   "cell_type": "markdown",
   "metadata": {},
   "source": [
    "for...of\n",
    "- 반복 가능한 객체(배열, 문자열 등)에 대해 반복\n",
    "- 반복 가능한 객체 == 순서가있다 => 인덱스가 있다, 딕셔너리 안됨"
   ]
  },
  {
   "cell_type": "markdown",
   "metadata": {},
   "source": [
    "배열 반복과 for...in\n",
    "- 배열의 인덱스는 정수 이름을 가진 열거 가능한 속성\n",
    "- 정수가 아닌 이름과 속성을 포함하여 열거 가능한 모든 속성을 반환\n",
    "- 반복자 대신 속성 열거를 사용하기 때문에 특정 순서에 따라 인덱스를 반환하는 것을 보장할 수 없다\n",
    "- ※ 인덱스의 순서가 중요한 배열에서는 사용하지 않음\n",
    "- ※ 배열에서는 for반복, for...of 반복을 사용\n",
    "- **object에서만 쓴다.**"
   ]
  }
 ],
 "metadata": {
  "language_info": {
   "name": "python"
  }
 },
 "nbformat": 4,
 "nbformat_minor": 2
}
