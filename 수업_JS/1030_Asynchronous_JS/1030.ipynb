{
 "cells": [
  {
   "cell_type": "markdown",
   "metadata": {},
   "source": [
    "비동기\n",
    "- Synchronous(동기)\n",
    "    - 프로그램의 실행 흐름이 순차적으로 진행\n",
    "    - 하나의 작업이 완료된 후에 다음 작업이 실행되는 방식\n",
    "- Asynchronous(비동기)\n",
    "    - 프로그램의 실행 흐름이 순차적이지 않으며, 작업이 완료되기를 기다리지 않고 다음 작업 실행\n",
    "    - 작업의 완료 여부를 신경쓰지 않고 동시에 다른 작업 수행 가능"
   ]
  },
  {
   "cell_type": "markdown",
   "metadata": {},
   "source": [
    "Asynchronous 특징\n",
    "- 병렬적 수행\n",
    "- 당장 처리를 완료할 수 없고 시간이 필요한 작업들은 별도로 요청을 보낸 뒤 응답이 빨리오는 작업부터 처리"
   ]
  }
 ],
 "metadata": {
  "language_info": {
   "name": "python"
  }
 },
 "nbformat": 4,
 "nbformat_minor": 2
}
