{
 "cells": [
  {
   "cell_type": "markdown",
   "metadata": {},
   "source": [
    "함수 정의 2가지 방법\n",
    "- 선언식(function declaration) => 호이스팅 가능(선언만 끌어 올려줌)\n",
    "- 함수를 만들어 두면 위든 아래든 사용 가능\n",
    "- 익명 함수 사용 불가능\n",
    "    - function funcName () {\n",
    "        statements\n",
    "    }\n",
    "- 표현식(function expression) => 호이스팅 불가능\n",
    "- 함수 정의 전에 사용 불가능\n",
    "- 익명 함수 사용 가능\n",
    "    - const funcName = function () {\n",
    "        statements\n",
    "    }\n",
    "- 표현식을 사용 권장"
   ]
  },
  {
   "cell_type": "markdown",
   "metadata": {},
   "source": [
    "매개 변수\n",
    "- 기본 함수 매개변수\n",
    "- 나머지 매개변수"
   ]
  },
  {
   "cell_type": "markdown",
   "metadata": {},
   "source": [
    "기본 함수 매개변수\n",
    "- 값이 없거나 undefined가 전달 될 경우 이름 붙은 매개변수를 기본값으로 초기화\n",
    "- const greeting = function (name = 'Anonymous') {\n",
    "    return Hi ${name}\n",
    "}\n",
    "greeting() => Hi Anonymous\n",
    "- greeting 함수에 아무것도 안넣었으니까 기본값 나옴"
   ]
  },
  {
   "cell_type": "markdown",
   "metadata": {},
   "source": [
    "나머지 매개변수\n",
    "- 임의의 수를 인자를 '배열'로 허용하여 가변 인자를 나타내는 방법\n",
    "- 작성방법\n",
    "    - 함수 정의 시 나머지 매개변수 하나만 작성할 수 있음\n",
    "    - 나머지 매개변수는 함수 정의에서 매개변수 마지막에 위치 해야함"
   ]
  },
  {
   "cell_type": "markdown",
   "metadata": {},
   "source": [
    "매개변수와 인자의 개수 불일치\n",
    "- 매개변수가 인자개수보다 많을 때 => 누락된 인자는 undefined로 할당\n",
    "- 매개변수가 인자개수보다 적을 때 => 초과 입력한 인자는 사용 X"
   ]
  },
  {
   "cell_type": "markdown",
   "metadata": {},
   "source": [
    "Spread syntax('...') => 전개 구문\n",
    "- 배열이나 문자열과 같이 반복 가능한 항목을 펼치는 것\n",
    "- 전개 대상에 따라 역할이 다름\n",
    "    - 배열이나 객체의 요소를 개별적인 값으로 분리하거나\n",
    "    - 다른 배열이나 객체의 요소를 현재 배열이나 객체에 추가\n",
    "- 1. 함수와 사용\n",
    "    - 함수 호출 시 인자 확장\n",
    "    - 나머지 매개변수(압축)\n",
    "- 2. 객체와 사용\n",
    "- 3. 배열과 사용"
   ]
  },
  {
   "cell_type": "markdown",
   "metadata": {},
   "source": [
    "화살표 함수 표현식 => 함수 표현식의 간결한 표현법"
   ]
  },
  {
   "cell_type": "markdown",
   "metadata": {},
   "source": [
    "Object => Like 딕셔너리\n",
    "- 키로 구분된 데이터 집합을 저장하는 자료형\n",
    "- key는 문자형만 허용(하나의 단어일때(띄어쓰기 없을 때)는 '' 생략 가능)\n",
    "- value는 모든 자료형 허용"
   ]
  },
  {
   "cell_type": "markdown",
   "metadata": {},
   "source": [
    "속성 참조\n",
    "- 점('.', chaining operator)또는 대괄호([])로 객체 요소 접근\n",
    "- key 이름에 띄어쓰기 같은 구분자가 있으면 대괄호 접근만 가능\n"
   ]
  },
  {
   "cell_type": "markdown",
   "metadata": {},
   "source": [
    "객체와 함수의 관계\n",
    "- Method => 객체 속성에 정의된 함수\n"
   ]
  },
  {
   "cell_type": "markdown",
   "metadata": {},
   "source": [
    "this\n",
    "- **this**키워드를 사용해 객체에 대한 특정 작업을 수행 할 수 있음\n",
    "    - 함수나 메서드를 호출한 객체를 가리키는 키워드\n",
    "    - 함수 내에서 객체의 속성 및 메서드에 접근하기 위해 사용\n",
    "- 단순 호출 하면 => 전역 객체\n",
    "- 메서드 호출 하면 => 메서드를 호출한 객체"
   ]
  },
  {
   "cell_type": "markdown",
   "metadata": {},
   "source": [
    "1. 단축 속성\n",
    "    - 키 이름과 값으로 쓰이는 변수의 이름이 같은 경우 단축 구문 사용 가능\n",
    "2. 단축 메서드\n",
    "    - 메서드 선언 시 function 키워드 생략 가능\n",
    "3. 계산된 속성\n",
    "    - 키가 대괄호([])로 둘러싸여 있는 속성\n",
    "    - 고정된 값이 아닌 변수 값을 사용할 수 있음\n",
    "4. 구조 분해 할당\n",
    "    - 배열 또는 객체를 분해하여 속성을 변수에 쉽게 할당할 수 있는 문법\n",
    "    - '함수의 매개변수'로 객제 구조 분해 할당 활용 가능\n",
    "5. Object with '전개 구문'\n",
    "    - \"객체 복사\" => 객체 내부에서 객체 전개\n",
    "    - 얕은 복사에 활용 가능\n",
    "6. 유용한 객체 메서드\n",
    "    - Object.keys()\n",
    "    - Object.values()\n",
    "7. Optional chaining ('?.')\n",
    "    - 속성이 없는 중첩 객체를 에러 없이 접근 가능\n",
    "    - 참조 대상이 null 또는 undefined라면 에러발생 대신 undefined 반환\n",
    "    - Optional chaining이 없다면 다음과 깉이 '&&' 연산자를 사용해야 함\n",
    "    - 요약\n",
    "        1. obj?.prop\n",
    "        - obj가 존재하면 obj.prop을 반환하고 아니면 undefined\n",
    "        2. obj?.[prop]\n",
    "        - obj가 존재하면 obj[prop]을 반환하고 아니면 undefined\n",
    "        3. obj?.method()\n",
    "        - obj가 존재하면 obj.method()를 호출하고 아니면 undefined"
   ]
  },
  {
   "cell_type": "markdown",
   "metadata": {},
   "source": [
    "JSON ('JavaScript Object Notation')\n",
    "- Key-Value 형태로 이루어진 자료 표기법\n",
    "- Object와 유사하지만 JSON은 형식이 있는 '문자열'\n",
    "- JavaScript에서 JSON을 쓸려면 Object 자료형으로 변경해야함"
   ]
  },
  {
   "cell_type": "markdown",
   "metadata": {},
   "source": [
    "new 연산자\n",
    "- JS에서 객체를 하나 생성한다고 한다면 => 하나의 객체를 선언하여 생성\n",
    "- 동일한 형태의 객체를 또 만든다면 => 또 다른 객체를 선언하여 생성\n",
    "- 사용자 정의 객체 타입을 생성\n",
    "- 매개변수\n",
    "    - constructor : 객체 인스턴스의 타입을 기술하는 함수\n",
    "    - arguments : constructor와 함께 호출될 값 목록"
   ]
  },
  {
   "cell_type": "markdown",
   "metadata": {},
   "source": [
    "JavaScript 'this' 장단점\n",
    "- this는 나중에(호출될 때) 정해짐\n",
    "- 장점 : 함수를 하나만 만들어 여러 객체에서 재사용 가능\n",
    "- 단점 : 실수가 될 수 있음"
   ]
  },
  {
   "cell_type": "markdown",
   "metadata": {},
   "source": [
    "배열(Array) => 순서가 있는 데이터 집합을 저장하는 자료구조\n",
    "- Object는 키로 구분 되어서 순서가 없기 때문에\n",
    "- 순서가 있는게 필요해서 그게 바로 Array"
   ]
  },
  {
   "cell_type": "markdown",
   "metadata": {},
   "source": [
    "배열 구조\n",
    "- 대괄호([])를 이용해 작성\n",
    "- 배열 요소 자료형 : 제약 X\n",
    "- length 속성을 이용해 몇개 담겨있는지 알 수 있음"
   ]
  },
  {
   "cell_type": "markdown",
   "metadata": {},
   "source": [
    "배열 주요 메서드\n",
    "- push / pop => 배열 끝 요소 추가 / 제거\n",
    "- unshift / shift => 배열 앞 요소 추가 / 제거"
   ]
  },
  {
   "cell_type": "markdown",
   "metadata": {},
   "source": [
    "Array Helper Methods\n",
    "- 배열을 순회하며 특정 로직을 수행하는 메서드\n",
    "- 메서드 호출 시 인자로 함수를 받음\n",
    "- forEach : 인자로 주어진 함수(콜백함수)를 배열 요소 각각에 대해 실행\n",
    "- map : 배열 내의 모든 요소 각각에 대해 함수(콜백함수) 호출, 결과를 배열로 반환"
   ]
  },
  {
   "cell_type": "markdown",
   "metadata": {},
   "source": [
    "forEach\n",
    "- arr.forEach(callback(item[, index[, array]]))\n",
    "- 콜백함수는 3가지 매개 변수\n",
    "    - item : 처리할 배열의 요소\n",
    "    - index : 처리할 배열 요소의 인택스(선택인자)\n",
    "    - array : forEach를 호출한 배열(선택인자)\n",
    "- 반환값 : undefined"
   ]
  },
  {
   "cell_type": "markdown",
   "metadata": {},
   "source": [
    "map\n",
    "- arr.map(callback(item[, index[, array]]))\n",
    "    - item : 처리할 배열의 요소\n",
    "    - index : 처리할 배열 요소의 인덱스(선택인자)\n",
    "    - array : map을 호출한 배열(선택인자)\n",
    "- 반환값 : 배열의 각 요소에 대해 실행한 'callback의 결과를 모은 새로운 배열'"
   ]
  },
  {
   "cell_type": "markdown",
   "metadata": {},
   "source": [
    "콜백함수를 사용하는 이유\n",
    "- 함수를 재사용 하기 쉽다\n",
    "- 비동기적 처리 측면(병렬적 처리)"
   ]
  }
 ],
 "metadata": {
  "language_info": {
   "name": "python"
  }
 },
 "nbformat": 4,
 "nbformat_minor": 2
}
