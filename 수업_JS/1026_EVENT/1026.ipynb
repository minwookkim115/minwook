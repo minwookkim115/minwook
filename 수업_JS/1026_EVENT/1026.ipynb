{
 "cells": [
  {
   "cell_type": "markdown",
   "metadata": {},
   "source": [
    "이벤트\n",
    "- 웹에서는 이벤트를 통해 특정 동작을 수행한다.\n",
    "- 무언가 일어났다는 신호, 사건\n",
    "- 모든 DOM 요소는 이러한 event를 만들어 냄\n",
    "- DOM 요소는 event를 받고 받은 event를 event handler를 통해 처리 가능\n",
    "    - DOM에다가 처리기를 부착시킴\n",
    "- DOM에서 이벤트가 발생했을 때 event object가 생성\n",
    "- 이벤트 종류\n",
    "    - mouse, input, keyboard, touch 등등\n",
    "    - ※ js event API 검색"
   ]
  },
  {
   "cell_type": "markdown",
   "metadata": {},
   "source": [
    "event handler\n",
    "- 이벤트가 발생했을 때 실행되는 함수\n",
    "- 사용자의 행동에 어떻게 반응할지를 JavaScript 코드로 표현한 것"
   ]
  },
  {
   "cell_type": "markdown",
   "metadata": {},
   "source": [
    ".addEventListener()\n",
    "- 특정 이벤트를 DOM 요소가 수신할 때마다 콜백 함수를 호출\n",
    "- EventTarget.addEventListener(type, handler)\n",
    "- DOM 요소.addEventListener(수신할 이벤트, 콜백함수)\n",
    "- 대상에.addEventListener(Event가 발생하면, 이벤트를 받아 할일을 등록한다)\n",
    "- type\n",
    "    - 수신할 이벤트 이름\n",
    "    - 문자열로 작성 ex) 'click'\n",
    "- handler\n",
    "    - 발생한 이벤트 객체를 수신하는 콜백 함수\n",
    "    - 콜백 함수는 발생한 Event object를 유일한 매개변수로 받음"
   ]
  },
  {
   "cell_type": "markdown",
   "metadata": {},
   "source": [
    "버블링\n",
    "- 한 요소에 이벤트가 발생하면, 이 요소에 할당된 핸들러가 동작하고, 이어서 부모 요소의 핸들러가 동작하는 현상\n",
    "- 가장 최상단의 조상요소(document)를 만날 때까지 이 과정이 반복되면서 요소 각각에 할당된 핸들러가 동작\n",
    "- 장점\n",
    "    - "
   ]
  },
  {
   "cell_type": "markdown",
   "metadata": {},
   "source": [
    "So => 이벤트가 정확히 어디서 발생했는지 접근할 수 있는 방법\n",
    "- event.target\n",
    "- event.currentTarget"
   ]
  },
  {
   "cell_type": "markdown",
   "metadata": {},
   "source": [
    "target & currentTarget\n",
    "- target\n",
    "    - 이벤트가 발생한 가장 안쪽의 요소를 참조하는 속성\n",
    "    - 실제 이벤트가 시작된 target요소\n",
    "    - 버블링이 진행 되어도 변하지 않음\n",
    "- currentTarget\n",
    "    - '현재'요소\n",
    "    - 항상 이벤트 핸들러가 연결된 요소만을 참조하는 속성\n",
    "    - 'this'와 같음"
   ]
  }
 ],
 "metadata": {
  "language_info": {
   "name": "python"
  }
 },
 "nbformat": 4,
 "nbformat_minor": 2
}
