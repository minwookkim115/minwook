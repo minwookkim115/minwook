{
 "cells": [
  {
   "cell_type": "markdown",
   "metadata": {},
   "source": [
    "Ajax => Asynchronous JavaScript + XML(현재는 XHR / JSON)\n",
    "- JavaScript의 비동기 구조와 XML 객체를 활용해 비동기적으로 서버와 통신하여 웹 페이지의 일부분만을 업데이트하는 웹 개발 기술"
   ]
  },
  {
   "cell_type": "markdown",
   "metadata": {},
   "source": [
    "Ajax를 활용한 클라이언트 서버 간 동작\n",
    "- 이벤트 발생(클라이언트)\n",
    "- XML(XHR) 객체 생성 및 요청(클라이언트)\n",
    "- Ajax 요청 처리(서버)\n",
    "- 응답 데이터 생성(서버) => HTML같은 문서가 아니야\n",
    "- JSON 데이터 응답(서버)\n",
    "- 응답 데이터를 활용해 DOM 조작(클라이언트)"
   ]
  }
 ],
 "metadata": {
  "language_info": {
   "name": "python"
  }
 },
 "nbformat": 4,
 "nbformat_minor": 2
}
