{
 "cells": [
  {
   "cell_type": "markdown",
   "metadata": {},
   "source": [
    "info.cern.ch - 최소 웹?"
   ]
  },
  {
   "cell_type": "markdown",
   "metadata": {},
   "source": [
    "1990 웹 탄생\n",
    "- WWW, 하이퍼 텍스트 시스템 => 팀 버너리스 경 고안\n",
    "- ULR, HTTP 최초 설계 및 구현\n",
    "- 정적인 텍스트 페이지만 지원\n",
    "1993 웹 브라우저 대중화\n",
    "- Netcsape Navigator 출시\n",
    "- 당시 90퍼 이상의 시장 점유율\n",
    "1995 JavaScript의 탄생\n",
    "- Netscape 의 Brandon Eich가 스트립트 언어 Mocha개발\n",
    "- JAVA가 인기 있어서 JavaScript로 이름 변경\n",
    "1996 JavaScript 파편화\n",
    "- Microsoft가 인터넷 익스플로러 3.0 에 JavaScript와 유사한 JScript 도입\n",
    "- 회사들이 자체적으로 JavaScript를 변경하여 브라우저에 탑재\n",
    "1995~2001 1차브라우저 전쟁\n",
    "- Netscape랑 Mircosoft랑 싸웠는데 Microsoft가 이기고\n",
    "- Netscape에서 Firefox 브라우저 출시\n",
    "- 웹 표준이 없어서 자체 표준을 확립하려고 함\n",
    "1997 ECMAScript출시\n",
    "- JavaScript 파편화를 막기 위해 ECMAScript라는 표준언어를 정의\n",
    "- 이때 부터 JavaScript가 ECMAScript 표준에 기반을 두고 발전하기 시작\n",
    "2004~2017 2차 브라우저 전쟁\n",
    "- 인터넷 익스플로러 vs 파이어 폭스 vs 크롬\n",
    "- 크롬 출시 3년 만에 파이어 폭스 넘고 그로부터 반년뒤 인터넷 익스플로러 점유율 이김\n",
    "- 크롬이 웹 표준을 가장 잘 지킨 웹이라서 1위가 돼버림\n",
    "- 웹 표준이 중요하구나 느끼게 되고 웹이 발전하기 시작됨"
   ]
  },
  {
   "cell_type": "markdown",
   "metadata": {},
   "source": [
    "ECMAScript\n",
    "- Ecma Internationsl(정보와 통신에 대해 국제적 표준을 제공하는 기구)\n",
    "- 1997년 이후 표준화된 스크립트 언어를 명세하고\n",
    "- 스크립트 언어가 준수해야 하는 규칙, 세부사항 등을 제공함"
   ]
  },
  {
   "cell_type": "markdown",
   "metadata": {},
   "source": [
    "ECMAScript와 JavaScript\n",
    "- JavaScript는 ECMAScript 표준을 구현한 구체적 프로그래밍 언어\n",
    "- ECMAScript 명세를 기반으로 하여 웹 브라우저나 Node.js와 같은 환경에서 실행됨\n",
    "- JavaScript가 ECMAScript표준을 기반으로 구현한 언어"
   ]
  },
  {
   "cell_type": "markdown",
   "metadata": {},
   "source": [
    "JavaScript의 현재\n",
    "- 현재는 Chrome, Firefox, safari, Microsoft Edge 등 다양한 웹브라우저가 출시\n",
    "- 기존에 JavaScript는 브라우저에서만 웹 페이지의 동적인 기능을 구현하는데만 사용\n",
    "    - ex) 사용자의 입력에 따라 웨페이지의 내용이 동적으로 변경, 애니메이션 효과\n",
    "- 이후 브라우저에서 벗어나 Nods.js와 같은 서버 사이드 분야, 다양한 프레임워크 라이브러리들이 개발되면서 필수적인 언어가 됨"
   ]
  },
  {
   "cell_type": "markdown",
   "metadata": {},
   "source": [
    "DOM\n",
    "- ※ JavaScript의 근본적 역할은 html을 조작\n",
    "- 웹 브라우저에서의 JavaScript\n",
    "- 웹 페이지의 동적인 기능을 구현\n",
    "- The Documnet Object Model\n",
    "    - => html 웹 페이지를 객체로 보겠다.\n",
    "    - why => 문서를 조작을해야 하는데 조작을 하려면 선택을 해야한다.\n",
    "- 웹 페이지를 구조화 된 객체로 제공하여 프로그래밍 언어가 페이지 구조에 접근할 수 있는 방법을 제공\n",
    "- 문서 구조, 스타일, 내용 등을 변경할 수 있도록 함"
   ]
  },
  {
   "cell_type": "markdown",
   "metadata": {},
   "source": [
    "DOM 특징\n",
    "- DOM에서 모든 요소, 속성, 텍스트는 하나의 객체\n",
    "- 모두 document 객체의 자식으로 구성됨"
   ]
  },
  {
   "cell_type": "markdown",
   "metadata": {},
   "source": [
    "DOM tree\n",
    "- 브라우저는 HTML 문서를 해석하여 DOM tree라는 객체 트리로 구조화\n",
    "- 객체 간 상속 구조가 존재한다.\n",
    "- CSS 선택자 문법으로 객체를 선택한다."
   ]
  },
  {
   "cell_type": "markdown",
   "metadata": {},
   "source": [
    "DOM 핵심\n",
    "- 문서의 요소들을 객체로 제공하여 다른 프로그래밍 언어에서 접근하고 조작할 수 있는 방법을 제공하는 API"
   ]
  },
  {
   "cell_type": "markdown",
   "metadata": {},
   "source": [
    "document 객체\n",
    "- 웹페이지 객체\n",
    "- DOM Tree의 진입점\n",
    "- 페이지를 구성하는 모든 객체 요소를 포함"
   ]
  },
  {
   "cell_type": "markdown",
   "metadata": {},
   "source": [
    "DOM 조작 시 기억해야 할 것\n",
    "- 웹 페이지를 동적으로 만들기 == 웹페이지를 조작하기\n",
    "- 조작 순서\n",
    "    - 조작 하고자 하는 요소를 선택(또는 탐색)\n",
    "    - 선택된 요소의 콘텐츠를 또는 속성을 조작"
   ]
  },
  {
   "cell_type": "markdown",
   "metadata": {},
   "source": [
    "선택 메서드\n",
    "- document.querySelector() => 단일 선택\n",
    "- document.querySelectorAll() => 다중 선택"
   ]
  },
  {
   "cell_type": "markdown",
   "metadata": {},
   "source": [
    "document.querySelector(selector(CSS선택자 드감))\n",
    "- 제공한 선택자와 일치하는 element 한 개 선택\n",
    "- 여러개 있으면 첫 번째 element 객체를 반환"
   ]
  },
  {
   "cell_type": "markdown",
   "metadata": {},
   "source": [
    "document.querySelectorAll(selector(CSS선택자 드감))\n",
    "- 제공한 선택자와 일치하는 여러 element를 선택\n",
    "- CSS selector를 만족하는 NodeList를 반환"
   ]
  },
  {
   "cell_type": "markdown",
   "metadata": {},
   "source": [
    "DOM 조작 => 속성 조작\n",
    "- 클래스 속성 조작\n",
    "    - 'classList' property\n",
    "    - 요소의 클래스 목록을 DOMTokenList(유사배열) 형태로 변환\n",
    "    - element.classList.add() \n",
    "        - 지정한 클래스 값 추가\n",
    "    - element.classList.remove()\n",
    "        - 지정한 클래스 값 제거\n",
    "    - element.classList.toggle()\n",
    "        - 클래스가 존재하면 제거하고 false\n",
    "        - 클래스가 존재하지 않으면 추가하고 true\n",
    "- 일반 속성 조작\n",
    "    - Element.getAttribute()\n",
    "        - 해당 요소에 지정된 값 반환\n",
    "    - Element.setAttruibute(name, value)\n",
    "        - 지정된 요소의 속성 값 설정\n",
    "        - 속성이 이미 있으면 기존값 갱신\n",
    "        - 속성 없으면 지정된 이름과 값으로 새 속성 추가\n",
    "    - Element.removeAttribute()\n",
    "        - 요소에서 지정된 이름을 가진 속성제거"
   ]
  },
  {
   "cell_type": "markdown",
   "metadata": {},
   "source": [
    "HTML 콘텐츠 조작\n",
    "- 'textContent' property\n",
    "- h1Tag.textContent = '내용수정'\n",
    "- 의 방식으로 수정"
   ]
  },
  {
   "cell_type": "markdown",
   "metadata": {},
   "source": [
    "DOM 조작 => 요소 조작\n",
    "- document.createElement(tagName)\n",
    "    - 작성한 tagName의 HTML 요소를 생성하여 반환\n",
    "- Node.appendChild()\n",
    "    - 한 Node를 특정 부모 Node의 자식 NodeList중 마지막 자식으로 삽입\n",
    "    - 추가된 Node 객체를 반환\n",
    "- Node.removeChild()\n",
    "    - DOM에서 자식 Node를제거\n",
    "    - 제거된 Node를 반환"
   ]
  },
  {
   "cell_type": "markdown",
   "metadata": {},
   "source": [
    "DOM 조작 => style 조작\n",
    "- 'style' property\n",
    "- pTag.style.color = 'crimson'\n",
    "- pTag.sytle.fontSize = '2rem'\n",
    "- pTag.style.border = '1px solid black'\n",
    "- 등의 방식으로 수정"
   ]
  }
 ],
 "metadata": {
  "language_info": {
   "name": "python"
  }
 },
 "nbformat": 4,
 "nbformat_minor": 2
}
