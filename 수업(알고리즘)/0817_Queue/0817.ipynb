{
 "cells": [
  {
   "cell_type": "markdown",
   "metadata": {},
   "source": [
    "큐(Queue)\n",
    "- 삽입과 삭제가 제한적인 자료구조\n",
    "- 선입선출\n",
    "- front => 머리(처음) / 마지막 삭제 위치 / Q.pop(0)\n",
    "- rear => 꼬리(마지막) / 마지막 저장 위치\n",
    "- front와 rear가 같은 경우\n",
    "    - 시작(-1) / 리스트 Q가 모두 반환 되었을 때"
   ]
  },
  {
   "cell_type": "markdown",
   "metadata": {},
   "source": []
  }
 ],
 "metadata": {
  "language_info": {
   "name": "python"
  },
  "orig_nbformat": 4
 },
 "nbformat": 4,
 "nbformat_minor": 2
}
