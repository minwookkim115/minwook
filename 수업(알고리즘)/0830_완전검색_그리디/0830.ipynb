{
 "cells": [
  {
   "cell_type": "markdown",
   "metadata": {},
   "source": [
    "반복과 재귀\n",
    "- 재귀는 반복문처럼 해석x\n",
    "- 각 함수를 호출하면서 return값을 잘보자"
   ]
  },
  {
   "cell_type": "markdown",
   "metadata": {},
   "source": [
    "- List, tree 등에서 재귀적 구현이 간단한 경우가 많음\n",
    "- 재귀는 반복보다 더 많은 메모리와 연산\n",
    "- 입력값이 커질수록 재귀는 반복보다 비효율적일 수 있음"
   ]
  },
  {
   "cell_type": "markdown",
   "metadata": {},
   "source": [
    "완전 검색 기법\n",
    "- 특정 조건을 만족하는 경우나 요소를 찾는 것\n",
    "- 순열, 조합, 부분집합 같은 조합적 문제들\n",
    "- 조합적 문제에 대한 brute-foce 방법\n",
    "- 순열을 만들 수 있어야함."
   ]
  },
  {
   "cell_type": "markdown",
   "metadata": {},
   "source": [
    "순열\n",
    "- 서로 다른 것들 중 몇개를 뽑아서 한줄로 나열"
   ]
  },
  {
   "cell_type": "markdown",
   "metadata": {},
   "source": [
    "부분집합\n",
    "- 집합에 포함된 원소 선택\n",
    "- 바이너리 카운팅\n",
    "    - 비트를 이용해서 1이면 포함 0이면 미포함"
   ]
  }
 ],
 "metadata": {
  "language_info": {
   "name": "python"
  },
  "orig_nbformat": 4
 },
 "nbformat": 4,
 "nbformat_minor": 2
}
