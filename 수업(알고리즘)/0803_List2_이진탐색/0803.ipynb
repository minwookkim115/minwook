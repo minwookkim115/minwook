{
 "cells": [
  {
   "cell_type": "markdown",
   "metadata": {},
   "source": [
    "부분집합 생성"
   ]
  },
  {
   "cell_type": "code",
   "execution_count": null,
   "metadata": {},
   "outputs": [],
   "source": [
    "#    1/0 1/0 1/0 1/0\n",
    "bit = [0, 0, 0, 0]\n",
    "for i in range(2):\n",
    "    bit[0] = i\n",
    "    for j in range(2):\n",
    "        bit[1] = j\n",
    "        for k in range(2):\n",
    "            bit[2] = k\n",
    "            for l in range(2):\n",
    "                bit[3] = l\n",
    "                \n",
    "\n",
    "# [0000], [0001], [0010], [0011], []"
   ]
  },
  {
   "cell_type": "markdown",
   "metadata": {},
   "source": [
    "비트 연산자\n",
    "- '&' = AND 연산자 / 여러개의 비트의 각 자리를 비교 / 각자리에 1인가 아닌가를 검사\n",
    "- '|' = OR 연산자 / 여러개의 비트의 각 자리를 비교\n",
    "- '<<' = 피연산자의 비트 열을 왼쪽 이동 (원본 손상 없이 고스란히 민다)\n",
    "- '>>' = 피연산자의 비트 열을 오른쪽 이동 (밀린 자리는 0으로 채움)\n",
    "- 2**n => n번 비트가 1인 값\n",
    "\n",
    "- 3 = 11 / 6 = 110 / 12 = 1100\n",
    "- '<<' : 1 << n 하면 n *2 가 됨\n",
    "- x << n : x * 2**n"
   ]
  },
  {
   "cell_type": "markdown",
   "metadata": {},
   "source": [
    "검색\n",
    "- **이진검색** 중요 / 배열의 활용 연습"
   ]
  },
  {
   "cell_type": "markdown",
   "metadata": {},
   "source": [
    "순차 검색\n",
    "- 정렬x\n",
    "    - 검색 실패 때 끝까지 가야함\n",
    "- 정렬o\n",
    "    - 검색 실패 때 더 큰 수가 나오면 끝"
   ]
  },
  {
   "cell_type": "markdown",
   "metadata": {},
   "source": [
    "이진 검색\n",
    "- 자료의 가운데 항목 키 값과 비교하여 다음 검색의 위치를 결정, 검색을 진행\n",
    "- 키를 찾을 때 까지 순환적으로 반복 수행\n",
    "- 검색 범위를 반으로 줄여가면서 빠르게 검색 수행\n",
    "- 자료가 정렬된 상태에서 수행해야 한다.\n",
    "\n",
    "- 검색과정\n",
    "    - 중앙 원소를 고름\n",
    "    - 중앙 원소가 키면 끝\n",
    "    - 키가 중앙 보다 작으면 왼쪽 반 검색 / 크면 오른쪽 반 검색"
   ]
  },
  {
   "cell_type": "markdown",
   "metadata": {},
   "source": [
    "버블 정렬\n",
    "- 정렬 과정\n",
    "    - 리스트의 앞에서부터 다음 항목을 비교하여 크면 뒤로 보냄\n",
    "\n",
    "선택 정렬\n",
    "- 정렬 과정\n",
    "    - 리스트에서 최소값 찾는다\n",
    "    - 리스트의 맨 앞에 위치한 값과 교환\n",
    "    - 맨 처음을 제외하고 나머지 반복\n",
    "- 시간 복잡도 O(n**2)"
   ]
  },
  {
   "cell_type": "markdown",
   "metadata": {},
   "source": [
    "최대값 최소값은 인덱스만 가지고 놀다가 나중에 인덱스에 있는 최대값 최소값을 찾아라"
   ]
  }
 ],
 "metadata": {
  "language_info": {
   "name": "python"
  },
  "orig_nbformat": 4
 },
 "nbformat": 4,
 "nbformat_minor": 2
}
