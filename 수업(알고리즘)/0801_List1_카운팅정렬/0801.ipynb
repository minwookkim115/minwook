{
 "cells": [
  {
   "cell_type": "markdown",
   "metadata": {},
   "source": [
    "배열\n",
    "- 크기가 고정된 저장공간\n",
    "- Arr = [0] * 10 => 10개짜리 list를 준비해 둔다."
   ]
  },
  {
   "cell_type": "markdown",
   "metadata": {},
   "source": [
    "정렬\n",
    "- 2개 이상의 자료를 특정 기준에 의해 재배열 하는 것, 오름차순 또는 내림차순으로\n",
    "- **※ 원소의 자리를 정해준다**\n",
    "- 안정 정렬 : 숫자뿐 아니라 그 안에 자료도 그대로 정렬\n",
    "- 불안정 정렬 : 막 섞여서 정렬\n",
    "키\n",
    "- 자료를 정렬하는 기준이 되는 값, 원소"
   ]
  },
  {
   "cell_type": "markdown",
   "metadata": {},
   "source": [
    "버블 정렬\n",
    "- 인접한 두개의 원소를 비교하며 자리를 계속 교환하는 방식\n",
    "\n",
    "정렬 과정\n",
    "- 첫 번째 원소부터 인접한 원소끼리 자리를 교환하면서 마지막 자리까지 이동\n",
    "- 한 단계가 끝나면 가장 큰 원소가 마지막 자리로 정렬\n",
    "\n",
    "시간 복잡도\n",
    "- O(n**2)"
   ]
  },
  {
   "cell_type": "markdown",
   "metadata": {},
   "source": [
    "카운팅 정렬\n",
    "- 집합에 각 항목이 몇 개씩 있는지 세는 작업을 통해 정렬\n",
    "\n",
    "제한사항\n",
    "- 정수나 정수로 표현할수 있는 자료만 적용 가능\n",
    "- 항목의 발생 회수를 기록하기 위해 정수 항목으로 인덱스 되는 카운트들의 배열을 사용하기 때문\n",
    "\n",
    "시간 복잡도\n",
    "- O(n+k) n => DATA의 크기 / k => COUNTS의 크기(정수의 최대값)"
   ]
  },
  {
   "cell_type": "markdown",
   "metadata": {},
   "source": [
    "알고리즘 풀 때는\n",
    "- 사람은 감으로 볼수 있지만 컴터는 못본다.\n",
    "- 앞에서부터, 밑에서부터 차근차근 확인해라"
   ]
  },
  {
   "cell_type": "markdown",
   "metadata": {},
   "source": [
    "카운팅 정렬\n",
    "\n",
    "시간 복잡도\n",
    "O(n+k) n => DATA의 크기 / k => COUNTS의 크기\n",
    "\n",
    "for i : 1 -> 4\n",
    "COUNTS[i] += COUNTS[i-1]\n",
    "\n",
    "주어진 배열에 마지막 원소부터 접근\n",
    "\n",
    "스테이블 정렬\n",
    "\n",
    "숫자단독이면 똑같지만\n",
    "(1,3) (1,2) (1,1) 같이 있으면 달라질 수 있음."
   ]
  },
  {
   "cell_type": "code",
   "execution_count": null,
   "metadata": {},
   "outputs": [],
   "source": [
    "# 1, 2, 3 을 포함하는 모든 순열을 생성하는 함수\n",
    "\n",
    "for i1 in range(1, 4):\n",
    "    for i2 in range(1, 4):\n",
    "        if i2 != i1:\n",
    "            for i3 in range(1, 4):\n",
    "                if i3 != i1 and i3 != i2:\n",
    "                    print(i1, i2, i3)"
   ]
  },
  {
   "cell_type": "code",
   "execution_count": null,
   "metadata": {},
   "outputs": [],
   "source": [
    "num = 456789 # Baby Gin 확인할 6자리 수\n",
    "c = [0] * 12 # 9로 하면 9번째 자리에서 Run 조사하기 힘드니까 걍 12\n",
    "\n",
    "for i in range(6):\n",
    "    \n",
    "    c[num % 10] += 1 # 1의자리 10으로 나눈 나머지에 +\n",
    "    num //= 10 # 45678, 4567, 456, 45, 4\n",
    "\n",
    "print(c)\n",
    "\n"
   ]
  },
  {
   "cell_type": "code",
   "execution_count": 9,
   "metadata": {},
   "outputs": [
    {
     "name": "stdout",
     "output_type": "stream",
     "text": [
      "Baby Gin\n"
     ]
    }
   ],
   "source": [
    "i = 0\n",
    "tri = run = 0\n",
    "while i < 10:\n",
    "    if c[i] >= 3: # triplete 조사 후 데이터 삭제\n",
    "        c[i] -= 3\n",
    "        tri += 1\n",
    "        continue\n",
    "    if c[i] >= 1 and c[i+1] >= 1 and c[i+2] >=1 : # run 조사 후 데이터 삭제\n",
    "        c[i] -= 1\n",
    "        c[i+1] -= 1\n",
    "        c[i+2] -= 1\n",
    "        run += 1\n",
    "        continue\n",
    "    i += 1\n",
    "\n",
    "if run + tri == 2 : print(\"Baby Gin\")\n",
    "else: print(\"Lose\")"
   ]
  }
 ],
 "metadata": {
  "kernelspec": {
   "display_name": "Python 3",
   "language": "python",
   "name": "python3"
  },
  "language_info": {
   "codemirror_mode": {
    "name": "ipython",
    "version": 3
   },
   "file_extension": ".py",
   "mimetype": "text/x-python",
   "name": "python",
   "nbconvert_exporter": "python",
   "pygments_lexer": "ipython3",
   "version": "3.9.13"
  },
  "orig_nbformat": 4
 },
 "nbformat": 4,
 "nbformat_minor": 2
}
