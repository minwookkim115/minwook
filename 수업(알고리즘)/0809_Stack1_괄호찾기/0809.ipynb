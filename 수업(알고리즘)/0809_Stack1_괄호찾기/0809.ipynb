{
 "cells": [
  {
   "cell_type": "markdown",
   "metadata": {},
   "source": [
    "스택의 특성\n",
    "- 물건을 쌓아 올리듯 자료를 쌓아 올린 형태\n",
    "- 스택은 선형 구조\n",
    "    - 선형 구조 => 자료 간의 관계가 1대1\n",
    "    - 비선형 구조 => 자료 간의 관계가 1대N\n",
    "- 마지막에 삽입한 자료를 먼저 꺼낸다 => 후입 선출\n",
    "\n",
    "스택을 구현하기 위해 필요한 자료구조와 연산\n",
    "- 자료구조\n",
    "    - 배열 사용 가능\n",
    "    - 마지막 삽입된 원소 위치를 TOP, SP(STACK POINTER)\n",
    "- 연산\n",
    "    - 삽입 : 저장소에 자료 저장 , 보통 push\n",
    "    - 삭제 : 저장소에서 자료 꺼냄, 꺼낸 자료는 삽입한 자료의 역순으로, 보통 pop\n",
    "    - 스택이 공백인지 아닌지 확인 : isEmpty\n",
    "    - 스택의 top에 있는 원소(item) 반환 : peek\n",
    "\n",
    "스택의 구현 방법\n",
    "- 크기를 정해둔 스택\n",
    "- 인덱스로 접근\n",
    "- top = -1 로 초기화 => 처음 가르키는 인덱스가 0이니까 -1 에서 초기화\n",
    "\n",
    "스택을 이용한 괄호 검사\n",
    "- 같은 괄호만 들어있을 때\n",
    "    - 여는 괄호를 만나면 일단 push 한다.\n",
    "    - 닫는 괄호를 만나면 pop하고\n",
    "    - 여는 괄호 만나면 다시 push 닫는 괄호는 pop\n",
    "    - 괄호가 이제 없는데(수식이 끝났는데) 스택에 괄호가 남아있으면 오류\n",
    "    - ▲ isEmpty() => False ▲\n",
    "    - 닫는 괄호가 남았는데 스택이 비어있으면 오류\n",
    "    - 여는 괄호(pop한 데이터)가 다른경우 ex) ( }"
   ]
  },
  {
   "cell_type": "markdown",
   "metadata": {},
   "source": [
    "재귀호출\n",
    "- 반복문 아니유\n",
    "- 서로 다른 함수를 호출한다고 생각해유\n",
    "- 그래서 서로 다른 영역(스택)을 사용해유\n",
    "- 팩토리얼을 생각 해봐유 (대표적인 예시지만 실제 팩토리얼에선 재귀 안써유)\n",
    "- fact(4) = fact(3) * 4\n",
    "- fact(3) = fact(2) * 3\n",
    "- fact(2) = fact(1) * 2\n",
    "- fact(1) = return 1"
   ]
  }
 ],
 "metadata": {
  "kernelspec": {
   "display_name": "Python 3",
   "language": "python",
   "name": "python3"
  },
  "language_info": {
   "codemirror_mode": {
    "name": "ipython",
    "version": 3
   },
   "file_extension": ".py",
   "mimetype": "text/x-python",
   "name": "python",
   "nbconvert_exporter": "python",
   "pygments_lexer": "ipython3",
   "version": "3.9.13"
  },
  "orig_nbformat": 4
 },
 "nbformat": 4,
 "nbformat_minor": 2
}
