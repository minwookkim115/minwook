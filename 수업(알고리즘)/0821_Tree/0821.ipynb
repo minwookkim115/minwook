{
 "cells": [
  {
   "cell_type": "markdown",
   "metadata": {},
   "source": [
    "트리\n",
    "- 한 개 이상의 노드로 이루어진 유한집합\n",
    "- 트리를 떼어내서 부트리(subtree)로 만들기 가능"
   ]
  },
  {
   "cell_type": "markdown",
   "metadata": {},
   "source": [
    "- 루트 : 최상위 노드\n",
    "- 리프노드(단말노드) : 자식노드가 없는 노드\n",
    "- 노드의 레벨(높이) : 루트에서 노드까지 간선의 수"
   ]
  }
 ],
 "metadata": {
  "language_info": {
   "name": "python"
  },
  "orig_nbformat": 4
 },
 "nbformat": 4,
 "nbformat_minor": 2
}
