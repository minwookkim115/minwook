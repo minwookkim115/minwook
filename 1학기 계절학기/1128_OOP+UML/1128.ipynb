{
 "cells": [
  {
   "cell_type": "markdown",
   "metadata": {},
   "source": [
    "Coupling\n",
    "- => 어떤 모듈이 다른 모듈에 의존하는 정도\n",
    "- 어떤 객체가 다른 객체를 이용해서 나의 동작을 만든다\n",
    "- => 객체끼리 의존(이용)한다."
   ]
  },
  {
   "cell_type": "markdown",
   "metadata": {},
   "source": [
    "클래스에서 의존\n",
    "- A 클래스가 B 클래스에 도움을 받으며 동작될 때,\n",
    "- A 클래스는 B 클래스가 없으면 안되는 상황이 된다.\n",
    "- 이때 A 클래스는 B 클래스를 의존한다. 라고 표현한다.\n",
    "- => B가 바뀌면 A가 바뀔 가능성이 높다."
   ]
  },
  {
   "cell_type": "markdown",
   "metadata": {},
   "source": [
    "Realization\n",
    "- 구현화\n",
    "- Interface 를 실제로 구현\n",
    "\n",
    "Generalization\n",
    "- 일반화\n",
    "- 공통적인것을 추출하여 분류를 만들어 냄\n",
    "\n",
    "그 외\n",
    "- Dependncy(일시적으로)\n",
    "- Association(지속적으로)\n",
    "- Aggregation\n",
    "- Composition"
   ]
  },
  {
   "cell_type": "markdown",
   "metadata": {},
   "source": [
    "Dependency\n",
    "- 외부 클래스를 사용하는 관계\n",
    "\n",
    "3가지 형태\n",
    "- Local => 클래스 안에서만 사용\n",
    "- Parameter => 인자로 받아서 잠깐 사용, 따로 정의를 해두고 밖에서 정해줌 뭐를 쓸지\n",
    "- Factory => return / 가상의 생성자를 만든다\n"
   ]
  },
  {
   "cell_type": "markdown",
   "metadata": {},
   "source": [
    "Association\n",
    "- 다른 클래스를 사용하는데, 참조를 유지 하는 방식\n",
    "- Has a 관계 => Has a 관계에서, 소유 정도가 다르다"
   ]
  }
 ],
 "metadata": {
  "language_info": {
   "name": "python"
  }
 },
 "nbformat": 4,
 "nbformat_minor": 2
}
