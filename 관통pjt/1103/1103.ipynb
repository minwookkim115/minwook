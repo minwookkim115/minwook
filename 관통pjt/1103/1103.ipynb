{
 "cells": [
  {
   "cell_type": "markdown",
   "metadata": {},
   "source": [
    "테스트\n",
    "- 원하는 기능이 모두 구현되었는지 확인하고, 숨겨져있는 결함을 찾는 활동\n",
    "- 여러가지 도구들을 활용하여 버그를 찾아내고 신뢰성, 보안, 성능 등을 검증하는 중요한 단계"
   ]
  }
 ],
 "metadata": {
  "language_info": {
   "name": "python"
  }
 },
 "nbformat": 4,
 "nbformat_minor": 2
}
