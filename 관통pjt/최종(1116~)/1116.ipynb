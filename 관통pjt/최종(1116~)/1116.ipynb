{
 "cells": [
  {
   "cell_type": "markdown",
   "metadata": {},
   "source": [
    "아이디어 브레인 스토밍\n",
    "일정 및 업무 분담\n",
    "- 노션, 구글 공유 드라이브\n",
    "- github(약식으로만 할거야, 나중에 더 만들고 싶어)\n",
    "    - 원래는 잘 안쓰이는 방식, 문서가 많이 없기 때문에 괜찮습니다.\n",
    "    - action, issue 기능들 써보는 것\n",
    "\n",
    "코드 공유\n",
    "- github, gitlab\n",
    "\n",
    "프론트엔드\n",
    "- 컴포넌트 구조도\n",
    "- UI/UX 설계서\n",
    "    - Figma\n",
    "\n",
    "백엔드\n",
    "- ERD\n",
    "    - drawio, erdcloud\n",
    "    - sqlite3 - ERD 자동 생성 도구도 있음\n",
    "        - 비추\n",
    "        - 미리 회의 + 직접 그리고 나서 진행할 것!!\n",
    "\n",
    "디자인\n",
    "- 벤치마킹\n",
    "- 표절 X\n",
    "\n",
    "https://married-spot-253.notion.site/5fef18bbcd4b467fb8c7ed819250e1e8?v=a733fb954f0f4845b1ef97b92ddab480"
   ]
  }
 ],
 "metadata": {
  "language_info": {
   "name": "python"
  }
 },
 "nbformat": 4,
 "nbformat_minor": 2
}
