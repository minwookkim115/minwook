{
 "cells": [
  {
   "cell_type": "markdown",
   "metadata": {},
   "source": [
    "axios를 활용해 데이터 가져오기\n",
    "params는 / 1,2,3 처럼 쓴다\n",
    "query는 ?id=2 처럼 쓴다"
   ]
  },
  {
   "cell_type": "markdown",
   "metadata": {},
   "source": [
    "장바구니 구현할 때 임시로 데이터를 저장할 공간이 필요해\n",
    "브라우저의 스토리지 로컬스토리지에다가 저장할거에유\n",
    "Local Storage\n",
    "- 반영구적으로 브라우저에 저장할 수 있는 공간\n",
    "    - 브라우저를 껐다켜도 데이터가 유지된다.\n",
    "- 5MB 정도의 데이터를 저장할 수 있다.\n",
    "    - 쿠키(4kb)보다 많은 데이터를 저장할 수 있다.\n",
    "- 보안위험이 있다.\n",
    "    - 최대한 위험 수준이 낮은 데이터만 저장해야 한다.\n",
    "- value에는 무조건 문자열만 저장 가능\n",
    "\n",
    "브라우저 쪽에 임시로 저장하고 싶은 데이터가 있는데 보안수준이 낮다?\n",
    "- => 로컬 스토리지를 사용하랑께"
   ]
  }
 ],
 "metadata": {
  "language_info": {
   "name": "python"
  }
 },
 "nbformat": 4,
 "nbformat_minor": 2
}
