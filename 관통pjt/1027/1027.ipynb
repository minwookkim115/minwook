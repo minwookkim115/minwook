{
 "cells": [
  {
   "cell_type": "markdown",
   "metadata": {},
   "source": [
    "DRF\n",
    "- 화면 나타내는 templates가 없어지고, JSON이 생김"
   ]
  },
  {
   "cell_type": "markdown",
   "metadata": {},
   "source": [
    "REST\n",
    "- 약속\n",
    "- 1. URL 식별자만 표시하자(행동을 쓰지 말자)\n",
    "- 2. HTTP Method로 표기하자\n",
    "    - /article/(GET, POST)\n",
    "    - /article/\\<int:pk\\>(GET, PUT, DELETE)"
   ]
  },
  {
   "cell_type": "markdown",
   "metadata": {},
   "source": [
    "weatherapi-key"
   ]
  }
 ],
 "metadata": {
  "language_info": {
   "name": "python"
  }
 },
 "nbformat": 4,
 "nbformat_minor": 2
}
